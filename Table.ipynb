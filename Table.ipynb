{
  "nbformat": 4,
  "nbformat_minor": 0,
  "metadata": {
    "colab": {
      "name": "Table.ipynb",
      "provenance": [],
      "authorship_tag": "ABX9TyNg5gPvgtC6YrQjLQu84gY1",
      "include_colab_link": true
    },
    "kernelspec": {
      "name": "python3",
      "display_name": "Python 3"
    },
    "language_info": {
      "name": "python"
    }
  },
  "cells": [
    {
      "cell_type": "markdown",
      "metadata": {
        "id": "view-in-github",
        "colab_type": "text"
      },
      "source": [
        "<a href=\"https://colab.research.google.com/github/ThanikPimpiban/DWDM21/blob/main/Table.ipynb\" target=\"_parent\"><img src=\"https://colab.research.google.com/assets/colab-badge.svg\" alt=\"Open In Colab\"/></a>"
      ]
    },
    {
      "cell_type": "code",
      "metadata": {
        "id": "b0k0h_EWoRiJ"
      },
      "source": [
        "import pandas as pd"
      ],
      "execution_count": 4,
      "outputs": []
    },
    {
      "cell_type": "code",
      "metadata": {
        "colab": {
          "base_uri": "https://localhost:8080/",
          "height": 142
        },
        "id": "BvRtRDi-mrpo",
        "outputId": "0f1565de-4dbe-4e8c-fbd7-75169863f9e6"
      },
      "source": [
        "records = [['Jack',1,1,0,1,0,0,0],\n",
        "                ['Mary',0,1,0,1,0,1,0],\n",
        "                ['Jim',1,1,1,0,0,0,0]]\n",
        "labels = ['Name','Gender','Fever','Cough','Test-1','Test-2','Test-3','Test-4',]\n",
        "\n",
        "binary_table = pd.DataFrame.from_records(records ,columns=labels)\n",
        "binary_table"
      ],
      "execution_count": 12,
      "outputs": [
        {
          "output_type": "execute_result",
          "data": {
            "text/html": [
              "<div>\n",
              "<style scoped>\n",
              "    .dataframe tbody tr th:only-of-type {\n",
              "        vertical-align: middle;\n",
              "    }\n",
              "\n",
              "    .dataframe tbody tr th {\n",
              "        vertical-align: top;\n",
              "    }\n",
              "\n",
              "    .dataframe thead th {\n",
              "        text-align: right;\n",
              "    }\n",
              "</style>\n",
              "<table border=\"1\" class=\"dataframe\">\n",
              "  <thead>\n",
              "    <tr style=\"text-align: right;\">\n",
              "      <th></th>\n",
              "      <th>Name</th>\n",
              "      <th>Gender</th>\n",
              "      <th>Fever</th>\n",
              "      <th>Cough</th>\n",
              "      <th>Test-1</th>\n",
              "      <th>Test-2</th>\n",
              "      <th>Test-3</th>\n",
              "      <th>Test-4</th>\n",
              "    </tr>\n",
              "  </thead>\n",
              "  <tbody>\n",
              "    <tr>\n",
              "      <th>0</th>\n",
              "      <td>Jack</td>\n",
              "      <td>1</td>\n",
              "      <td>1</td>\n",
              "      <td>0</td>\n",
              "      <td>1</td>\n",
              "      <td>0</td>\n",
              "      <td>0</td>\n",
              "      <td>0</td>\n",
              "    </tr>\n",
              "    <tr>\n",
              "      <th>1</th>\n",
              "      <td>Mary</td>\n",
              "      <td>0</td>\n",
              "      <td>1</td>\n",
              "      <td>0</td>\n",
              "      <td>1</td>\n",
              "      <td>0</td>\n",
              "      <td>1</td>\n",
              "      <td>0</td>\n",
              "    </tr>\n",
              "    <tr>\n",
              "      <th>2</th>\n",
              "      <td>Jim</td>\n",
              "      <td>1</td>\n",
              "      <td>1</td>\n",
              "      <td>1</td>\n",
              "      <td>0</td>\n",
              "      <td>0</td>\n",
              "      <td>0</td>\n",
              "      <td>0</td>\n",
              "    </tr>\n",
              "  </tbody>\n",
              "</table>\n",
              "</div>"
            ],
            "text/plain": [
              "   Name  Gender  Fever  Cough  Test-1  Test-2  Test-3  Test-4\n",
              "0  Jack       1      1      0       1       0       0       0\n",
              "1  Mary       0      1      0       1       0       1       0\n",
              "2   Jim       1      1      1       0       0       0       0"
            ]
          },
          "metadata": {},
          "execution_count": 12
        }
      ]
    },
    {
      "cell_type": "code",
      "metadata": {
        "id": "yRzTF8PnnGBP"
      },
      "source": [
        "def dist_binary_synmetric(p1,p2):\n",
        "        q = 0 \n",
        "        r = 0\n",
        "        s = 0 \n",
        "        t =  0\n",
        "        for i in range(len(p1)):\n",
        "           \n",
        "            if (p1[i]==1) and (p2[i]==1):\n",
        "                q=q+1\n",
        "           \n",
        "            if (p1[i]==0) and (p2[i]==1):\n",
        "                r=r+1\n",
        "            \n",
        "            if (p1[i]==1) and (p2[i]==0):\n",
        "                s=s+1\n",
        "            \n",
        "            if (p1[i]==0) and (p2[i]==0):\n",
        "                t=t+1\n",
        "        return (r+s)/(q+r+s+t)"
      ],
      "execution_count": 17,
      "outputs": []
    },
    {
      "cell_type": "code",
      "metadata": {
        "colab": {
          "base_uri": "https://localhost:8080/"
        },
        "id": "QX2-gqNMo_vP",
        "outputId": "29ed29c4-6943-4216-ebb0-d26c5a3b35bc"
      },
      "source": [
        "dist_binary_synmetric(binary_table.iloc[0,1:],binary_table.iloc[1,1:])"
      ],
      "execution_count": 18,
      "outputs": [
        {
          "output_type": "execute_result",
          "data": {
            "text/plain": [
              "0.2857142857142857"
            ]
          },
          "metadata": {},
          "execution_count": 18
        }
      ]
    },
    {
      "cell_type": "code",
      "metadata": {
        "id": "al4LT74ks0kn"
      },
      "source": [
        ""
      ],
      "execution_count": null,
      "outputs": []
    }
  ]
}