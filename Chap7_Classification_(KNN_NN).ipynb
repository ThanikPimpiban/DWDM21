{
  "nbformat": 4,
  "nbformat_minor": 0,
  "metadata": {
    "colab": {
      "name": "Chap7_Classification_(KNN_NN).ipynb",
      "provenance": [],
      "authorship_tag": "ABX9TyPLRi2XwwzOE/QoPV4+QaoR",
      "include_colab_link": true
    },
    "kernelspec": {
      "name": "python3",
      "display_name": "Python 3"
    },
    "language_info": {
      "name": "python"
    }
  },
  "cells": [
    {
      "cell_type": "markdown",
      "metadata": {
        "id": "view-in-github",
        "colab_type": "text"
      },
      "source": [
        "<a href=\"https://colab.research.google.com/github/ThanikPimpiban/DWDM21/blob/main/Chap7_Classification_(KNN_NN).ipynb\" target=\"_parent\"><img src=\"https://colab.research.google.com/assets/colab-badge.svg\" alt=\"Open In Colab\"/></a>"
      ]
    },
    {
      "cell_type": "markdown",
      "metadata": {
        "id": "vAWf7hUvfrez"
      },
      "source": [
        "**Load data**"
      ]
    },
    {
      "cell_type": "code",
      "metadata": {
        "id": "QO7dx8-ufoDI"
      },
      "source": [
        "from sklearn import datasets\n",
        "\n",
        "digit_data = datasets.load_digits()\n",
        "\n",
        "X = digit_data['data']\n",
        "y = digit_data['target']"
      ],
      "execution_count": 2,
      "outputs": []
    },
    {
      "cell_type": "markdown",
      "metadata": {
        "id": "YGEAVdTwf8RJ"
      },
      "source": [
        "Split Data"
      ]
    },
    {
      "cell_type": "code",
      "metadata": {
        "id": "OqyymZd6foAw"
      },
      "source": [
        "from sklearn.model_selection import train_test_split\n",
        "\n",
        "# train-test\n",
        "X_train, X_test, y_train, y_test = train_test_split(X, y, test_size=0.5, random_state=6)\n",
        "\n",
        "# train-validation\n",
        "X_train2, X_val, y_train2, y_val = train_test_split(X_train, y_train, test_size=0.3, random_state=6)"
      ],
      "execution_count": 3,
      "outputs": []
    },
    {
      "cell_type": "markdown",
      "metadata": {
        "id": "H4klChkUgBS9"
      },
      "source": [
        "Train Model"
      ]
    },
    {
      "cell_type": "markdown",
      "metadata": {
        "id": "3QASqqKtgDK9"
      },
      "source": [
        "**Import**"
      ]
    },
    {
      "cell_type": "code",
      "metadata": {
        "id": "asVIJ_jIfn8Q"
      },
      "source": [
        "from sklearn.neighbors import KNeighborsClassifier\n",
        "from sklearn.metrics import accuracy_score"
      ],
      "execution_count": 4,
      "outputs": []
    },
    {
      "cell_type": "markdown",
      "metadata": {
        "id": "Be7aB2EDgKCw"
      },
      "source": [
        "**knn1**"
      ]
    },
    {
      "cell_type": "code",
      "metadata": {
        "colab": {
          "base_uri": "https://localhost:8080/"
        },
        "id": "LI8CUvqIgILQ",
        "outputId": "b0b89c6a-f590-4590-b8f7-43f80c8e059b"
      },
      "source": [
        "# Define\n",
        "neigh1 = KNeighborsClassifier(n_neighbors=3, weights='uniform') #ถามเพื่อนบ้านที่ใกล้สุด 3 คน และเชื่อทุกๆคนเท่ากัน\n",
        "# Train\n",
        "neigh1.fit(X_train2,y_train2)\n",
        "# Test\n",
        "knn1_result = neigh1.predict(X_val)\n",
        "accuracy_score(y_val, knn1_result)"
      ],
      "execution_count": 5,
      "outputs": [
        {
          "output_type": "execute_result",
          "data": {
            "text/plain": [
              "0.9703703703703703"
            ]
          },
          "metadata": {},
          "execution_count": 5
        }
      ]
    },
    {
      "cell_type": "markdown",
      "metadata": {
        "id": "wihJrdqIgOq6"
      },
      "source": [
        "**knn2**"
      ]
    },
    {
      "cell_type": "code",
      "metadata": {
        "colab": {
          "base_uri": "https://localhost:8080/"
        },
        "id": "4bP9JNjrgP6w",
        "outputId": "8db54f98-0ec7-43e0-bedf-1108dfffe6c2"
      },
      "source": [
        "# Define\n",
        "neigh2 = KNeighborsClassifier(n_neighbors=10, weights='distance') #ถามเพื่อนบ้านที่ใกล้สุด 10 คน และเชื่อคนที่อยู่ใกล้มากกว่าไกล\n",
        "# Train\n",
        "neigh2.fit(X_train2,y_train2)\n",
        "# Test\n",
        "knn2_result = neigh2.predict(X_val)\n",
        "accuracy_score(y_val, knn2_result)"
      ],
      "execution_count": 6,
      "outputs": [
        {
          "output_type": "execute_result",
          "data": {
            "text/plain": [
              "0.9703703703703703"
            ]
          },
          "metadata": {},
          "execution_count": 6
        }
      ]
    },
    {
      "cell_type": "markdown",
      "metadata": {
        "id": "0cWYrmxLgYN5"
      },
      "source": [
        "**knn3**"
      ]
    },
    {
      "cell_type": "code",
      "metadata": {
        "colab": {
          "base_uri": "https://localhost:8080/"
        },
        "id": "eMrrcTSXgZh4",
        "outputId": "a0c223da-d1ce-4859-bc08-6e1c78a91527"
      },
      "source": [
        "# Define\n",
        "neigh3 = KNeighborsClassifier(n_neighbors=1) #เชื่อเพื่อนบ้านที่ใกล้ที่สุดคนเดียว\n",
        "# Train\n",
        "neigh3.fit(X_train2,y_train2)\n",
        "# Test\n",
        "knn3_result = neigh3.predict(X_val)\n",
        "accuracy_score(y_val, knn3_result)"
      ],
      "execution_count": 7,
      "outputs": [
        {
          "output_type": "execute_result",
          "data": {
            "text/plain": [
              "0.9777777777777777"
            ]
          },
          "metadata": {},
          "execution_count": 7
        }
      ]
    },
    {
      "cell_type": "markdown",
      "metadata": {
        "id": "ewjEaPzegb7C"
      },
      "source": [
        "**Retrain & Evaluate**"
      ]
    },
    {
      "cell_type": "code",
      "metadata": {
        "colab": {
          "base_uri": "https://localhost:8080/"
        },
        "id": "RNH6nPYagc0P",
        "outputId": "614c11f9-2276-463a-97cd-ac204b72fb4d"
      },
      "source": [
        "# Define\n",
        "neigh3_final = KNeighborsClassifier(n_neighbors=1)\n",
        "# Train\n",
        "neigh3_final.fit(X_train,y_train)\n",
        "# Evaluation\n",
        "knn3final_result = neigh3_final.predict(X_test)\n",
        "accuracy_score(y_test, knn3final_result)"
      ],
      "execution_count": 8,
      "outputs": [
        {
          "output_type": "execute_result",
          "data": {
            "text/plain": [
              "0.982202447163515"
            ]
          },
          "metadata": {},
          "execution_count": 8
        }
      ]
    },
    {
      "cell_type": "markdown",
      "metadata": {
        "id": "koAA-FNZgfnl"
      },
      "source": [
        "**Neural Network**"
      ]
    },
    {
      "cell_type": "markdown",
      "metadata": {
        "id": "l9gSXgjwgiL-"
      },
      "source": [
        "**Import**"
      ]
    },
    {
      "cell_type": "code",
      "metadata": {
        "id": "SIdwW_aHgg73"
      },
      "source": [
        "from sklearn.neural_network import MLPClassifier"
      ],
      "execution_count": 9,
      "outputs": []
    },
    {
      "cell_type": "markdown",
      "metadata": {
        "id": "AKGhxEuaglIg"
      },
      "source": [
        "**Define**"
      ]
    },
    {
      "cell_type": "code",
      "metadata": {
        "id": "Yu67TxG_gl_v"
      },
      "source": [
        "perceptron1 = MLPClassifier(random_state=6, max_iter=2000, hidden_layer_sizes=1,learning_rate_init=0.005)"
      ],
      "execution_count": 10,
      "outputs": []
    },
    {
      "cell_type": "markdown",
      "metadata": {
        "id": "3VL_0-tegoS4"
      },
      "source": [
        "**Train - Test**"
      ]
    },
    {
      "cell_type": "code",
      "metadata": {
        "colab": {
          "base_uri": "https://localhost:8080/"
        },
        "id": "_zJOGE6QgqqY",
        "outputId": "66b8e9e1-de2b-4eef-b567-6decdfb26259"
      },
      "source": [
        "# Train\n",
        "perceptron1.fit(X_train2,y_train2)\n",
        "# Test\n",
        "ann1_result = perceptron1.predict(X_val)\n",
        "accuracy_score(y_val, ann1_result)"
      ],
      "execution_count": 11,
      "outputs": [
        {
          "output_type": "execute_result",
          "data": {
            "text/plain": [
              "0.2777777777777778"
            ]
          },
          "metadata": {},
          "execution_count": 11
        }
      ]
    },
    {
      "cell_type": "markdown",
      "metadata": {
        "id": "qQ7eU8IzgtQp"
      },
      "source": [
        "**ANN 2**"
      ]
    },
    {
      "cell_type": "code",
      "metadata": {
        "colab": {
          "base_uri": "https://localhost:8080/"
        },
        "id": "IGkTz-8Wguov",
        "outputId": "4ffd7fbf-304d-406e-bbc9-d4a6c189c682"
      },
      "source": [
        "perceptron2 = MLPClassifier(random_state=6, max_iter=2000, hidden_layer_sizes=10,learning_rate_init=0.005)\n",
        "# Train\n",
        "perceptron2.fit(X_train2,y_train2)\n",
        "# Test\n",
        "ann2_result = perceptron2.predict(X_val)\n",
        "accuracy_score(y_val, ann2_result)"
      ],
      "execution_count": 12,
      "outputs": [
        {
          "output_type": "execute_result",
          "data": {
            "text/plain": [
              "0.9185185185185185"
            ]
          },
          "metadata": {},
          "execution_count": 12
        }
      ]
    },
    {
      "cell_type": "markdown",
      "metadata": {
        "id": "Ozsw_MUWgwsi"
      },
      "source": [
        "**ANN 3**"
      ]
    },
    {
      "cell_type": "code",
      "metadata": {
        "colab": {
          "base_uri": "https://localhost:8080/"
        },
        "id": "BCFNOcWLgx7I",
        "outputId": "7cdb32ff-4a51-4f07-8937-f29c3f6f87a9"
      },
      "source": [
        "perceptron3 = MLPClassifier(random_state=6, max_iter=20000, hidden_layer_sizes=10,learning_rate_init=0.001)\n",
        "# Train\n",
        "perceptron3.fit(X_train2,y_train2)\n",
        "# Test\n",
        "ann3_result = perceptron3.predict(X_val)\n",
        "accuracy_score(y_val, ann3_result)"
      ],
      "execution_count": 13,
      "outputs": [
        {
          "output_type": "execute_result",
          "data": {
            "text/plain": [
              "0.9444444444444444"
            ]
          },
          "metadata": {},
          "execution_count": 13
        }
      ]
    }
  ]
}