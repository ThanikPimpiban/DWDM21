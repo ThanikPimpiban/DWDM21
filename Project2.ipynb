{
  "nbformat": 4,
  "nbformat_minor": 0,
  "metadata": {
    "colab": {
      "name": "Project2.ipynb",
      "provenance": [],
      "authorship_tag": "ABX9TyNrwSDh1TZ13Ms45rdaGynr",
      "include_colab_link": true
    },
    "kernelspec": {
      "name": "python3",
      "display_name": "Python 3"
    },
    "language_info": {
      "name": "python"
    }
  },
  "cells": [
    {
      "cell_type": "markdown",
      "metadata": {
        "id": "view-in-github",
        "colab_type": "text"
      },
      "source": [
        "<a href=\"https://colab.research.google.com/github/ThanikPimpiban/DWDM21/blob/main/Project2.ipynb\" target=\"_parent\"><img src=\"https://colab.research.google.com/assets/colab-badge.svg\" alt=\"Open In Colab\"/></a>"
      ]
    },
    {
      "cell_type": "code",
      "metadata": {
        "id": "14S4ZB5tEV1N"
      },
      "source": [
        "import pandas as pd #ส่วนของการ Import\n",
        "import os"
      ],
      "execution_count": 64,
      "outputs": []
    },
    {
      "cell_type": "code",
      "metadata": {
        "colab": {
          "base_uri": "https://localhost:8080/"
        },
        "id": "s67RspjaE2my",
        "outputId": "e8565339-9bbb-41a0-8a23-04fd8e019e13"
      },
      "source": [
        "from google.colab import drive \n",
        "drive.mount('/content/drive')"
      ],
      "execution_count": 65,
      "outputs": [
        {
          "output_type": "stream",
          "name": "stdout",
          "text": [
            "Drive already mounted at /content/drive; to attempt to forcibly remount, call drive.mount(\"/content/drive\", force_remount=True).\n"
          ]
        }
      ]
    },
    {
      "cell_type": "code",
      "metadata": {
        "id": "Uv0ZP3VjE2ky"
      },
      "source": [
        "path = '/content/drive/My Drive/DWDM_Project' #กำหนด path ของโฟลเดอร์ที่ Data อยู่"
      ],
      "execution_count": 66,
      "outputs": []
    },
    {
      "cell_type": "markdown",
      "metadata": {
        "id": "WuE5MtxME520"
      },
      "source": [
        "##ที่มาของข้อมูลการจำหน่ายพลังงานไฟฟ้า กฟผ."
      ]
    },
    {
      "cell_type": "code",
      "metadata": {
        "colab": {
          "base_uri": "https://localhost:8080/",
          "height": 204
        },
        "id": "K4DsmHvnE2jB",
        "outputId": "a066260a-f01b-466d-e722-8ef60b47c2d6"
      },
      "source": [
        "data_sell = pd.read_csv(os.path.join(path,'การจำหน่ายพลังงานไฟฟ้า กฟผ..csv')) #กำหนดตัวแปร data_sell เป็นข้อมูลการจำหน่ายพลังงานไฟฟ้า กฟผ.\n",
        "data_sell #เรียกดูตารางการจำหน่ายพลังงานไฟฟ้า กฟผ."
      ],
      "execution_count": 67,
      "outputs": [
        {
          "output_type": "execute_result",
          "data": {
            "text/html": [
              "<div>\n",
              "<style scoped>\n",
              "    .dataframe tbody tr th:only-of-type {\n",
              "        vertical-align: middle;\n",
              "    }\n",
              "\n",
              "    .dataframe tbody tr th {\n",
              "        vertical-align: top;\n",
              "    }\n",
              "\n",
              "    .dataframe thead th {\n",
              "        text-align: right;\n",
              "    }\n",
              "</style>\n",
              "<table border=\"1\" class=\"dataframe\">\n",
              "  <thead>\n",
              "    <tr style=\"text-align: right;\">\n",
              "      <th></th>\n",
              "      <th>ปี</th>\n",
              "      <th>การไฟฟ้านครหลวง</th>\n",
              "      <th>การไฟฟ้าส่วนภูมิภาค</th>\n",
              "      <th>การไฟฟ้าลาว</th>\n",
              "      <th>การไฟฟ้ามาเลเซีย</th>\n",
              "      <th>การไฟฟ้ากัมพูชา</th>\n",
              "      <th>ลูกค้าโดยตรง</th>\n",
              "      <th>อื่น ๆ</th>\n",
              "      <th>รวมทั้งสิ้น</th>\n",
              "    </tr>\n",
              "  </thead>\n",
              "  <tbody>\n",
              "    <tr>\n",
              "      <th>0</th>\n",
              "      <td>2559</td>\n",
              "      <td>56585.63</td>\n",
              "      <td>125798.07</td>\n",
              "      <td>595.02</td>\n",
              "      <td>157.84</td>\n",
              "      <td>146.89</td>\n",
              "      <td>1591.85</td>\n",
              "      <td>171.21</td>\n",
              "      <td>185046.51</td>\n",
              "    </tr>\n",
              "    <tr>\n",
              "      <th>1</th>\n",
              "      <td>2560</td>\n",
              "      <td>52646.13</td>\n",
              "      <td>130237.60</td>\n",
              "      <td>365.27</td>\n",
              "      <td>132.69</td>\n",
              "      <td>86.80</td>\n",
              "      <td>1458.60</td>\n",
              "      <td>203.80</td>\n",
              "      <td>185130.89</td>\n",
              "    </tr>\n",
              "    <tr>\n",
              "      <th>2</th>\n",
              "      <td>2561</td>\n",
              "      <td>53301.86</td>\n",
              "      <td>131969.53</td>\n",
              "      <td>253.86</td>\n",
              "      <td>122.58</td>\n",
              "      <td>211.75</td>\n",
              "      <td>1339.12</td>\n",
              "      <td>189.84</td>\n",
              "      <td>187388.54</td>\n",
              "    </tr>\n",
              "    <tr>\n",
              "      <th>3</th>\n",
              "      <td>2562</td>\n",
              "      <td>55002.17</td>\n",
              "      <td>134605.47</td>\n",
              "      <td>1316.51</td>\n",
              "      <td>136.14</td>\n",
              "      <td>942.01</td>\n",
              "      <td>1346.59</td>\n",
              "      <td>90.26</td>\n",
              "      <td>193439.15</td>\n",
              "    </tr>\n",
              "    <tr>\n",
              "      <th>4</th>\n",
              "      <td>2563</td>\n",
              "      <td>52343.73</td>\n",
              "      <td>131558.55</td>\n",
              "      <td>1375.40</td>\n",
              "      <td>142.56</td>\n",
              "      <td>610.10</td>\n",
              "      <td>1378.67</td>\n",
              "      <td>80.38</td>\n",
              "      <td>187489.39</td>\n",
              "    </tr>\n",
              "  </tbody>\n",
              "</table>\n",
              "</div>"
            ],
            "text/plain": [
              "     ปี  การไฟฟ้านครหลวง  ...  อื่น ๆ  รวมทั้งสิ้น\n",
              "0  2559         56585.63  ...  171.21    185046.51\n",
              "1  2560         52646.13  ...  203.80    185130.89\n",
              "2  2561         53301.86  ...  189.84    187388.54\n",
              "3  2562         55002.17  ...   90.26    193439.15\n",
              "4  2563         52343.73  ...   80.38    187489.39\n",
              "\n",
              "[5 rows x 9 columns]"
            ]
          },
          "metadata": {},
          "execution_count": 67
        }
      ]
    },
    {
      "cell_type": "markdown",
      "metadata": {
        "id": "X_TsaDKTE-NH"
      },
      "source": [
        "##ที่มาของข้อมูลกำลังผลิตในระบบไฟฟ้าแยกตามประเภทโรงไฟฟ้า"
      ]
    },
    {
      "cell_type": "code",
      "metadata": {
        "colab": {
          "base_uri": "https://localhost:8080/",
          "height": 204
        },
        "id": "2wnb7JLHE2gx",
        "outputId": "397be97e-9c26-4ec6-94ad-ef5a971d287d"
      },
      "source": [
        "data_production = pd.read_csv(os.path.join(path,'กำลังผลิตในระบบไฟฟ้าแยกตามประเภทโรงไฟฟ้า.csv')) #กำหนดตัวแปร data_production เป็นข้อมูลกำลังผลิตในระบบไฟฟ้าแยกตามประเภทโรงไฟฟ้า\n",
        "data_production #เรียกดูตารางกำลังผลิตในระบบไฟฟ้าแยกตามประเภทโรงไฟฟ้า"
      ],
      "execution_count": 68,
      "outputs": [
        {
          "output_type": "execute_result",
          "data": {
            "text/html": [
              "<div>\n",
              "<style scoped>\n",
              "    .dataframe tbody tr th:only-of-type {\n",
              "        vertical-align: middle;\n",
              "    }\n",
              "\n",
              "    .dataframe tbody tr th {\n",
              "        vertical-align: top;\n",
              "    }\n",
              "\n",
              "    .dataframe thead th {\n",
              "        text-align: right;\n",
              "    }\n",
              "</style>\n",
              "<table border=\"1\" class=\"dataframe\">\n",
              "  <thead>\n",
              "    <tr style=\"text-align: right;\">\n",
              "      <th></th>\n",
              "      <th>ปี</th>\n",
              "      <th>พลังความร้อน</th>\n",
              "      <th>พลังน้ำ</th>\n",
              "      <th>กังหันแก๊ส</th>\n",
              "      <th>พลังความร้อนร่วม</th>\n",
              "      <th>ดีเซล</th>\n",
              "      <th>พลังงานทดแทน</th>\n",
              "      <th>ซื้อ</th>\n",
              "      <th>รวมทั้งสิ้น</th>\n",
              "    </tr>\n",
              "  </thead>\n",
              "  <tbody>\n",
              "    <tr>\n",
              "      <th>0</th>\n",
              "      <td>2559</td>\n",
              "      <td>3647.0</td>\n",
              "      <td>3452.4</td>\n",
              "      <td>-</td>\n",
              "      <td>9210.0</td>\n",
              "      <td>30.4</td>\n",
              "      <td>45.33</td>\n",
              "      <td>24711.12</td>\n",
              "      <td>41096.25</td>\n",
              "    </tr>\n",
              "    <tr>\n",
              "      <th>1</th>\n",
              "      <td>2560</td>\n",
              "      <td>3647.0</td>\n",
              "      <td>3452.4</td>\n",
              "      <td>-</td>\n",
              "      <td>8896.0</td>\n",
              "      <td>30.4</td>\n",
              "      <td>45.33</td>\n",
              "      <td>26362.12</td>\n",
              "      <td>42433.25</td>\n",
              "    </tr>\n",
              "    <tr>\n",
              "      <th>2</th>\n",
              "      <td>2561</td>\n",
              "      <td>3647.0</td>\n",
              "      <td>3472.4</td>\n",
              "      <td>-</td>\n",
              "      <td>8582.0</td>\n",
              "      <td>30.4</td>\n",
              "      <td>57.78</td>\n",
              "      <td>27582.92</td>\n",
              "      <td>43372.50</td>\n",
              "    </tr>\n",
              "    <tr>\n",
              "      <th>3</th>\n",
              "      <td>2562</td>\n",
              "      <td>3687.0</td>\n",
              "      <td>3972.4</td>\n",
              "      <td>-</td>\n",
              "      <td>7358.0</td>\n",
              "      <td>30.4</td>\n",
              "      <td>83.03</td>\n",
              "      <td>30167.42</td>\n",
              "      <td>45298.25</td>\n",
              "    </tr>\n",
              "    <tr>\n",
              "      <th>4</th>\n",
              "      <td>2563</td>\n",
              "      <td>3687.0</td>\n",
              "      <td>3972.4</td>\n",
              "      <td>-</td>\n",
              "      <td>8262.0</td>\n",
              "      <td>30.4</td>\n",
              "      <td>85.52</td>\n",
              "      <td>29443.05</td>\n",
              "      <td>46480.37</td>\n",
              "    </tr>\n",
              "  </tbody>\n",
              "</table>\n",
              "</div>"
            ],
            "text/plain": [
              "     ปี  พลังความร้อน  พลังน้ำ  ... พลังงานทดแทน      ซื้อ  รวมทั้งสิ้น\n",
              "0  2559        3647.0   3452.4  ...        45.33  24711.12     41096.25\n",
              "1  2560        3647.0   3452.4  ...        45.33  26362.12     42433.25\n",
              "2  2561        3647.0   3472.4  ...        57.78  27582.92     43372.50\n",
              "3  2562        3687.0   3972.4  ...        83.03  30167.42     45298.25\n",
              "4  2563        3687.0   3972.4  ...        85.52  29443.05     46480.37\n",
              "\n",
              "[5 rows x 9 columns]"
            ]
          },
          "metadata": {},
          "execution_count": 68
        }
      ]
    },
    {
      "cell_type": "markdown",
      "metadata": {
        "id": "JCjcPFkxFDas"
      },
      "source": [
        "##ที่มาของข้อมูลความยาวสายส่งไฟฟ้า กฟผ."
      ]
    },
    {
      "cell_type": "code",
      "metadata": {
        "colab": {
          "base_uri": "https://localhost:8080/",
          "height": 204
        },
        "id": "l8FbkAFfE2e6",
        "outputId": "03738bc4-ae39-4d34-f43e-81a6acabec66"
      },
      "source": [
        "data_length = pd.read_csv(os.path.join(path,'ความยาวสายส่งไฟฟ้า กฟผ..csv')) #กำหนดตัวแปร data_length ให้เป็นความยาวสายส่งไฟฟ้า กฟผ.\n",
        "data_length #เรียกดูตารางความยาวสายส่งไฟฟ้า กฟผ."
      ],
      "execution_count": 69,
      "outputs": [
        {
          "output_type": "execute_result",
          "data": {
            "text/html": [
              "<div>\n",
              "<style scoped>\n",
              "    .dataframe tbody tr th:only-of-type {\n",
              "        vertical-align: middle;\n",
              "    }\n",
              "\n",
              "    .dataframe tbody tr th {\n",
              "        vertical-align: top;\n",
              "    }\n",
              "\n",
              "    .dataframe thead th {\n",
              "        text-align: right;\n",
              "    }\n",
              "</style>\n",
              "<table border=\"1\" class=\"dataframe\">\n",
              "  <thead>\n",
              "    <tr style=\"text-align: right;\">\n",
              "      <th></th>\n",
              "      <th>ปี</th>\n",
              "      <th>69 kv</th>\n",
              "      <th>115 kv</th>\n",
              "      <th>132 kv</th>\n",
              "      <th>230 kv</th>\n",
              "      <th>300 kv</th>\n",
              "      <th>500 kv</th>\n",
              "      <th>รวมทั้งสิ้น</th>\n",
              "    </tr>\n",
              "  </thead>\n",
              "  <tbody>\n",
              "    <tr>\n",
              "      <th>0</th>\n",
              "      <td>2559</td>\n",
              "      <td>18.8</td>\n",
              "      <td>13497.32</td>\n",
              "      <td>8.71</td>\n",
              "      <td>14793.65</td>\n",
              "      <td>23.07</td>\n",
              "      <td>5025.34</td>\n",
              "      <td>33366.88</td>\n",
              "    </tr>\n",
              "    <tr>\n",
              "      <th>1</th>\n",
              "      <td>2560</td>\n",
              "      <td>18.8</td>\n",
              "      <td>13088.64</td>\n",
              "      <td>8.71</td>\n",
              "      <td>14423.13</td>\n",
              "      <td>23.07</td>\n",
              "      <td>5830.84</td>\n",
              "      <td>33393.19</td>\n",
              "    </tr>\n",
              "    <tr>\n",
              "      <th>2</th>\n",
              "      <td>2561</td>\n",
              "      <td>18.8</td>\n",
              "      <td>13263.16</td>\n",
              "      <td>8.71</td>\n",
              "      <td>14712.73</td>\n",
              "      <td>23.07</td>\n",
              "      <td>6527.39</td>\n",
              "      <td>34553.86</td>\n",
              "    </tr>\n",
              "    <tr>\n",
              "      <th>3</th>\n",
              "      <td>2562</td>\n",
              "      <td>18.8</td>\n",
              "      <td>13997.98</td>\n",
              "      <td>8.71</td>\n",
              "      <td>15357.71</td>\n",
              "      <td>23.07</td>\n",
              "      <td>6575.18</td>\n",
              "      <td>35981.45</td>\n",
              "    </tr>\n",
              "    <tr>\n",
              "      <th>4</th>\n",
              "      <td>2563</td>\n",
              "      <td>18.8</td>\n",
              "      <td>14423.19</td>\n",
              "      <td>8.71</td>\n",
              "      <td>15697.87</td>\n",
              "      <td>23.07</td>\n",
              "      <td>6912.29</td>\n",
              "      <td>37083.92</td>\n",
              "    </tr>\n",
              "  </tbody>\n",
              "</table>\n",
              "</div>"
            ],
            "text/plain": [
              "     ปี  69 kv    115 kv  132 kv    230 kv  300 kv   500 kv  รวมทั้งสิ้น\n",
              "0  2559   18.8  13497.32    8.71  14793.65   23.07  5025.34     33366.88\n",
              "1  2560   18.8  13088.64    8.71  14423.13   23.07  5830.84     33393.19\n",
              "2  2561   18.8  13263.16    8.71  14712.73   23.07  6527.39     34553.86\n",
              "3  2562   18.8  13997.98    8.71  15357.71   23.07  6575.18     35981.45\n",
              "4  2563   18.8  14423.19    8.71  15697.87   23.07  6912.29     37083.92"
            ]
          },
          "metadata": {},
          "execution_count": 69
        }
      ]
    },
    {
      "cell_type": "markdown",
      "metadata": {
        "id": "9vpbr8eQFJJo"
      },
      "source": [
        "##ทำการเชื่อม 2 ตารางด้วยการ merge โดยเชื่อมกันด้วย ปี"
      ]
    },
    {
      "cell_type": "code",
      "metadata": {
        "colab": {
          "base_uri": "https://localhost:8080/",
          "height": 204
        },
        "id": "NWwx5ALQE2c7",
        "outputId": "68980144-3734-4ad0-9ce8-85bba2ee5810"
      },
      "source": [
        "merged_data_sell_data_production = pd.merge(data_sell,data_production,on='ปี') #ทำการเชื่อมตาราง 2 ตาราง คือ 1.ข้อมูลการจำหน่ายพลังงานไฟฟ้า 2.ข้อมูลของกำลังผลิตในระบบไฟฟ้า\n",
        "merged_data_sell_data_production #เรียกตารางที่เชื่อมกัน 2 ตารางข้างต้นv"
      ],
      "execution_count": 70,
      "outputs": [
        {
          "output_type": "execute_result",
          "data": {
            "text/html": [
              "<div>\n",
              "<style scoped>\n",
              "    .dataframe tbody tr th:only-of-type {\n",
              "        vertical-align: middle;\n",
              "    }\n",
              "\n",
              "    .dataframe tbody tr th {\n",
              "        vertical-align: top;\n",
              "    }\n",
              "\n",
              "    .dataframe thead th {\n",
              "        text-align: right;\n",
              "    }\n",
              "</style>\n",
              "<table border=\"1\" class=\"dataframe\">\n",
              "  <thead>\n",
              "    <tr style=\"text-align: right;\">\n",
              "      <th></th>\n",
              "      <th>ปี</th>\n",
              "      <th>การไฟฟ้านครหลวง</th>\n",
              "      <th>การไฟฟ้าส่วนภูมิภาค</th>\n",
              "      <th>การไฟฟ้าลาว</th>\n",
              "      <th>การไฟฟ้ามาเลเซีย</th>\n",
              "      <th>การไฟฟ้ากัมพูชา</th>\n",
              "      <th>ลูกค้าโดยตรง</th>\n",
              "      <th>อื่น ๆ</th>\n",
              "      <th>รวมทั้งสิ้น_x</th>\n",
              "      <th>พลังความร้อน</th>\n",
              "      <th>พลังน้ำ</th>\n",
              "      <th>กังหันแก๊ส</th>\n",
              "      <th>พลังความร้อนร่วม</th>\n",
              "      <th>ดีเซล</th>\n",
              "      <th>พลังงานทดแทน</th>\n",
              "      <th>ซื้อ</th>\n",
              "      <th>รวมทั้งสิ้น_y</th>\n",
              "    </tr>\n",
              "  </thead>\n",
              "  <tbody>\n",
              "    <tr>\n",
              "      <th>0</th>\n",
              "      <td>2559</td>\n",
              "      <td>56585.63</td>\n",
              "      <td>125798.07</td>\n",
              "      <td>595.02</td>\n",
              "      <td>157.84</td>\n",
              "      <td>146.89</td>\n",
              "      <td>1591.85</td>\n",
              "      <td>171.21</td>\n",
              "      <td>185046.51</td>\n",
              "      <td>3647.0</td>\n",
              "      <td>3452.4</td>\n",
              "      <td>-</td>\n",
              "      <td>9210.0</td>\n",
              "      <td>30.4</td>\n",
              "      <td>45.33</td>\n",
              "      <td>24711.12</td>\n",
              "      <td>41096.25</td>\n",
              "    </tr>\n",
              "    <tr>\n",
              "      <th>1</th>\n",
              "      <td>2560</td>\n",
              "      <td>52646.13</td>\n",
              "      <td>130237.60</td>\n",
              "      <td>365.27</td>\n",
              "      <td>132.69</td>\n",
              "      <td>86.80</td>\n",
              "      <td>1458.60</td>\n",
              "      <td>203.80</td>\n",
              "      <td>185130.89</td>\n",
              "      <td>3647.0</td>\n",
              "      <td>3452.4</td>\n",
              "      <td>-</td>\n",
              "      <td>8896.0</td>\n",
              "      <td>30.4</td>\n",
              "      <td>45.33</td>\n",
              "      <td>26362.12</td>\n",
              "      <td>42433.25</td>\n",
              "    </tr>\n",
              "    <tr>\n",
              "      <th>2</th>\n",
              "      <td>2561</td>\n",
              "      <td>53301.86</td>\n",
              "      <td>131969.53</td>\n",
              "      <td>253.86</td>\n",
              "      <td>122.58</td>\n",
              "      <td>211.75</td>\n",
              "      <td>1339.12</td>\n",
              "      <td>189.84</td>\n",
              "      <td>187388.54</td>\n",
              "      <td>3647.0</td>\n",
              "      <td>3472.4</td>\n",
              "      <td>-</td>\n",
              "      <td>8582.0</td>\n",
              "      <td>30.4</td>\n",
              "      <td>57.78</td>\n",
              "      <td>27582.92</td>\n",
              "      <td>43372.50</td>\n",
              "    </tr>\n",
              "    <tr>\n",
              "      <th>3</th>\n",
              "      <td>2562</td>\n",
              "      <td>55002.17</td>\n",
              "      <td>134605.47</td>\n",
              "      <td>1316.51</td>\n",
              "      <td>136.14</td>\n",
              "      <td>942.01</td>\n",
              "      <td>1346.59</td>\n",
              "      <td>90.26</td>\n",
              "      <td>193439.15</td>\n",
              "      <td>3687.0</td>\n",
              "      <td>3972.4</td>\n",
              "      <td>-</td>\n",
              "      <td>7358.0</td>\n",
              "      <td>30.4</td>\n",
              "      <td>83.03</td>\n",
              "      <td>30167.42</td>\n",
              "      <td>45298.25</td>\n",
              "    </tr>\n",
              "    <tr>\n",
              "      <th>4</th>\n",
              "      <td>2563</td>\n",
              "      <td>52343.73</td>\n",
              "      <td>131558.55</td>\n",
              "      <td>1375.40</td>\n",
              "      <td>142.56</td>\n",
              "      <td>610.10</td>\n",
              "      <td>1378.67</td>\n",
              "      <td>80.38</td>\n",
              "      <td>187489.39</td>\n",
              "      <td>3687.0</td>\n",
              "      <td>3972.4</td>\n",
              "      <td>-</td>\n",
              "      <td>8262.0</td>\n",
              "      <td>30.4</td>\n",
              "      <td>85.52</td>\n",
              "      <td>29443.05</td>\n",
              "      <td>46480.37</td>\n",
              "    </tr>\n",
              "  </tbody>\n",
              "</table>\n",
              "</div>"
            ],
            "text/plain": [
              "     ปี  การไฟฟ้านครหลวง  ...      ซื้อ  รวมทั้งสิ้น_y\n",
              "0  2559         56585.63  ...  24711.12       41096.25\n",
              "1  2560         52646.13  ...  26362.12       42433.25\n",
              "2  2561         53301.86  ...  27582.92       43372.50\n",
              "3  2562         55002.17  ...  30167.42       45298.25\n",
              "4  2563         52343.73  ...  29443.05       46480.37\n",
              "\n",
              "[5 rows x 17 columns]"
            ]
          },
          "metadata": {},
          "execution_count": 70
        }
      ]
    },
    {
      "cell_type": "markdown",
      "metadata": {
        "id": "hREejngKFNAG"
      },
      "source": [
        "##ทำการเชื่อมตารางทั้งหมดเข้าด้วยกัน"
      ]
    },
    {
      "cell_type": "code",
      "metadata": {
        "colab": {
          "base_uri": "https://localhost:8080/",
          "height": 221
        },
        "id": "_XqI_SqwE2ap",
        "outputId": "64d10836-3bbd-4374-abbd-c95331ea1f44"
      },
      "source": [
        "merged_3_tables = pd.merge(merged_data_sell_data_production,data_length,on='ปี') #ทำเชื่อมตารางระหว่าง 1.ตารางการจำหน่ายพลังงานไฟฟ้าและกำลังผลิตในระบบไฟฟ้า 2.ตารางความยาวสายส่งไฟฟ้า\n",
        "merged_3_tables #เรียกดูตารางที่เชื่อมกันทั้ง 3 ตาราง"
      ],
      "execution_count": 71,
      "outputs": [
        {
          "output_type": "execute_result",
          "data": {
            "text/html": [
              "<div>\n",
              "<style scoped>\n",
              "    .dataframe tbody tr th:only-of-type {\n",
              "        vertical-align: middle;\n",
              "    }\n",
              "\n",
              "    .dataframe tbody tr th {\n",
              "        vertical-align: top;\n",
              "    }\n",
              "\n",
              "    .dataframe thead th {\n",
              "        text-align: right;\n",
              "    }\n",
              "</style>\n",
              "<table border=\"1\" class=\"dataframe\">\n",
              "  <thead>\n",
              "    <tr style=\"text-align: right;\">\n",
              "      <th></th>\n",
              "      <th>ปี</th>\n",
              "      <th>การไฟฟ้านครหลวง</th>\n",
              "      <th>การไฟฟ้าส่วนภูมิภาค</th>\n",
              "      <th>การไฟฟ้าลาว</th>\n",
              "      <th>การไฟฟ้ามาเลเซีย</th>\n",
              "      <th>การไฟฟ้ากัมพูชา</th>\n",
              "      <th>ลูกค้าโดยตรง</th>\n",
              "      <th>อื่น ๆ</th>\n",
              "      <th>รวมทั้งสิ้น_x</th>\n",
              "      <th>พลังความร้อน</th>\n",
              "      <th>พลังน้ำ</th>\n",
              "      <th>กังหันแก๊ส</th>\n",
              "      <th>พลังความร้อนร่วม</th>\n",
              "      <th>ดีเซล</th>\n",
              "      <th>พลังงานทดแทน</th>\n",
              "      <th>ซื้อ</th>\n",
              "      <th>รวมทั้งสิ้น_y</th>\n",
              "      <th>69 kv</th>\n",
              "      <th>115 kv</th>\n",
              "      <th>132 kv</th>\n",
              "      <th>230 kv</th>\n",
              "      <th>300 kv</th>\n",
              "      <th>500 kv</th>\n",
              "      <th>รวมทั้งสิ้น</th>\n",
              "    </tr>\n",
              "  </thead>\n",
              "  <tbody>\n",
              "    <tr>\n",
              "      <th>0</th>\n",
              "      <td>2559</td>\n",
              "      <td>56585.63</td>\n",
              "      <td>125798.07</td>\n",
              "      <td>595.02</td>\n",
              "      <td>157.84</td>\n",
              "      <td>146.89</td>\n",
              "      <td>1591.85</td>\n",
              "      <td>171.21</td>\n",
              "      <td>185046.51</td>\n",
              "      <td>3647.0</td>\n",
              "      <td>3452.4</td>\n",
              "      <td>-</td>\n",
              "      <td>9210.0</td>\n",
              "      <td>30.4</td>\n",
              "      <td>45.33</td>\n",
              "      <td>24711.12</td>\n",
              "      <td>41096.25</td>\n",
              "      <td>18.8</td>\n",
              "      <td>13497.32</td>\n",
              "      <td>8.71</td>\n",
              "      <td>14793.65</td>\n",
              "      <td>23.07</td>\n",
              "      <td>5025.34</td>\n",
              "      <td>33366.88</td>\n",
              "    </tr>\n",
              "    <tr>\n",
              "      <th>1</th>\n",
              "      <td>2560</td>\n",
              "      <td>52646.13</td>\n",
              "      <td>130237.60</td>\n",
              "      <td>365.27</td>\n",
              "      <td>132.69</td>\n",
              "      <td>86.80</td>\n",
              "      <td>1458.60</td>\n",
              "      <td>203.80</td>\n",
              "      <td>185130.89</td>\n",
              "      <td>3647.0</td>\n",
              "      <td>3452.4</td>\n",
              "      <td>-</td>\n",
              "      <td>8896.0</td>\n",
              "      <td>30.4</td>\n",
              "      <td>45.33</td>\n",
              "      <td>26362.12</td>\n",
              "      <td>42433.25</td>\n",
              "      <td>18.8</td>\n",
              "      <td>13088.64</td>\n",
              "      <td>8.71</td>\n",
              "      <td>14423.13</td>\n",
              "      <td>23.07</td>\n",
              "      <td>5830.84</td>\n",
              "      <td>33393.19</td>\n",
              "    </tr>\n",
              "    <tr>\n",
              "      <th>2</th>\n",
              "      <td>2561</td>\n",
              "      <td>53301.86</td>\n",
              "      <td>131969.53</td>\n",
              "      <td>253.86</td>\n",
              "      <td>122.58</td>\n",
              "      <td>211.75</td>\n",
              "      <td>1339.12</td>\n",
              "      <td>189.84</td>\n",
              "      <td>187388.54</td>\n",
              "      <td>3647.0</td>\n",
              "      <td>3472.4</td>\n",
              "      <td>-</td>\n",
              "      <td>8582.0</td>\n",
              "      <td>30.4</td>\n",
              "      <td>57.78</td>\n",
              "      <td>27582.92</td>\n",
              "      <td>43372.50</td>\n",
              "      <td>18.8</td>\n",
              "      <td>13263.16</td>\n",
              "      <td>8.71</td>\n",
              "      <td>14712.73</td>\n",
              "      <td>23.07</td>\n",
              "      <td>6527.39</td>\n",
              "      <td>34553.86</td>\n",
              "    </tr>\n",
              "    <tr>\n",
              "      <th>3</th>\n",
              "      <td>2562</td>\n",
              "      <td>55002.17</td>\n",
              "      <td>134605.47</td>\n",
              "      <td>1316.51</td>\n",
              "      <td>136.14</td>\n",
              "      <td>942.01</td>\n",
              "      <td>1346.59</td>\n",
              "      <td>90.26</td>\n",
              "      <td>193439.15</td>\n",
              "      <td>3687.0</td>\n",
              "      <td>3972.4</td>\n",
              "      <td>-</td>\n",
              "      <td>7358.0</td>\n",
              "      <td>30.4</td>\n",
              "      <td>83.03</td>\n",
              "      <td>30167.42</td>\n",
              "      <td>45298.25</td>\n",
              "      <td>18.8</td>\n",
              "      <td>13997.98</td>\n",
              "      <td>8.71</td>\n",
              "      <td>15357.71</td>\n",
              "      <td>23.07</td>\n",
              "      <td>6575.18</td>\n",
              "      <td>35981.45</td>\n",
              "    </tr>\n",
              "    <tr>\n",
              "      <th>4</th>\n",
              "      <td>2563</td>\n",
              "      <td>52343.73</td>\n",
              "      <td>131558.55</td>\n",
              "      <td>1375.40</td>\n",
              "      <td>142.56</td>\n",
              "      <td>610.10</td>\n",
              "      <td>1378.67</td>\n",
              "      <td>80.38</td>\n",
              "      <td>187489.39</td>\n",
              "      <td>3687.0</td>\n",
              "      <td>3972.4</td>\n",
              "      <td>-</td>\n",
              "      <td>8262.0</td>\n",
              "      <td>30.4</td>\n",
              "      <td>85.52</td>\n",
              "      <td>29443.05</td>\n",
              "      <td>46480.37</td>\n",
              "      <td>18.8</td>\n",
              "      <td>14423.19</td>\n",
              "      <td>8.71</td>\n",
              "      <td>15697.87</td>\n",
              "      <td>23.07</td>\n",
              "      <td>6912.29</td>\n",
              "      <td>37083.92</td>\n",
              "    </tr>\n",
              "  </tbody>\n",
              "</table>\n",
              "</div>"
            ],
            "text/plain": [
              "     ปี  การไฟฟ้านครหลวง  การไฟฟ้าส่วนภูมิภาค  ...  300 kv   500 kv  รวมทั้งสิ้น\n",
              "0  2559         56585.63            125798.07  ...   23.07  5025.34     33366.88\n",
              "1  2560         52646.13            130237.60  ...   23.07  5830.84     33393.19\n",
              "2  2561         53301.86            131969.53  ...   23.07  6527.39     34553.86\n",
              "3  2562         55002.17            134605.47  ...   23.07  6575.18     35981.45\n",
              "4  2563         52343.73            131558.55  ...   23.07  6912.29     37083.92\n",
              "\n",
              "[5 rows x 24 columns]"
            ]
          },
          "metadata": {},
          "execution_count": 71
        }
      ]
    },
    {
      "cell_type": "code",
      "metadata": {
        "colab": {
          "base_uri": "https://localhost:8080/"
        },
        "id": "J9UcFflBE2Yj",
        "outputId": "983a50e9-7461-483a-a80e-d0f854712d6c"
      },
      "source": [
        "merged_3_tables.isnull().any() #เช็คดู missing ของตารางที่เชื่อมกันทั้ง 3 ตาราง"
      ],
      "execution_count": 72,
      "outputs": [
        {
          "output_type": "execute_result",
          "data": {
            "text/plain": [
              "ปี                     False\n",
              "การไฟฟ้านครหลวง        False\n",
              "การไฟฟ้าส่วนภูมิภาค    False\n",
              "การไฟฟ้าลาว            False\n",
              "การไฟฟ้ามาเลเซีย       False\n",
              "การไฟฟ้ากัมพูชา        False\n",
              "ลูกค้าโดยตรง           False\n",
              "อื่น ๆ                 False\n",
              "รวมทั้งสิ้น_x          False\n",
              "พลังความร้อน           False\n",
              "พลังน้ำ                False\n",
              "กังหันแก๊ส             False\n",
              "พลังความร้อนร่วม       False\n",
              "ดีเซล                  False\n",
              "พลังงานทดแทน           False\n",
              "ซื้อ                   False\n",
              "รวมทั้งสิ้น_y          False\n",
              "69 kv                  False\n",
              "115 kv                 False\n",
              "132 kv                 False\n",
              "230 kv                 False\n",
              "300 kv                 False\n",
              "500 kv                 False\n",
              "รวมทั้งสิ้น            False\n",
              "dtype: bool"
            ]
          },
          "metadata": {},
          "execution_count": 72
        }
      ]
    },
    {
      "cell_type": "code",
      "metadata": {
        "colab": {
          "base_uri": "https://localhost:8080/"
        },
        "id": "zO4ehN1PE2Wq",
        "outputId": "d938324b-125c-45b9-9035-789b9fbbea33"
      },
      "source": [
        "merged_3_tables.shape #ข้อมูลมี 5 row 24 column"
      ],
      "execution_count": 73,
      "outputs": [
        {
          "output_type": "execute_result",
          "data": {
            "text/plain": [
              "(5, 24)"
            ]
          },
          "metadata": {},
          "execution_count": 73
        }
      ]
    },
    {
      "cell_type": "markdown",
      "metadata": {
        "id": "IquPHdwgFSuL"
      },
      "source": [
        "##ตารางที่ใช้ในการดู challenge"
      ]
    },
    {
      "cell_type": "code",
      "metadata": {
        "colab": {
          "base_uri": "https://localhost:8080/",
          "height": 204
        },
        "id": "JYUF1DJLE2U5",
        "outputId": "03e9c897-8d06-48eb-c314-a48314cdf4a2"
      },
      "source": [
        "data = merged_3_tables[['ปี','รวมทั้งสิ้น_x','รวมทั้งสิ้น_y','รวมทั้งสิ้น']]\n",
        "data"
      ],
      "execution_count": 74,
      "outputs": [
        {
          "output_type": "execute_result",
          "data": {
            "text/html": [
              "<div>\n",
              "<style scoped>\n",
              "    .dataframe tbody tr th:only-of-type {\n",
              "        vertical-align: middle;\n",
              "    }\n",
              "\n",
              "    .dataframe tbody tr th {\n",
              "        vertical-align: top;\n",
              "    }\n",
              "\n",
              "    .dataframe thead th {\n",
              "        text-align: right;\n",
              "    }\n",
              "</style>\n",
              "<table border=\"1\" class=\"dataframe\">\n",
              "  <thead>\n",
              "    <tr style=\"text-align: right;\">\n",
              "      <th></th>\n",
              "      <th>ปี</th>\n",
              "      <th>รวมทั้งสิ้น_x</th>\n",
              "      <th>รวมทั้งสิ้น_y</th>\n",
              "      <th>รวมทั้งสิ้น</th>\n",
              "    </tr>\n",
              "  </thead>\n",
              "  <tbody>\n",
              "    <tr>\n",
              "      <th>0</th>\n",
              "      <td>2559</td>\n",
              "      <td>185046.51</td>\n",
              "      <td>41096.25</td>\n",
              "      <td>33366.88</td>\n",
              "    </tr>\n",
              "    <tr>\n",
              "      <th>1</th>\n",
              "      <td>2560</td>\n",
              "      <td>185130.89</td>\n",
              "      <td>42433.25</td>\n",
              "      <td>33393.19</td>\n",
              "    </tr>\n",
              "    <tr>\n",
              "      <th>2</th>\n",
              "      <td>2561</td>\n",
              "      <td>187388.54</td>\n",
              "      <td>43372.50</td>\n",
              "      <td>34553.86</td>\n",
              "    </tr>\n",
              "    <tr>\n",
              "      <th>3</th>\n",
              "      <td>2562</td>\n",
              "      <td>193439.15</td>\n",
              "      <td>45298.25</td>\n",
              "      <td>35981.45</td>\n",
              "    </tr>\n",
              "    <tr>\n",
              "      <th>4</th>\n",
              "      <td>2563</td>\n",
              "      <td>187489.39</td>\n",
              "      <td>46480.37</td>\n",
              "      <td>37083.92</td>\n",
              "    </tr>\n",
              "  </tbody>\n",
              "</table>\n",
              "</div>"
            ],
            "text/plain": [
              "     ปี  รวมทั้งสิ้น_x  รวมทั้งสิ้น_y  รวมทั้งสิ้น\n",
              "0  2559      185046.51       41096.25     33366.88\n",
              "1  2560      185130.89       42433.25     33393.19\n",
              "2  2561      187388.54       43372.50     34553.86\n",
              "3  2562      193439.15       45298.25     35981.45\n",
              "4  2563      187489.39       46480.37     37083.92"
            ]
          },
          "metadata": {},
          "execution_count": 74
        }
      ]
    },
    {
      "cell_type": "code",
      "metadata": {
        "colab": {
          "base_uri": "https://localhost:8080/"
        },
        "id": "2D97_pQtE2Sh",
        "outputId": "66b5254e-3edc-4797-b579-6ebf51d97d98"
      },
      "source": [
        "data.shape #ข้อมูลนี้มี 5 row 4 column"
      ],
      "execution_count": 75,
      "outputs": [
        {
          "output_type": "execute_result",
          "data": {
            "text/plain": [
              "(5, 4)"
            ]
          },
          "metadata": {},
          "execution_count": 75
        }
      ]
    },
    {
      "cell_type": "code",
      "metadata": {
        "colab": {
          "base_uri": "https://localhost:8080/"
        },
        "id": "Z-heDQJ2E2Qp",
        "outputId": "bee6819b-1cbe-4dde-8204-8d2d68661f85"
      },
      "source": [
        "data.isnull().any() #ตรวจสอบว่าตารางมีค่าว่างหรือไม่ จะเห็นว่าไม่คอลัมน์ที่มีค่าว่าง"
      ],
      "execution_count": 76,
      "outputs": [
        {
          "output_type": "execute_result",
          "data": {
            "text/plain": [
              "ปี               False\n",
              "รวมทั้งสิ้น_x    False\n",
              "รวมทั้งสิ้น_y    False\n",
              "รวมทั้งสิ้น      False\n",
              "dtype: bool"
            ]
          },
          "metadata": {},
          "execution_count": 76
        }
      ]
    },
    {
      "cell_type": "code",
      "metadata": {
        "id": "SdsxtOziGt0A"
      },
      "source": [
        "X=merged_3_tables[['พลังความร้อน','พลังน้ำ','พลังความร้อนร่วม','ดีเซล','ลูกค้าโดยตรง','อื่น ๆ']]"
      ],
      "execution_count": 88,
      "outputs": []
    },
    {
      "cell_type": "code",
      "metadata": {
        "id": "VtZMOXj9GtyQ"
      },
      "source": [
        "Y=merged_3_tables[['การไฟฟ้านครหลวง','การไฟฟ้าส่วนภูมิภาค','การไฟฟ้าลาว','การไฟฟ้ามาเลเซีย','การไฟฟ้ากัมพูชา','ลูกค้าโดยตรง','อื่น ๆ']]"
      ],
      "execution_count": 86,
      "outputs": []
    },
    {
      "cell_type": "markdown",
      "metadata": {
        "id": "cMe6HcLJHltS"
      },
      "source": [
        "##DecisionTreeClassifier"
      ]
    },
    {
      "cell_type": "code",
      "metadata": {
        "id": "OHm41Nf6GtwY"
      },
      "source": [
        "from sklearn.tree import DecisionTreeClassifier"
      ],
      "execution_count": 79,
      "outputs": []
    },
    {
      "cell_type": "code",
      "metadata": {
        "id": "3y7WjfFrGtug"
      },
      "source": [
        "mytree = DecisionTreeClassifier() # กำหนดชั้นของ decision tree"
      ],
      "execution_count": 80,
      "outputs": []
    },
    {
      "cell_type": "code",
      "metadata": {
        "colab": {
          "base_uri": "https://localhost:8080/",
          "height": 307
        },
        "id": "wd-FrXrAGtsY",
        "outputId": "2592e37c-aa7e-4001-bdce-44e21eae98d2"
      },
      "source": [
        "T = mytree.fit(X,Y) # สร้าง model ขึ้นมา"
      ],
      "execution_count": 90,
      "outputs": [
        {
          "output_type": "error",
          "ename": "ValueError",
          "evalue": "ignored",
          "traceback": [
            "\u001b[0;31m---------------------------------------------------------------------------\u001b[0m",
            "\u001b[0;31mValueError\u001b[0m                                Traceback (most recent call last)",
            "\u001b[0;32m<ipython-input-90-ee54757c8aa3>\u001b[0m in \u001b[0;36m<module>\u001b[0;34m()\u001b[0m\n\u001b[0;32m----> 1\u001b[0;31m \u001b[0mT\u001b[0m \u001b[0;34m=\u001b[0m \u001b[0mmytree\u001b[0m\u001b[0;34m.\u001b[0m\u001b[0mfit\u001b[0m\u001b[0;34m(\u001b[0m\u001b[0mX\u001b[0m\u001b[0;34m,\u001b[0m\u001b[0mY\u001b[0m\u001b[0;34m)\u001b[0m \u001b[0;31m# สร้าง model ขึ้นมา\u001b[0m\u001b[0;34m\u001b[0m\u001b[0;34m\u001b[0m\u001b[0m\n\u001b[0m",
            "\u001b[0;32m/usr/local/lib/python3.7/dist-packages/sklearn/tree/_classes.py\u001b[0m in \u001b[0;36mfit\u001b[0;34m(self, X, y, sample_weight, check_input, X_idx_sorted)\u001b[0m\n\u001b[1;32m    875\u001b[0m             \u001b[0msample_weight\u001b[0m\u001b[0;34m=\u001b[0m\u001b[0msample_weight\u001b[0m\u001b[0;34m,\u001b[0m\u001b[0;34m\u001b[0m\u001b[0;34m\u001b[0m\u001b[0m\n\u001b[1;32m    876\u001b[0m             \u001b[0mcheck_input\u001b[0m\u001b[0;34m=\u001b[0m\u001b[0mcheck_input\u001b[0m\u001b[0;34m,\u001b[0m\u001b[0;34m\u001b[0m\u001b[0;34m\u001b[0m\u001b[0m\n\u001b[0;32m--> 877\u001b[0;31m             X_idx_sorted=X_idx_sorted)\n\u001b[0m\u001b[1;32m    878\u001b[0m         \u001b[0;32mreturn\u001b[0m \u001b[0mself\u001b[0m\u001b[0;34m\u001b[0m\u001b[0;34m\u001b[0m\u001b[0m\n\u001b[1;32m    879\u001b[0m \u001b[0;34m\u001b[0m\u001b[0m\n",
            "\u001b[0;32m/usr/local/lib/python3.7/dist-packages/sklearn/tree/_classes.py\u001b[0m in \u001b[0;36mfit\u001b[0;34m(self, X, y, sample_weight, check_input, X_idx_sorted)\u001b[0m\n\u001b[1;32m    171\u001b[0m \u001b[0;34m\u001b[0m\u001b[0m\n\u001b[1;32m    172\u001b[0m         \u001b[0;32mif\u001b[0m \u001b[0mis_classification\u001b[0m\u001b[0;34m:\u001b[0m\u001b[0;34m\u001b[0m\u001b[0;34m\u001b[0m\u001b[0m\n\u001b[0;32m--> 173\u001b[0;31m             \u001b[0mcheck_classification_targets\u001b[0m\u001b[0;34m(\u001b[0m\u001b[0my\u001b[0m\u001b[0;34m)\u001b[0m\u001b[0;34m\u001b[0m\u001b[0;34m\u001b[0m\u001b[0m\n\u001b[0m\u001b[1;32m    174\u001b[0m             \u001b[0my\u001b[0m \u001b[0;34m=\u001b[0m \u001b[0mnp\u001b[0m\u001b[0;34m.\u001b[0m\u001b[0mcopy\u001b[0m\u001b[0;34m(\u001b[0m\u001b[0my\u001b[0m\u001b[0;34m)\u001b[0m\u001b[0;34m\u001b[0m\u001b[0;34m\u001b[0m\u001b[0m\n\u001b[1;32m    175\u001b[0m \u001b[0;34m\u001b[0m\u001b[0m\n",
            "\u001b[0;32m/usr/local/lib/python3.7/dist-packages/sklearn/utils/multiclass.py\u001b[0m in \u001b[0;36mcheck_classification_targets\u001b[0;34m(y)\u001b[0m\n\u001b[1;32m    167\u001b[0m     if y_type not in ['binary', 'multiclass', 'multiclass-multioutput',\n\u001b[1;32m    168\u001b[0m                       'multilabel-indicator', 'multilabel-sequences']:\n\u001b[0;32m--> 169\u001b[0;31m         \u001b[0;32mraise\u001b[0m \u001b[0mValueError\u001b[0m\u001b[0;34m(\u001b[0m\u001b[0;34m\"Unknown label type: %r\"\u001b[0m \u001b[0;34m%\u001b[0m \u001b[0my_type\u001b[0m\u001b[0;34m)\u001b[0m\u001b[0;34m\u001b[0m\u001b[0;34m\u001b[0m\u001b[0m\n\u001b[0m\u001b[1;32m    170\u001b[0m \u001b[0;34m\u001b[0m\u001b[0m\n\u001b[1;32m    171\u001b[0m \u001b[0;34m\u001b[0m\u001b[0m\n",
            "\u001b[0;31mValueError\u001b[0m: Unknown label type: 'continuous-multioutput'"
          ]
        }
      ]
    },
    {
      "cell_type": "code",
      "metadata": {
        "id": "Yus793eNE2Oh"
      },
      "source": [
        "from sklearn.tree import plot_tree"
      ],
      "execution_count": null,
      "outputs": []
    },
    {
      "cell_type": "code",
      "metadata": {
        "id": "eluW2IdNHv2U"
      },
      "source": [
        "plot_tree(mytree);"
      ],
      "execution_count": null,
      "outputs": []
    },
    {
      "cell_type": "code",
      "metadata": {
        "id": "OQXJfWOOHv0D"
      },
      "source": [
        ""
      ],
      "execution_count": null,
      "outputs": []
    },
    {
      "cell_type": "code",
      "metadata": {
        "id": "pF0Tfh5_Hvxz"
      },
      "source": [
        ""
      ],
      "execution_count": null,
      "outputs": []
    },
    {
      "cell_type": "code",
      "metadata": {
        "id": "pXZtvp3aHvvb"
      },
      "source": [
        ""
      ],
      "execution_count": null,
      "outputs": []
    },
    {
      "cell_type": "code",
      "metadata": {
        "id": "seQsfYxPE2MR"
      },
      "source": [
        ""
      ],
      "execution_count": null,
      "outputs": []
    }
  ]
}