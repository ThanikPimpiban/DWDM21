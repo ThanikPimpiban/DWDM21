{
  "nbformat": 4,
  "nbformat_minor": 0,
  "metadata": {
    "colab": {
      "name": "Project2.ipynb",
      "provenance": [],
      "authorship_tag": "ABX9TyPUS2CSBWYvZlPJK7U9QPLD",
      "include_colab_link": true
    },
    "kernelspec": {
      "name": "python3",
      "display_name": "Python 3"
    },
    "language_info": {
      "name": "python"
    }
  },
  "cells": [
    {
      "cell_type": "markdown",
      "metadata": {
        "id": "view-in-github",
        "colab_type": "text"
      },
      "source": [
        "<a href=\"https://colab.research.google.com/github/ThanikPimpiban/DWDM21/blob/main/Project2.ipynb\" target=\"_parent\"><img src=\"https://colab.research.google.com/assets/colab-badge.svg\" alt=\"Open In Colab\"/></a>"
      ]
    },
    {
      "cell_type": "code",
      "metadata": {
        "id": "14S4ZB5tEV1N"
      },
      "source": [
        "import pandas as pd #ส่วนของการ Import\n",
        "import os"
      ],
      "execution_count": 21,
      "outputs": []
    },
    {
      "cell_type": "code",
      "metadata": {
        "colab": {
          "base_uri": "https://localhost:8080/"
        },
        "id": "s67RspjaE2my",
        "outputId": "83b8b9e6-c2a1-4aec-9a16-90597379668a"
      },
      "source": [
        "from google.colab import drive \n",
        "drive.mount('/content/drive')"
      ],
      "execution_count": 22,
      "outputs": [
        {
          "output_type": "stream",
          "name": "stdout",
          "text": [
            "Drive already mounted at /content/drive; to attempt to forcibly remount, call drive.mount(\"/content/drive\", force_remount=True).\n"
          ]
        }
      ]
    },
    {
      "cell_type": "code",
      "metadata": {
        "id": "Uv0ZP3VjE2ky"
      },
      "source": [
        "path = '/content/drive/My Drive/DWDM_Project' #กำหนด path ของโฟลเดอร์ที่ Data อยู่"
      ],
      "execution_count": 23,
      "outputs": []
    },
    {
      "cell_type": "markdown",
      "metadata": {
        "id": "WuE5MtxME520"
      },
      "source": [
        "##ที่มาของข้อมูลการจำหน่ายพลังงานไฟฟ้า กฟผ."
      ]
    },
    {
      "cell_type": "code",
      "metadata": {
        "colab": {
          "base_uri": "https://localhost:8080/",
          "height": 204
        },
        "id": "K4DsmHvnE2jB",
        "outputId": "2b1b5d67-8e14-4653-fc4b-cf33c3613825"
      },
      "source": [
        "data_sell = pd.read_csv(os.path.join(path,'การจำหน่ายพลังงานไฟฟ้า กฟผ..csv')) #กำหนดตัวแปร data_sell เป็นข้อมูลการจำหน่ายพลังงานไฟฟ้า กฟผ.\n",
        "data_sell #เรียกดูตารางการจำหน่ายพลังงานไฟฟ้า กฟผ."
      ],
      "execution_count": 24,
      "outputs": [
        {
          "output_type": "execute_result",
          "data": {
            "text/html": [
              "<div>\n",
              "<style scoped>\n",
              "    .dataframe tbody tr th:only-of-type {\n",
              "        vertical-align: middle;\n",
              "    }\n",
              "\n",
              "    .dataframe tbody tr th {\n",
              "        vertical-align: top;\n",
              "    }\n",
              "\n",
              "    .dataframe thead th {\n",
              "        text-align: right;\n",
              "    }\n",
              "</style>\n",
              "<table border=\"1\" class=\"dataframe\">\n",
              "  <thead>\n",
              "    <tr style=\"text-align: right;\">\n",
              "      <th></th>\n",
              "      <th>ปี</th>\n",
              "      <th>การไฟฟ้านครหลวง</th>\n",
              "      <th>การไฟฟ้าส่วนภูมิภาค</th>\n",
              "      <th>การไฟฟ้าลาว</th>\n",
              "      <th>การไฟฟ้ามาเลเซีย</th>\n",
              "      <th>การไฟฟ้ากัมพูชา</th>\n",
              "      <th>ลูกค้าโดยตรง</th>\n",
              "      <th>อื่น ๆ</th>\n",
              "      <th>รวมทั้งสิ้น</th>\n",
              "    </tr>\n",
              "  </thead>\n",
              "  <tbody>\n",
              "    <tr>\n",
              "      <th>0</th>\n",
              "      <td>2559</td>\n",
              "      <td>56,585.63</td>\n",
              "      <td>125,798.07</td>\n",
              "      <td>595.02</td>\n",
              "      <td>157.84</td>\n",
              "      <td>146.89</td>\n",
              "      <td>1,591.85</td>\n",
              "      <td>171.21</td>\n",
              "      <td>185,046.51</td>\n",
              "    </tr>\n",
              "    <tr>\n",
              "      <th>1</th>\n",
              "      <td>2560</td>\n",
              "      <td>52,646.13</td>\n",
              "      <td>130,237.60</td>\n",
              "      <td>365.27</td>\n",
              "      <td>132.69</td>\n",
              "      <td>86.80</td>\n",
              "      <td>1,458.60</td>\n",
              "      <td>203.80</td>\n",
              "      <td>185,130.89</td>\n",
              "    </tr>\n",
              "    <tr>\n",
              "      <th>2</th>\n",
              "      <td>2561</td>\n",
              "      <td>53,301.86</td>\n",
              "      <td>131,969.53</td>\n",
              "      <td>253.86</td>\n",
              "      <td>122.58</td>\n",
              "      <td>211.75</td>\n",
              "      <td>1,339.12</td>\n",
              "      <td>189.84</td>\n",
              "      <td>187,388.54</td>\n",
              "    </tr>\n",
              "    <tr>\n",
              "      <th>3</th>\n",
              "      <td>2562</td>\n",
              "      <td>55,002.17</td>\n",
              "      <td>134,605.47</td>\n",
              "      <td>1,316.51</td>\n",
              "      <td>136.14</td>\n",
              "      <td>942.01</td>\n",
              "      <td>1,346.59</td>\n",
              "      <td>90.26</td>\n",
              "      <td>193,439.15</td>\n",
              "    </tr>\n",
              "    <tr>\n",
              "      <th>4</th>\n",
              "      <td>2563</td>\n",
              "      <td>52,343.73</td>\n",
              "      <td>131,558.55</td>\n",
              "      <td>1,375.40</td>\n",
              "      <td>142.56</td>\n",
              "      <td>610.10</td>\n",
              "      <td>1,378.67</td>\n",
              "      <td>80.38</td>\n",
              "      <td>187,489.39</td>\n",
              "    </tr>\n",
              "  </tbody>\n",
              "</table>\n",
              "</div>"
            ],
            "text/plain": [
              "     ปี การไฟฟ้านครหลวง การไฟฟ้าส่วนภูมิภาค  ... ลูกค้าโดยตรง  อื่น ๆ  รวมทั้งสิ้น\n",
              "0  2559       56,585.63          125,798.07  ...     1,591.85  171.21   185,046.51\n",
              "1  2560       52,646.13          130,237.60  ...     1,458.60  203.80   185,130.89\n",
              "2  2561       53,301.86          131,969.53  ...     1,339.12  189.84   187,388.54\n",
              "3  2562       55,002.17          134,605.47  ...     1,346.59   90.26   193,439.15\n",
              "4  2563       52,343.73          131,558.55  ...     1,378.67   80.38   187,489.39\n",
              "\n",
              "[5 rows x 9 columns]"
            ]
          },
          "metadata": {},
          "execution_count": 24
        }
      ]
    },
    {
      "cell_type": "markdown",
      "metadata": {
        "id": "X_TsaDKTE-NH"
      },
      "source": [
        "##ที่มาของข้อมูลกำลังผลิตในระบบไฟฟ้าแยกตามประเภทโรงไฟฟ้า"
      ]
    },
    {
      "cell_type": "code",
      "metadata": {
        "colab": {
          "base_uri": "https://localhost:8080/",
          "height": 204
        },
        "id": "2wnb7JLHE2gx",
        "outputId": "be9cccb7-9e6c-4310-fa82-c324c81045cd"
      },
      "source": [
        "data_production = pd.read_csv(os.path.join(path,'กำลังผลิตในระบบไฟฟ้าแยกตามประเภทโรงไฟฟ้า.csv')) #กำหนดตัวแปร data_production เป็นข้อมูลกำลังผลิตในระบบไฟฟ้าแยกตามประเภทโรงไฟฟ้า\n",
        "data_production #เรียกดูตารางกำลังผลิตในระบบไฟฟ้าแยกตามประเภทโรงไฟฟ้า"
      ],
      "execution_count": 25,
      "outputs": [
        {
          "output_type": "execute_result",
          "data": {
            "text/html": [
              "<div>\n",
              "<style scoped>\n",
              "    .dataframe tbody tr th:only-of-type {\n",
              "        vertical-align: middle;\n",
              "    }\n",
              "\n",
              "    .dataframe tbody tr th {\n",
              "        vertical-align: top;\n",
              "    }\n",
              "\n",
              "    .dataframe thead th {\n",
              "        text-align: right;\n",
              "    }\n",
              "</style>\n",
              "<table border=\"1\" class=\"dataframe\">\n",
              "  <thead>\n",
              "    <tr style=\"text-align: right;\">\n",
              "      <th></th>\n",
              "      <th>ปี</th>\n",
              "      <th>พลังความร้อน</th>\n",
              "      <th>พลังน้ำ</th>\n",
              "      <th>กังหันแก๊ส</th>\n",
              "      <th>พลังความร้อนร่วม</th>\n",
              "      <th>ดีเซล</th>\n",
              "      <th>พลังงานทดแทน</th>\n",
              "      <th>ซื้อ</th>\n",
              "      <th>รวมทั้งสิ้น</th>\n",
              "    </tr>\n",
              "  </thead>\n",
              "  <tbody>\n",
              "    <tr>\n",
              "      <th>0</th>\n",
              "      <td>2559</td>\n",
              "      <td>3,647.00</td>\n",
              "      <td>3,452.40</td>\n",
              "      <td>-</td>\n",
              "      <td>9,210.00</td>\n",
              "      <td>30.4</td>\n",
              "      <td>45.33</td>\n",
              "      <td>24,711.12</td>\n",
              "      <td>41,096.25</td>\n",
              "    </tr>\n",
              "    <tr>\n",
              "      <th>1</th>\n",
              "      <td>2560</td>\n",
              "      <td>3,647.00</td>\n",
              "      <td>3,452.40</td>\n",
              "      <td>-</td>\n",
              "      <td>8,896.00</td>\n",
              "      <td>30.4</td>\n",
              "      <td>45.33</td>\n",
              "      <td>26,362.12</td>\n",
              "      <td>42,433.25</td>\n",
              "    </tr>\n",
              "    <tr>\n",
              "      <th>2</th>\n",
              "      <td>2561</td>\n",
              "      <td>3,647.00</td>\n",
              "      <td>3,472.40</td>\n",
              "      <td>-</td>\n",
              "      <td>8,582.00</td>\n",
              "      <td>30.4</td>\n",
              "      <td>57.78</td>\n",
              "      <td>27,582.92</td>\n",
              "      <td>43,372.50</td>\n",
              "    </tr>\n",
              "    <tr>\n",
              "      <th>3</th>\n",
              "      <td>2562</td>\n",
              "      <td>3,687.00</td>\n",
              "      <td>3,972.40</td>\n",
              "      <td>-</td>\n",
              "      <td>7,358.00</td>\n",
              "      <td>30.4</td>\n",
              "      <td>83.03</td>\n",
              "      <td>30,167.42</td>\n",
              "      <td>45,298.25</td>\n",
              "    </tr>\n",
              "    <tr>\n",
              "      <th>4</th>\n",
              "      <td>2563</td>\n",
              "      <td>3,687.00</td>\n",
              "      <td>3,972.40</td>\n",
              "      <td>-</td>\n",
              "      <td>8,262.00</td>\n",
              "      <td>30.4</td>\n",
              "      <td>85.52</td>\n",
              "      <td>29,443.05</td>\n",
              "      <td>46,480.37</td>\n",
              "    </tr>\n",
              "  </tbody>\n",
              "</table>\n",
              "</div>"
            ],
            "text/plain": [
              "     ปี พลังความร้อน   พลังน้ำ  ... พลังงานทดแทน       ซื้อ  รวมทั้งสิ้น\n",
              "0  2559     3,647.00  3,452.40  ...        45.33  24,711.12    41,096.25\n",
              "1  2560     3,647.00  3,452.40  ...        45.33  26,362.12    42,433.25\n",
              "2  2561     3,647.00  3,472.40  ...        57.78  27,582.92    43,372.50\n",
              "3  2562     3,687.00  3,972.40  ...        83.03  30,167.42    45,298.25\n",
              "4  2563     3,687.00  3,972.40  ...        85.52  29,443.05    46,480.37\n",
              "\n",
              "[5 rows x 9 columns]"
            ]
          },
          "metadata": {},
          "execution_count": 25
        }
      ]
    },
    {
      "cell_type": "markdown",
      "metadata": {
        "id": "JCjcPFkxFDas"
      },
      "source": [
        "##ที่มาของข้อมูลความยาวสายส่งไฟฟ้า กฟผ."
      ]
    },
    {
      "cell_type": "code",
      "metadata": {
        "colab": {
          "base_uri": "https://localhost:8080/",
          "height": 204
        },
        "id": "l8FbkAFfE2e6",
        "outputId": "fa004647-9e5d-4d2e-f871-6c3178421fb6"
      },
      "source": [
        "data_length = pd.read_csv(os.path.join(path,'ความยาวสายส่งไฟฟ้า กฟผ..csv')) #กำหนดตัวแปร data_length ให้เป็นความยาวสายส่งไฟฟ้า กฟผ.\n",
        "data_length #เรียกดูตารางความยาวสายส่งไฟฟ้า กฟผ."
      ],
      "execution_count": 26,
      "outputs": [
        {
          "output_type": "execute_result",
          "data": {
            "text/html": [
              "<div>\n",
              "<style scoped>\n",
              "    .dataframe tbody tr th:only-of-type {\n",
              "        vertical-align: middle;\n",
              "    }\n",
              "\n",
              "    .dataframe tbody tr th {\n",
              "        vertical-align: top;\n",
              "    }\n",
              "\n",
              "    .dataframe thead th {\n",
              "        text-align: right;\n",
              "    }\n",
              "</style>\n",
              "<table border=\"1\" class=\"dataframe\">\n",
              "  <thead>\n",
              "    <tr style=\"text-align: right;\">\n",
              "      <th></th>\n",
              "      <th>ปี</th>\n",
              "      <th>69 kv</th>\n",
              "      <th>115 kv</th>\n",
              "      <th>132 kv</th>\n",
              "      <th>230 kv</th>\n",
              "      <th>300 kv</th>\n",
              "      <th>500 kv</th>\n",
              "      <th>รวมทั้งสิ้น</th>\n",
              "    </tr>\n",
              "  </thead>\n",
              "  <tbody>\n",
              "    <tr>\n",
              "      <th>0</th>\n",
              "      <td>2559</td>\n",
              "      <td>18.8</td>\n",
              "      <td>13497.32</td>\n",
              "      <td>8.71</td>\n",
              "      <td>14793.65</td>\n",
              "      <td>23.07</td>\n",
              "      <td>5025.34</td>\n",
              "      <td>33,366.88</td>\n",
              "    </tr>\n",
              "    <tr>\n",
              "      <th>1</th>\n",
              "      <td>2560</td>\n",
              "      <td>18.8</td>\n",
              "      <td>13088.64</td>\n",
              "      <td>8.71</td>\n",
              "      <td>14423.13</td>\n",
              "      <td>23.07</td>\n",
              "      <td>5830.84</td>\n",
              "      <td>33,393.19</td>\n",
              "    </tr>\n",
              "    <tr>\n",
              "      <th>2</th>\n",
              "      <td>2561</td>\n",
              "      <td>18.8</td>\n",
              "      <td>13263.16</td>\n",
              "      <td>8.71</td>\n",
              "      <td>14712.73</td>\n",
              "      <td>23.07</td>\n",
              "      <td>6527.39</td>\n",
              "      <td>34,553.86</td>\n",
              "    </tr>\n",
              "    <tr>\n",
              "      <th>3</th>\n",
              "      <td>2562</td>\n",
              "      <td>18.8</td>\n",
              "      <td>13997.98</td>\n",
              "      <td>8.71</td>\n",
              "      <td>15357.71</td>\n",
              "      <td>23.07</td>\n",
              "      <td>6575.18</td>\n",
              "      <td>35,981.45</td>\n",
              "    </tr>\n",
              "    <tr>\n",
              "      <th>4</th>\n",
              "      <td>2563</td>\n",
              "      <td>18.8</td>\n",
              "      <td>14423.19</td>\n",
              "      <td>8.71</td>\n",
              "      <td>15697.87</td>\n",
              "      <td>23.07</td>\n",
              "      <td>6912.29</td>\n",
              "      <td>37,083.92</td>\n",
              "    </tr>\n",
              "  </tbody>\n",
              "</table>\n",
              "</div>"
            ],
            "text/plain": [
              "     ปี  69 kv    115 kv  132 kv    230 kv  300 kv   500 kv รวมทั้งสิ้น\n",
              "0  2559   18.8  13497.32    8.71  14793.65   23.07  5025.34   33,366.88\n",
              "1  2560   18.8  13088.64    8.71  14423.13   23.07  5830.84   33,393.19\n",
              "2  2561   18.8  13263.16    8.71  14712.73   23.07  6527.39   34,553.86\n",
              "3  2562   18.8  13997.98    8.71  15357.71   23.07  6575.18   35,981.45\n",
              "4  2563   18.8  14423.19    8.71  15697.87   23.07  6912.29   37,083.92"
            ]
          },
          "metadata": {},
          "execution_count": 26
        }
      ]
    },
    {
      "cell_type": "markdown",
      "metadata": {
        "id": "9vpbr8eQFJJo"
      },
      "source": [
        "##ทำการเชื่อม 2 ตารางด้วยการ merge โดยเชื่อมกันด้วย ปี"
      ]
    },
    {
      "cell_type": "code",
      "metadata": {
        "colab": {
          "base_uri": "https://localhost:8080/",
          "height": 204
        },
        "id": "NWwx5ALQE2c7",
        "outputId": "531dcb3b-314e-4a57-f18d-06fbc979a590"
      },
      "source": [
        "merged_data_sell_data_production = pd.merge(data_sell,data_production,on='ปี') #ทำการเชื่อมตาราง 2 ตาราง คือ 1.ข้อมูลการจำหน่ายพลังงานไฟฟ้า 2.ข้อมูลของกำลังผลิตในระบบไฟฟ้า\n",
        "merged_data_sell_data_production #เรียกตารางที่เชื่อมกัน 2 ตารางข้างต้นv"
      ],
      "execution_count": 27,
      "outputs": [
        {
          "output_type": "execute_result",
          "data": {
            "text/html": [
              "<div>\n",
              "<style scoped>\n",
              "    .dataframe tbody tr th:only-of-type {\n",
              "        vertical-align: middle;\n",
              "    }\n",
              "\n",
              "    .dataframe tbody tr th {\n",
              "        vertical-align: top;\n",
              "    }\n",
              "\n",
              "    .dataframe thead th {\n",
              "        text-align: right;\n",
              "    }\n",
              "</style>\n",
              "<table border=\"1\" class=\"dataframe\">\n",
              "  <thead>\n",
              "    <tr style=\"text-align: right;\">\n",
              "      <th></th>\n",
              "      <th>ปี</th>\n",
              "      <th>การไฟฟ้านครหลวง</th>\n",
              "      <th>การไฟฟ้าส่วนภูมิภาค</th>\n",
              "      <th>การไฟฟ้าลาว</th>\n",
              "      <th>การไฟฟ้ามาเลเซีย</th>\n",
              "      <th>การไฟฟ้ากัมพูชา</th>\n",
              "      <th>ลูกค้าโดยตรง</th>\n",
              "      <th>อื่น ๆ</th>\n",
              "      <th>รวมทั้งสิ้น_x</th>\n",
              "      <th>พลังความร้อน</th>\n",
              "      <th>พลังน้ำ</th>\n",
              "      <th>กังหันแก๊ส</th>\n",
              "      <th>พลังความร้อนร่วม</th>\n",
              "      <th>ดีเซล</th>\n",
              "      <th>พลังงานทดแทน</th>\n",
              "      <th>ซื้อ</th>\n",
              "      <th>รวมทั้งสิ้น_y</th>\n",
              "    </tr>\n",
              "  </thead>\n",
              "  <tbody>\n",
              "    <tr>\n",
              "      <th>0</th>\n",
              "      <td>2559</td>\n",
              "      <td>56,585.63</td>\n",
              "      <td>125,798.07</td>\n",
              "      <td>595.02</td>\n",
              "      <td>157.84</td>\n",
              "      <td>146.89</td>\n",
              "      <td>1,591.85</td>\n",
              "      <td>171.21</td>\n",
              "      <td>185,046.51</td>\n",
              "      <td>3,647.00</td>\n",
              "      <td>3,452.40</td>\n",
              "      <td>-</td>\n",
              "      <td>9,210.00</td>\n",
              "      <td>30.4</td>\n",
              "      <td>45.33</td>\n",
              "      <td>24,711.12</td>\n",
              "      <td>41,096.25</td>\n",
              "    </tr>\n",
              "    <tr>\n",
              "      <th>1</th>\n",
              "      <td>2560</td>\n",
              "      <td>52,646.13</td>\n",
              "      <td>130,237.60</td>\n",
              "      <td>365.27</td>\n",
              "      <td>132.69</td>\n",
              "      <td>86.80</td>\n",
              "      <td>1,458.60</td>\n",
              "      <td>203.80</td>\n",
              "      <td>185,130.89</td>\n",
              "      <td>3,647.00</td>\n",
              "      <td>3,452.40</td>\n",
              "      <td>-</td>\n",
              "      <td>8,896.00</td>\n",
              "      <td>30.4</td>\n",
              "      <td>45.33</td>\n",
              "      <td>26,362.12</td>\n",
              "      <td>42,433.25</td>\n",
              "    </tr>\n",
              "    <tr>\n",
              "      <th>2</th>\n",
              "      <td>2561</td>\n",
              "      <td>53,301.86</td>\n",
              "      <td>131,969.53</td>\n",
              "      <td>253.86</td>\n",
              "      <td>122.58</td>\n",
              "      <td>211.75</td>\n",
              "      <td>1,339.12</td>\n",
              "      <td>189.84</td>\n",
              "      <td>187,388.54</td>\n",
              "      <td>3,647.00</td>\n",
              "      <td>3,472.40</td>\n",
              "      <td>-</td>\n",
              "      <td>8,582.00</td>\n",
              "      <td>30.4</td>\n",
              "      <td>57.78</td>\n",
              "      <td>27,582.92</td>\n",
              "      <td>43,372.50</td>\n",
              "    </tr>\n",
              "    <tr>\n",
              "      <th>3</th>\n",
              "      <td>2562</td>\n",
              "      <td>55,002.17</td>\n",
              "      <td>134,605.47</td>\n",
              "      <td>1,316.51</td>\n",
              "      <td>136.14</td>\n",
              "      <td>942.01</td>\n",
              "      <td>1,346.59</td>\n",
              "      <td>90.26</td>\n",
              "      <td>193,439.15</td>\n",
              "      <td>3,687.00</td>\n",
              "      <td>3,972.40</td>\n",
              "      <td>-</td>\n",
              "      <td>7,358.00</td>\n",
              "      <td>30.4</td>\n",
              "      <td>83.03</td>\n",
              "      <td>30,167.42</td>\n",
              "      <td>45,298.25</td>\n",
              "    </tr>\n",
              "    <tr>\n",
              "      <th>4</th>\n",
              "      <td>2563</td>\n",
              "      <td>52,343.73</td>\n",
              "      <td>131,558.55</td>\n",
              "      <td>1,375.40</td>\n",
              "      <td>142.56</td>\n",
              "      <td>610.10</td>\n",
              "      <td>1,378.67</td>\n",
              "      <td>80.38</td>\n",
              "      <td>187,489.39</td>\n",
              "      <td>3,687.00</td>\n",
              "      <td>3,972.40</td>\n",
              "      <td>-</td>\n",
              "      <td>8,262.00</td>\n",
              "      <td>30.4</td>\n",
              "      <td>85.52</td>\n",
              "      <td>29,443.05</td>\n",
              "      <td>46,480.37</td>\n",
              "    </tr>\n",
              "  </tbody>\n",
              "</table>\n",
              "</div>"
            ],
            "text/plain": [
              "     ปี การไฟฟ้านครหลวง  ...       ซื้อ รวมทั้งสิ้น_y\n",
              "0  2559       56,585.63  ...  24,711.12     41,096.25\n",
              "1  2560       52,646.13  ...  26,362.12     42,433.25\n",
              "2  2561       53,301.86  ...  27,582.92     43,372.50\n",
              "3  2562       55,002.17  ...  30,167.42     45,298.25\n",
              "4  2563       52,343.73  ...  29,443.05     46,480.37\n",
              "\n",
              "[5 rows x 17 columns]"
            ]
          },
          "metadata": {},
          "execution_count": 27
        }
      ]
    },
    {
      "cell_type": "markdown",
      "metadata": {
        "id": "hREejngKFNAG"
      },
      "source": [
        "##ทำการเชื่อมตารางทั้งหมดเข้าด้วยกัน"
      ]
    },
    {
      "cell_type": "code",
      "metadata": {
        "colab": {
          "base_uri": "https://localhost:8080/",
          "height": 221
        },
        "id": "_XqI_SqwE2ap",
        "outputId": "0ccb2bb9-2bc6-4b9f-c1ed-3e118ee4ca69"
      },
      "source": [
        "merged_3_tables = pd.merge(merged_data_sell_data_production,data_length,on='ปี') #ทำเชื่อมตารางระหว่าง 1.ตารางการจำหน่ายพลังงานไฟฟ้าและกำลังผลิตในระบบไฟฟ้า 2.ตารางความยาวสายส่งไฟฟ้า\n",
        "merged_3_tables #เรียกดูตารางที่เชื่อมกันทั้ง 3 ตาราง"
      ],
      "execution_count": 28,
      "outputs": [
        {
          "output_type": "execute_result",
          "data": {
            "text/html": [
              "<div>\n",
              "<style scoped>\n",
              "    .dataframe tbody tr th:only-of-type {\n",
              "        vertical-align: middle;\n",
              "    }\n",
              "\n",
              "    .dataframe tbody tr th {\n",
              "        vertical-align: top;\n",
              "    }\n",
              "\n",
              "    .dataframe thead th {\n",
              "        text-align: right;\n",
              "    }\n",
              "</style>\n",
              "<table border=\"1\" class=\"dataframe\">\n",
              "  <thead>\n",
              "    <tr style=\"text-align: right;\">\n",
              "      <th></th>\n",
              "      <th>ปี</th>\n",
              "      <th>การไฟฟ้านครหลวง</th>\n",
              "      <th>การไฟฟ้าส่วนภูมิภาค</th>\n",
              "      <th>การไฟฟ้าลาว</th>\n",
              "      <th>การไฟฟ้ามาเลเซีย</th>\n",
              "      <th>การไฟฟ้ากัมพูชา</th>\n",
              "      <th>ลูกค้าโดยตรง</th>\n",
              "      <th>อื่น ๆ</th>\n",
              "      <th>รวมทั้งสิ้น_x</th>\n",
              "      <th>พลังความร้อน</th>\n",
              "      <th>พลังน้ำ</th>\n",
              "      <th>กังหันแก๊ส</th>\n",
              "      <th>พลังความร้อนร่วม</th>\n",
              "      <th>ดีเซล</th>\n",
              "      <th>พลังงานทดแทน</th>\n",
              "      <th>ซื้อ</th>\n",
              "      <th>รวมทั้งสิ้น_y</th>\n",
              "      <th>69 kv</th>\n",
              "      <th>115 kv</th>\n",
              "      <th>132 kv</th>\n",
              "      <th>230 kv</th>\n",
              "      <th>300 kv</th>\n",
              "      <th>500 kv</th>\n",
              "      <th>รวมทั้งสิ้น</th>\n",
              "    </tr>\n",
              "  </thead>\n",
              "  <tbody>\n",
              "    <tr>\n",
              "      <th>0</th>\n",
              "      <td>2559</td>\n",
              "      <td>56,585.63</td>\n",
              "      <td>125,798.07</td>\n",
              "      <td>595.02</td>\n",
              "      <td>157.84</td>\n",
              "      <td>146.89</td>\n",
              "      <td>1,591.85</td>\n",
              "      <td>171.21</td>\n",
              "      <td>185,046.51</td>\n",
              "      <td>3,647.00</td>\n",
              "      <td>3,452.40</td>\n",
              "      <td>-</td>\n",
              "      <td>9,210.00</td>\n",
              "      <td>30.4</td>\n",
              "      <td>45.33</td>\n",
              "      <td>24,711.12</td>\n",
              "      <td>41,096.25</td>\n",
              "      <td>18.8</td>\n",
              "      <td>13497.32</td>\n",
              "      <td>8.71</td>\n",
              "      <td>14793.65</td>\n",
              "      <td>23.07</td>\n",
              "      <td>5025.34</td>\n",
              "      <td>33,366.88</td>\n",
              "    </tr>\n",
              "    <tr>\n",
              "      <th>1</th>\n",
              "      <td>2560</td>\n",
              "      <td>52,646.13</td>\n",
              "      <td>130,237.60</td>\n",
              "      <td>365.27</td>\n",
              "      <td>132.69</td>\n",
              "      <td>86.80</td>\n",
              "      <td>1,458.60</td>\n",
              "      <td>203.80</td>\n",
              "      <td>185,130.89</td>\n",
              "      <td>3,647.00</td>\n",
              "      <td>3,452.40</td>\n",
              "      <td>-</td>\n",
              "      <td>8,896.00</td>\n",
              "      <td>30.4</td>\n",
              "      <td>45.33</td>\n",
              "      <td>26,362.12</td>\n",
              "      <td>42,433.25</td>\n",
              "      <td>18.8</td>\n",
              "      <td>13088.64</td>\n",
              "      <td>8.71</td>\n",
              "      <td>14423.13</td>\n",
              "      <td>23.07</td>\n",
              "      <td>5830.84</td>\n",
              "      <td>33,393.19</td>\n",
              "    </tr>\n",
              "    <tr>\n",
              "      <th>2</th>\n",
              "      <td>2561</td>\n",
              "      <td>53,301.86</td>\n",
              "      <td>131,969.53</td>\n",
              "      <td>253.86</td>\n",
              "      <td>122.58</td>\n",
              "      <td>211.75</td>\n",
              "      <td>1,339.12</td>\n",
              "      <td>189.84</td>\n",
              "      <td>187,388.54</td>\n",
              "      <td>3,647.00</td>\n",
              "      <td>3,472.40</td>\n",
              "      <td>-</td>\n",
              "      <td>8,582.00</td>\n",
              "      <td>30.4</td>\n",
              "      <td>57.78</td>\n",
              "      <td>27,582.92</td>\n",
              "      <td>43,372.50</td>\n",
              "      <td>18.8</td>\n",
              "      <td>13263.16</td>\n",
              "      <td>8.71</td>\n",
              "      <td>14712.73</td>\n",
              "      <td>23.07</td>\n",
              "      <td>6527.39</td>\n",
              "      <td>34,553.86</td>\n",
              "    </tr>\n",
              "    <tr>\n",
              "      <th>3</th>\n",
              "      <td>2562</td>\n",
              "      <td>55,002.17</td>\n",
              "      <td>134,605.47</td>\n",
              "      <td>1,316.51</td>\n",
              "      <td>136.14</td>\n",
              "      <td>942.01</td>\n",
              "      <td>1,346.59</td>\n",
              "      <td>90.26</td>\n",
              "      <td>193,439.15</td>\n",
              "      <td>3,687.00</td>\n",
              "      <td>3,972.40</td>\n",
              "      <td>-</td>\n",
              "      <td>7,358.00</td>\n",
              "      <td>30.4</td>\n",
              "      <td>83.03</td>\n",
              "      <td>30,167.42</td>\n",
              "      <td>45,298.25</td>\n",
              "      <td>18.8</td>\n",
              "      <td>13997.98</td>\n",
              "      <td>8.71</td>\n",
              "      <td>15357.71</td>\n",
              "      <td>23.07</td>\n",
              "      <td>6575.18</td>\n",
              "      <td>35,981.45</td>\n",
              "    </tr>\n",
              "    <tr>\n",
              "      <th>4</th>\n",
              "      <td>2563</td>\n",
              "      <td>52,343.73</td>\n",
              "      <td>131,558.55</td>\n",
              "      <td>1,375.40</td>\n",
              "      <td>142.56</td>\n",
              "      <td>610.10</td>\n",
              "      <td>1,378.67</td>\n",
              "      <td>80.38</td>\n",
              "      <td>187,489.39</td>\n",
              "      <td>3,687.00</td>\n",
              "      <td>3,972.40</td>\n",
              "      <td>-</td>\n",
              "      <td>8,262.00</td>\n",
              "      <td>30.4</td>\n",
              "      <td>85.52</td>\n",
              "      <td>29,443.05</td>\n",
              "      <td>46,480.37</td>\n",
              "      <td>18.8</td>\n",
              "      <td>14423.19</td>\n",
              "      <td>8.71</td>\n",
              "      <td>15697.87</td>\n",
              "      <td>23.07</td>\n",
              "      <td>6912.29</td>\n",
              "      <td>37,083.92</td>\n",
              "    </tr>\n",
              "  </tbody>\n",
              "</table>\n",
              "</div>"
            ],
            "text/plain": [
              "     ปี การไฟฟ้านครหลวง การไฟฟ้าส่วนภูมิภาค  ... 300 kv   500 kv  รวมทั้งสิ้น\n",
              "0  2559       56,585.63          125,798.07  ...  23.07  5025.34    33,366.88\n",
              "1  2560       52,646.13          130,237.60  ...  23.07  5830.84    33,393.19\n",
              "2  2561       53,301.86          131,969.53  ...  23.07  6527.39    34,553.86\n",
              "3  2562       55,002.17          134,605.47  ...  23.07  6575.18    35,981.45\n",
              "4  2563       52,343.73          131,558.55  ...  23.07  6912.29    37,083.92\n",
              "\n",
              "[5 rows x 24 columns]"
            ]
          },
          "metadata": {},
          "execution_count": 28
        }
      ]
    },
    {
      "cell_type": "code",
      "metadata": {
        "colab": {
          "base_uri": "https://localhost:8080/"
        },
        "id": "J9UcFflBE2Yj",
        "outputId": "1c511dbd-068d-4a4c-9fd5-6b25dce46e9f"
      },
      "source": [
        "merged_3_tables.isnull().any() #เช็คดู missing ของตารางที่เชื่อมกันทั้ง 3 ตาราง"
      ],
      "execution_count": 29,
      "outputs": [
        {
          "output_type": "execute_result",
          "data": {
            "text/plain": [
              "ปี                     False\n",
              "การไฟฟ้านครหลวง        False\n",
              "การไฟฟ้าส่วนภูมิภาค    False\n",
              "การไฟฟ้าลาว            False\n",
              "การไฟฟ้ามาเลเซีย       False\n",
              "การไฟฟ้ากัมพูชา        False\n",
              "ลูกค้าโดยตรง           False\n",
              "อื่น ๆ                 False\n",
              "รวมทั้งสิ้น_x          False\n",
              "พลังความร้อน           False\n",
              "พลังน้ำ                False\n",
              "กังหันแก๊ส             False\n",
              "พลังความร้อนร่วม       False\n",
              "ดีเซล                  False\n",
              "พลังงานทดแทน           False\n",
              "ซื้อ                   False\n",
              "รวมทั้งสิ้น_y          False\n",
              "69 kv                  False\n",
              "115 kv                 False\n",
              "132 kv                 False\n",
              "230 kv                 False\n",
              "300 kv                 False\n",
              "500 kv                 False\n",
              "รวมทั้งสิ้น            False\n",
              "dtype: bool"
            ]
          },
          "metadata": {},
          "execution_count": 29
        }
      ]
    },
    {
      "cell_type": "code",
      "metadata": {
        "colab": {
          "base_uri": "https://localhost:8080/"
        },
        "id": "zO4ehN1PE2Wq",
        "outputId": "991eec7c-a74f-4a70-b152-9a685a69ba74"
      },
      "source": [
        "merged_3_tables.shape #ข้อมูลมี 5 row 24 column"
      ],
      "execution_count": 30,
      "outputs": [
        {
          "output_type": "execute_result",
          "data": {
            "text/plain": [
              "(5, 24)"
            ]
          },
          "metadata": {},
          "execution_count": 30
        }
      ]
    },
    {
      "cell_type": "markdown",
      "metadata": {
        "id": "IquPHdwgFSuL"
      },
      "source": [
        "##ตารางที่ใช้ในการดู challenge"
      ]
    },
    {
      "cell_type": "code",
      "metadata": {
        "colab": {
          "base_uri": "https://localhost:8080/",
          "height": 204
        },
        "id": "JYUF1DJLE2U5",
        "outputId": "cf4f1322-f57e-4984-adbf-4068a726e36a"
      },
      "source": [
        "data = merged_3_tables[['ปี','รวมทั้งสิ้น_x','รวมทั้งสิ้น_y','รวมทั้งสิ้น']]\n",
        "data"
      ],
      "execution_count": 31,
      "outputs": [
        {
          "output_type": "execute_result",
          "data": {
            "text/html": [
              "<div>\n",
              "<style scoped>\n",
              "    .dataframe tbody tr th:only-of-type {\n",
              "        vertical-align: middle;\n",
              "    }\n",
              "\n",
              "    .dataframe tbody tr th {\n",
              "        vertical-align: top;\n",
              "    }\n",
              "\n",
              "    .dataframe thead th {\n",
              "        text-align: right;\n",
              "    }\n",
              "</style>\n",
              "<table border=\"1\" class=\"dataframe\">\n",
              "  <thead>\n",
              "    <tr style=\"text-align: right;\">\n",
              "      <th></th>\n",
              "      <th>ปี</th>\n",
              "      <th>รวมทั้งสิ้น_x</th>\n",
              "      <th>รวมทั้งสิ้น_y</th>\n",
              "      <th>รวมทั้งสิ้น</th>\n",
              "    </tr>\n",
              "  </thead>\n",
              "  <tbody>\n",
              "    <tr>\n",
              "      <th>0</th>\n",
              "      <td>2559</td>\n",
              "      <td>185,046.51</td>\n",
              "      <td>41,096.25</td>\n",
              "      <td>33,366.88</td>\n",
              "    </tr>\n",
              "    <tr>\n",
              "      <th>1</th>\n",
              "      <td>2560</td>\n",
              "      <td>185,130.89</td>\n",
              "      <td>42,433.25</td>\n",
              "      <td>33,393.19</td>\n",
              "    </tr>\n",
              "    <tr>\n",
              "      <th>2</th>\n",
              "      <td>2561</td>\n",
              "      <td>187,388.54</td>\n",
              "      <td>43,372.50</td>\n",
              "      <td>34,553.86</td>\n",
              "    </tr>\n",
              "    <tr>\n",
              "      <th>3</th>\n",
              "      <td>2562</td>\n",
              "      <td>193,439.15</td>\n",
              "      <td>45,298.25</td>\n",
              "      <td>35,981.45</td>\n",
              "    </tr>\n",
              "    <tr>\n",
              "      <th>4</th>\n",
              "      <td>2563</td>\n",
              "      <td>187,489.39</td>\n",
              "      <td>46,480.37</td>\n",
              "      <td>37,083.92</td>\n",
              "    </tr>\n",
              "  </tbody>\n",
              "</table>\n",
              "</div>"
            ],
            "text/plain": [
              "     ปี รวมทั้งสิ้น_x รวมทั้งสิ้น_y รวมทั้งสิ้น\n",
              "0  2559    185,046.51     41,096.25   33,366.88\n",
              "1  2560    185,130.89     42,433.25   33,393.19\n",
              "2  2561    187,388.54     43,372.50   34,553.86\n",
              "3  2562    193,439.15     45,298.25   35,981.45\n",
              "4  2563    187,489.39     46,480.37   37,083.92"
            ]
          },
          "metadata": {},
          "execution_count": 31
        }
      ]
    },
    {
      "cell_type": "code",
      "metadata": {
        "colab": {
          "base_uri": "https://localhost:8080/"
        },
        "id": "2D97_pQtE2Sh",
        "outputId": "87f9e812-a05d-4f77-a305-34d4972cdf0d"
      },
      "source": [
        "data.shape #ข้อมูลนี้มี 5 row 4 column"
      ],
      "execution_count": 32,
      "outputs": [
        {
          "output_type": "execute_result",
          "data": {
            "text/plain": [
              "(5, 4)"
            ]
          },
          "metadata": {},
          "execution_count": 32
        }
      ]
    },
    {
      "cell_type": "code",
      "metadata": {
        "colab": {
          "base_uri": "https://localhost:8080/"
        },
        "id": "Z-heDQJ2E2Qp",
        "outputId": "a0122f27-b4d1-416c-bec8-33ed4c14b078"
      },
      "source": [
        "data.isnull().any() #ตรวจสอบว่าตารางมีค่าว่างหรือไม่ จะเห็นว่าไม่คอลัมน์ที่มีค่าว่าง"
      ],
      "execution_count": 33,
      "outputs": [
        {
          "output_type": "execute_result",
          "data": {
            "text/plain": [
              "ปี               False\n",
              "รวมทั้งสิ้น_x    False\n",
              "รวมทั้งสิ้น_y    False\n",
              "รวมทั้งสิ้น      False\n",
              "dtype: bool"
            ]
          },
          "metadata": {},
          "execution_count": 33
        }
      ]
    },
    {
      "cell_type": "code",
      "metadata": {
        "id": "SdsxtOziGt0A"
      },
      "source": [
        "X=merged_3_tables[['การไฟฟ้านครหลวง','การไฟฟ้าส่วนภูมิภาค','การไฟฟ้าลาว','การไฟฟ้ามาเลเซีย','การไฟฟ้ากัมพูชา','ลูกค้าโดยตรง','อื่น ๆ']]"
      ],
      "execution_count": 52,
      "outputs": []
    },
    {
      "cell_type": "code",
      "metadata": {
        "id": "VtZMOXj9GtyQ"
      },
      "source": [
        "Y=merged_3_tables[['พลังความร้อน','พลังน้ำ','กังหันแก๊ส','พลังความร้อนร่วม','ดีเซล','พลังงานทดแทน','ซื้อ']]"
      ],
      "execution_count": 53,
      "outputs": []
    },
    {
      "cell_type": "markdown",
      "metadata": {
        "id": "cMe6HcLJHltS"
      },
      "source": [
        "##DecisionTreeClassifier"
      ]
    },
    {
      "cell_type": "code",
      "metadata": {
        "id": "OHm41Nf6GtwY"
      },
      "source": [
        "from sklearn.tree import DecisionTreeClassifier"
      ],
      "execution_count": 36,
      "outputs": []
    },
    {
      "cell_type": "code",
      "metadata": {
        "id": "3y7WjfFrGtug"
      },
      "source": [
        "mytree = DecisionTreeClassifier() # กำหนดชั้นของ decision tree"
      ],
      "execution_count": 37,
      "outputs": []
    },
    {
      "cell_type": "code",
      "metadata": {
        "colab": {
          "base_uri": "https://localhost:8080/",
          "height": 307
        },
        "id": "wd-FrXrAGtsY",
        "outputId": "6d3f3a41-3ba6-43ab-c662-8e788fc098e5"
      },
      "source": [
        "T = mytree.fit(X,Y) # สร้าง model ขึ้นมา"
      ],
      "execution_count": 42,
      "outputs": [
        {
          "output_type": "error",
          "ename": "ValueError",
          "evalue": "ignored",
          "traceback": [
            "\u001b[0;31m---------------------------------------------------------------------------\u001b[0m",
            "\u001b[0;31mValueError\u001b[0m                                Traceback (most recent call last)",
            "\u001b[0;32m<ipython-input-42-041798336f9b>\u001b[0m in \u001b[0;36m<module>\u001b[0;34m()\u001b[0m\n\u001b[0;32m----> 1\u001b[0;31m \u001b[0mT\u001b[0m \u001b[0;34m=\u001b[0m \u001b[0mint\u001b[0m\u001b[0;34m(\u001b[0m\u001b[0mmytree\u001b[0m\u001b[0;34m.\u001b[0m\u001b[0mfit\u001b[0m\u001b[0;34m(\u001b[0m\u001b[0mX\u001b[0m\u001b[0;34m,\u001b[0m\u001b[0mY\u001b[0m\u001b[0;34m)\u001b[0m\u001b[0;34m)\u001b[0m \u001b[0;31m# สร้าง model ขึ้นมา\u001b[0m\u001b[0;34m\u001b[0m\u001b[0;34m\u001b[0m\u001b[0m\n\u001b[0m",
            "\u001b[0;32m/usr/local/lib/python3.7/dist-packages/sklearn/tree/_classes.py\u001b[0m in \u001b[0;36mfit\u001b[0;34m(self, X, y, sample_weight, check_input, X_idx_sorted)\u001b[0m\n\u001b[1;32m    875\u001b[0m             \u001b[0msample_weight\u001b[0m\u001b[0;34m=\u001b[0m\u001b[0msample_weight\u001b[0m\u001b[0;34m,\u001b[0m\u001b[0;34m\u001b[0m\u001b[0;34m\u001b[0m\u001b[0m\n\u001b[1;32m    876\u001b[0m             \u001b[0mcheck_input\u001b[0m\u001b[0;34m=\u001b[0m\u001b[0mcheck_input\u001b[0m\u001b[0;34m,\u001b[0m\u001b[0;34m\u001b[0m\u001b[0;34m\u001b[0m\u001b[0m\n\u001b[0;32m--> 877\u001b[0;31m             X_idx_sorted=X_idx_sorted)\n\u001b[0m\u001b[1;32m    878\u001b[0m         \u001b[0;32mreturn\u001b[0m \u001b[0mself\u001b[0m\u001b[0;34m\u001b[0m\u001b[0;34m\u001b[0m\u001b[0m\n\u001b[1;32m    879\u001b[0m \u001b[0;34m\u001b[0m\u001b[0m\n",
            "\u001b[0;32m/usr/local/lib/python3.7/dist-packages/sklearn/tree/_classes.py\u001b[0m in \u001b[0;36mfit\u001b[0;34m(self, X, y, sample_weight, check_input, X_idx_sorted)\u001b[0m\n\u001b[1;32m    147\u001b[0m \u001b[0;34m\u001b[0m\u001b[0m\n\u001b[1;32m    148\u001b[0m         \u001b[0;32mif\u001b[0m \u001b[0mcheck_input\u001b[0m\u001b[0;34m:\u001b[0m\u001b[0;34m\u001b[0m\u001b[0;34m\u001b[0m\u001b[0m\n\u001b[0;32m--> 149\u001b[0;31m             \u001b[0mX\u001b[0m \u001b[0;34m=\u001b[0m \u001b[0mcheck_array\u001b[0m\u001b[0;34m(\u001b[0m\u001b[0mX\u001b[0m\u001b[0;34m,\u001b[0m \u001b[0mdtype\u001b[0m\u001b[0;34m=\u001b[0m\u001b[0mDTYPE\u001b[0m\u001b[0;34m,\u001b[0m \u001b[0maccept_sparse\u001b[0m\u001b[0;34m=\u001b[0m\u001b[0;34m\"csc\"\u001b[0m\u001b[0;34m)\u001b[0m\u001b[0;34m\u001b[0m\u001b[0;34m\u001b[0m\u001b[0m\n\u001b[0m\u001b[1;32m    150\u001b[0m             \u001b[0my\u001b[0m \u001b[0;34m=\u001b[0m \u001b[0mcheck_array\u001b[0m\u001b[0;34m(\u001b[0m\u001b[0my\u001b[0m\u001b[0;34m,\u001b[0m \u001b[0mensure_2d\u001b[0m\u001b[0;34m=\u001b[0m\u001b[0;32mFalse\u001b[0m\u001b[0;34m,\u001b[0m \u001b[0mdtype\u001b[0m\u001b[0;34m=\u001b[0m\u001b[0;32mNone\u001b[0m\u001b[0;34m)\u001b[0m\u001b[0;34m\u001b[0m\u001b[0;34m\u001b[0m\u001b[0m\n\u001b[1;32m    151\u001b[0m             \u001b[0;32mif\u001b[0m \u001b[0missparse\u001b[0m\u001b[0;34m(\u001b[0m\u001b[0mX\u001b[0m\u001b[0;34m)\u001b[0m\u001b[0;34m:\u001b[0m\u001b[0;34m\u001b[0m\u001b[0;34m\u001b[0m\u001b[0m\n",
            "\u001b[0;32m/usr/local/lib/python3.7/dist-packages/sklearn/utils/validation.py\u001b[0m in \u001b[0;36mcheck_array\u001b[0;34m(array, accept_sparse, accept_large_sparse, dtype, order, copy, force_all_finite, ensure_2d, allow_nd, ensure_min_samples, ensure_min_features, warn_on_dtype, estimator)\u001b[0m\n\u001b[1;32m    529\u001b[0m                     \u001b[0marray\u001b[0m \u001b[0;34m=\u001b[0m \u001b[0marray\u001b[0m\u001b[0;34m.\u001b[0m\u001b[0mastype\u001b[0m\u001b[0;34m(\u001b[0m\u001b[0mdtype\u001b[0m\u001b[0;34m,\u001b[0m \u001b[0mcasting\u001b[0m\u001b[0;34m=\u001b[0m\u001b[0;34m\"unsafe\"\u001b[0m\u001b[0;34m,\u001b[0m \u001b[0mcopy\u001b[0m\u001b[0;34m=\u001b[0m\u001b[0;32mFalse\u001b[0m\u001b[0;34m)\u001b[0m\u001b[0;34m\u001b[0m\u001b[0;34m\u001b[0m\u001b[0m\n\u001b[1;32m    530\u001b[0m                 \u001b[0;32melse\u001b[0m\u001b[0;34m:\u001b[0m\u001b[0;34m\u001b[0m\u001b[0;34m\u001b[0m\u001b[0m\n\u001b[0;32m--> 531\u001b[0;31m                     \u001b[0marray\u001b[0m \u001b[0;34m=\u001b[0m \u001b[0mnp\u001b[0m\u001b[0;34m.\u001b[0m\u001b[0masarray\u001b[0m\u001b[0;34m(\u001b[0m\u001b[0marray\u001b[0m\u001b[0;34m,\u001b[0m \u001b[0morder\u001b[0m\u001b[0;34m=\u001b[0m\u001b[0morder\u001b[0m\u001b[0;34m,\u001b[0m \u001b[0mdtype\u001b[0m\u001b[0;34m=\u001b[0m\u001b[0mdtype\u001b[0m\u001b[0;34m)\u001b[0m\u001b[0;34m\u001b[0m\u001b[0;34m\u001b[0m\u001b[0m\n\u001b[0m\u001b[1;32m    532\u001b[0m             \u001b[0;32mexcept\u001b[0m \u001b[0mComplexWarning\u001b[0m\u001b[0;34m:\u001b[0m\u001b[0;34m\u001b[0m\u001b[0;34m\u001b[0m\u001b[0m\n\u001b[1;32m    533\u001b[0m                 raise ValueError(\"Complex data not supported\\n\"\n",
            "\u001b[0;32m/usr/local/lib/python3.7/dist-packages/numpy/core/_asarray.py\u001b[0m in \u001b[0;36masarray\u001b[0;34m(a, dtype, order)\u001b[0m\n\u001b[1;32m     81\u001b[0m \u001b[0;34m\u001b[0m\u001b[0m\n\u001b[1;32m     82\u001b[0m     \"\"\"\n\u001b[0;32m---> 83\u001b[0;31m     \u001b[0;32mreturn\u001b[0m \u001b[0marray\u001b[0m\u001b[0;34m(\u001b[0m\u001b[0ma\u001b[0m\u001b[0;34m,\u001b[0m \u001b[0mdtype\u001b[0m\u001b[0;34m,\u001b[0m \u001b[0mcopy\u001b[0m\u001b[0;34m=\u001b[0m\u001b[0;32mFalse\u001b[0m\u001b[0;34m,\u001b[0m \u001b[0morder\u001b[0m\u001b[0;34m=\u001b[0m\u001b[0morder\u001b[0m\u001b[0;34m)\u001b[0m\u001b[0;34m\u001b[0m\u001b[0;34m\u001b[0m\u001b[0m\n\u001b[0m\u001b[1;32m     84\u001b[0m \u001b[0;34m\u001b[0m\u001b[0m\n\u001b[1;32m     85\u001b[0m \u001b[0;34m\u001b[0m\u001b[0m\n",
            "\u001b[0;32m/usr/local/lib/python3.7/dist-packages/pandas/core/generic.py\u001b[0m in \u001b[0;36m__array__\u001b[0;34m(self, dtype)\u001b[0m\n\u001b[1;32m   1779\u001b[0m \u001b[0;34m\u001b[0m\u001b[0m\n\u001b[1;32m   1780\u001b[0m     \u001b[0;32mdef\u001b[0m \u001b[0m__array__\u001b[0m\u001b[0;34m(\u001b[0m\u001b[0mself\u001b[0m\u001b[0;34m,\u001b[0m \u001b[0mdtype\u001b[0m\u001b[0;34m=\u001b[0m\u001b[0;32mNone\u001b[0m\u001b[0;34m)\u001b[0m \u001b[0;34m->\u001b[0m \u001b[0mnp\u001b[0m\u001b[0;34m.\u001b[0m\u001b[0mndarray\u001b[0m\u001b[0;34m:\u001b[0m\u001b[0;34m\u001b[0m\u001b[0;34m\u001b[0m\u001b[0m\n\u001b[0;32m-> 1781\u001b[0;31m         \u001b[0;32mreturn\u001b[0m \u001b[0mnp\u001b[0m\u001b[0;34m.\u001b[0m\u001b[0masarray\u001b[0m\u001b[0;34m(\u001b[0m\u001b[0mself\u001b[0m\u001b[0;34m.\u001b[0m\u001b[0m_values\u001b[0m\u001b[0;34m,\u001b[0m \u001b[0mdtype\u001b[0m\u001b[0;34m=\u001b[0m\u001b[0mdtype\u001b[0m\u001b[0;34m)\u001b[0m\u001b[0;34m\u001b[0m\u001b[0;34m\u001b[0m\u001b[0m\n\u001b[0m\u001b[1;32m   1782\u001b[0m \u001b[0;34m\u001b[0m\u001b[0m\n\u001b[1;32m   1783\u001b[0m     \u001b[0;32mdef\u001b[0m \u001b[0m__array_wrap__\u001b[0m\u001b[0;34m(\u001b[0m\u001b[0mself\u001b[0m\u001b[0;34m,\u001b[0m \u001b[0mresult\u001b[0m\u001b[0;34m,\u001b[0m \u001b[0mcontext\u001b[0m\u001b[0;34m=\u001b[0m\u001b[0;32mNone\u001b[0m\u001b[0;34m)\u001b[0m\u001b[0;34m:\u001b[0m\u001b[0;34m\u001b[0m\u001b[0;34m\u001b[0m\u001b[0m\n",
            "\u001b[0;32m/usr/local/lib/python3.7/dist-packages/numpy/core/_asarray.py\u001b[0m in \u001b[0;36masarray\u001b[0;34m(a, dtype, order)\u001b[0m\n\u001b[1;32m     81\u001b[0m \u001b[0;34m\u001b[0m\u001b[0m\n\u001b[1;32m     82\u001b[0m     \"\"\"\n\u001b[0;32m---> 83\u001b[0;31m     \u001b[0;32mreturn\u001b[0m \u001b[0marray\u001b[0m\u001b[0;34m(\u001b[0m\u001b[0ma\u001b[0m\u001b[0;34m,\u001b[0m \u001b[0mdtype\u001b[0m\u001b[0;34m,\u001b[0m \u001b[0mcopy\u001b[0m\u001b[0;34m=\u001b[0m\u001b[0;32mFalse\u001b[0m\u001b[0;34m,\u001b[0m \u001b[0morder\u001b[0m\u001b[0;34m=\u001b[0m\u001b[0morder\u001b[0m\u001b[0;34m)\u001b[0m\u001b[0;34m\u001b[0m\u001b[0;34m\u001b[0m\u001b[0m\n\u001b[0m\u001b[1;32m     84\u001b[0m \u001b[0;34m\u001b[0m\u001b[0m\n\u001b[1;32m     85\u001b[0m \u001b[0;34m\u001b[0m\u001b[0m\n",
            "\u001b[0;31mValueError\u001b[0m: could not convert string to float: '56,585.63'"
          ]
        }
      ]
    },
    {
      "cell_type": "code",
      "metadata": {
        "id": "Yus793eNE2Oh"
      },
      "source": [
        "from sklearn.tree import plot_tree"
      ],
      "execution_count": 39,
      "outputs": []
    },
    {
      "cell_type": "code",
      "metadata": {
        "colab": {
          "base_uri": "https://localhost:8080/",
          "height": 538
        },
        "id": "eluW2IdNHv2U",
        "outputId": "8ca70763-bf71-48b9-f422-b6200876682a"
      },
      "source": [
        "plot_tree(mytree);"
      ],
      "execution_count": 40,
      "outputs": [
        {
          "output_type": "error",
          "ename": "AttributeError",
          "evalue": "ignored",
          "traceback": [
            "\u001b[0;31m---------------------------------------------------------------------------\u001b[0m",
            "\u001b[0;31mAttributeError\u001b[0m                            Traceback (most recent call last)",
            "\u001b[0;32m<ipython-input-40-1c0a40d84c07>\u001b[0m in \u001b[0;36m<module>\u001b[0;34m()\u001b[0m\n\u001b[0;32m----> 1\u001b[0;31m \u001b[0mplot_tree\u001b[0m\u001b[0;34m(\u001b[0m\u001b[0mmytree\u001b[0m\u001b[0;34m)\u001b[0m\u001b[0;34m;\u001b[0m\u001b[0;34m\u001b[0m\u001b[0;34m\u001b[0m\u001b[0m\n\u001b[0m",
            "\u001b[0;32m/usr/local/lib/python3.7/dist-packages/sklearn/tree/_export.py\u001b[0m in \u001b[0;36mplot_tree\u001b[0;34m(decision_tree, max_depth, feature_names, class_names, label, filled, impurity, node_ids, proportion, rotate, rounded, precision, ax, fontsize)\u001b[0m\n\u001b[1;32m    174\u001b[0m         \u001b[0mproportion\u001b[0m\u001b[0;34m=\u001b[0m\u001b[0mproportion\u001b[0m\u001b[0;34m,\u001b[0m \u001b[0mrotate\u001b[0m\u001b[0;34m=\u001b[0m\u001b[0mrotate\u001b[0m\u001b[0;34m,\u001b[0m \u001b[0mrounded\u001b[0m\u001b[0;34m=\u001b[0m\u001b[0mrounded\u001b[0m\u001b[0;34m,\u001b[0m\u001b[0;34m\u001b[0m\u001b[0;34m\u001b[0m\u001b[0m\n\u001b[1;32m    175\u001b[0m         precision=precision, fontsize=fontsize)\n\u001b[0;32m--> 176\u001b[0;31m     \u001b[0;32mreturn\u001b[0m \u001b[0mexporter\u001b[0m\u001b[0;34m.\u001b[0m\u001b[0mexport\u001b[0m\u001b[0;34m(\u001b[0m\u001b[0mdecision_tree\u001b[0m\u001b[0;34m,\u001b[0m \u001b[0max\u001b[0m\u001b[0;34m=\u001b[0m\u001b[0max\u001b[0m\u001b[0;34m)\u001b[0m\u001b[0;34m\u001b[0m\u001b[0;34m\u001b[0m\u001b[0m\n\u001b[0m\u001b[1;32m    177\u001b[0m \u001b[0;34m\u001b[0m\u001b[0m\n\u001b[1;32m    178\u001b[0m \u001b[0;34m\u001b[0m\u001b[0m\n",
            "\u001b[0;32m/usr/local/lib/python3.7/dist-packages/sklearn/tree/_export.py\u001b[0m in \u001b[0;36mexport\u001b[0;34m(self, decision_tree, ax)\u001b[0m\n\u001b[1;32m    564\u001b[0m         \u001b[0max\u001b[0m\u001b[0;34m.\u001b[0m\u001b[0mclear\u001b[0m\u001b[0;34m(\u001b[0m\u001b[0;34m)\u001b[0m\u001b[0;34m\u001b[0m\u001b[0;34m\u001b[0m\u001b[0m\n\u001b[1;32m    565\u001b[0m         \u001b[0max\u001b[0m\u001b[0;34m.\u001b[0m\u001b[0mset_axis_off\u001b[0m\u001b[0;34m(\u001b[0m\u001b[0;34m)\u001b[0m\u001b[0;34m\u001b[0m\u001b[0;34m\u001b[0m\u001b[0m\n\u001b[0;32m--> 566\u001b[0;31m         my_tree = self._make_tree(0, decision_tree.tree_,\n\u001b[0m\u001b[1;32m    567\u001b[0m                                   decision_tree.criterion)\n\u001b[1;32m    568\u001b[0m         \u001b[0mdraw_tree\u001b[0m \u001b[0;34m=\u001b[0m \u001b[0mbuchheim\u001b[0m\u001b[0;34m(\u001b[0m\u001b[0mmy_tree\u001b[0m\u001b[0;34m)\u001b[0m\u001b[0;34m\u001b[0m\u001b[0;34m\u001b[0m\u001b[0m\n",
            "\u001b[0;31mAttributeError\u001b[0m: 'DecisionTreeClassifier' object has no attribute 'tree_'"
          ]
        },
        {
          "output_type": "display_data",
          "data": {
            "image/png": "[encoded data removed]",
            "text/plain": [
              "<Figure size 432x288 with 1 Axes>"
            ]
          },
          "metadata": {
            "needs_background": "light"
          }
        }
      ]
    },
    {
      "cell_type": "code",
      "metadata": {
        "id": "OQXJfWOOHv0D"
      },
      "source": [
        ""
      ],
      "execution_count": null,
      "outputs": []
    },
    {
      "cell_type": "code",
      "metadata": {
        "id": "pF0Tfh5_Hvxz"
      },
      "source": [
        ""
      ],
      "execution_count": null,
      "outputs": []
    },
    {
      "cell_type": "code",
      "metadata": {
        "id": "pXZtvp3aHvvb"
      },
      "source": [
        ""
      ],
      "execution_count": null,
      "outputs": []
    },
    {
      "cell_type": "code",
      "metadata": {
        "id": "seQsfYxPE2MR"
      },
      "source": [
        ""
      ],
      "execution_count": 33,
      "outputs": []
    }
  ]
}