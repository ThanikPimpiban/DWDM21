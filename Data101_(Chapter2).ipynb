{
  "nbformat": 4,
  "nbformat_minor": 0,
  "metadata": {
    "colab": {
      "name": "Data101(Chapter2).ipynb",
      "provenance": [],
      "authorship_tag": "ABX9TyMuOLuK5p5fl6i6HX1iqp36",
      "include_colab_link": true
    },
    "kernelspec": {
      "name": "python3",
      "display_name": "Python 3"
    },
    "language_info": {
      "name": "python"
    }
  },
  "cells": [
    {
      "cell_type": "markdown",
      "metadata": {
        "id": "view-in-github",
        "colab_type": "text"
      },
      "source": [
        "<a href=\"https://colab.research.google.com/github/ThanikPimpiban/DWDM21/blob/main/Data101_(Chapter2).ipynb\" target=\"_parent\"><img src=\"https://colab.research.google.com/assets/colab-badge.svg\" alt=\"Open In Colab\"/></a>"
      ]
    },
    {
      "cell_type": "markdown",
      "metadata": {
        "id": "6pB3x-Gvt_B2"
      },
      "source": [
        "**ข้อดีหนึ่งของ Python คือมี package ที่ใช้ในการทำงานต่างๆ**\n",
        "\n",
        "ซึ่ง pandas เป็น package สำหรับการทำงานกับข้อมูลที่อยู่ในรูปแบบตาราง\n",
        "\n",
        "โดย pandas จะเรียกตารางนั้นว่า dataframe"
      ]
    },
    {
      "cell_type": "markdown",
      "metadata": {
        "id": "a3mlMEBYvKcD"
      },
      "source": [
        "#ส่วนของการเรียกใช้ import"
      ]
    },
    {
      "cell_type": "code",
      "metadata": {
        "id": "GcB1S5x3r6KX"
      },
      "source": [
        "import pandas as pd   ### เรียกใช้ package เกี่ยวกับการจัดการข้อมูล\n"
      ],
      "execution_count": 1,
      "outputs": []
    },
    {
      "cell_type": "markdown",
      "metadata": {
        "id": "yqoL6UQ7u6ly"
      },
      "source": [
        "**สกุลไฟล์ .CSV**\n",
        "\n",
        "ย่อมาจาก comma separated values"
      ]
    },
    {
      "cell_type": "markdown",
      "metadata": {
        "id": "okjnbhZ5vRgV"
      },
      "source": [
        "#ตัวอย่าง\n"
      ]
    },
    {
      "cell_type": "markdown",
      "metadata": {
        "id": "T-yYZaMow92w"
      },
      "source": [
        "**Upload ข้อมูล**"
      ]
    },
    {
      "cell_type": "code",
      "metadata": {
        "id": "NDujEnDFsyxd",
        "outputId": "736bcbe8-8bdb-4f8a-d1c9-64fc542829a2",
        "colab": {
          "base_uri": "https://localhost:8080/",
          "height": 375
        }
      },
      "source": [
        "data_ex = pd.read_csv(\"/content/data2\")"
      ],
      "execution_count": 2,
      "outputs": [
        {
          "output_type": "error",
          "ename": "FileNotFoundError",
          "evalue": "ignored",
          "traceback": [
            "\u001b[0;31m---------------------------------------------------------------------------\u001b[0m",
            "\u001b[0;31mFileNotFoundError\u001b[0m                         Traceback (most recent call last)",
            "\u001b[0;32m<ipython-input-2-20a1f22fb10e>\u001b[0m in \u001b[0;36m<module>\u001b[0;34m()\u001b[0m\n\u001b[0;32m----> 1\u001b[0;31m \u001b[0mdata_ex\u001b[0m \u001b[0;34m=\u001b[0m \u001b[0mpd\u001b[0m\u001b[0;34m.\u001b[0m\u001b[0mread_csv\u001b[0m\u001b[0;34m(\u001b[0m\u001b[0;34m\"/content/data2\"\u001b[0m\u001b[0;34m)\u001b[0m\u001b[0;34m\u001b[0m\u001b[0;34m\u001b[0m\u001b[0m\n\u001b[0m",
            "\u001b[0;32m/usr/local/lib/python3.7/dist-packages/pandas/io/parsers.py\u001b[0m in \u001b[0;36mread_csv\u001b[0;34m(filepath_or_buffer, sep, delimiter, header, names, index_col, usecols, squeeze, prefix, mangle_dupe_cols, dtype, engine, converters, true_values, false_values, skipinitialspace, skiprows, skipfooter, nrows, na_values, keep_default_na, na_filter, verbose, skip_blank_lines, parse_dates, infer_datetime_format, keep_date_col, date_parser, dayfirst, cache_dates, iterator, chunksize, compression, thousands, decimal, lineterminator, quotechar, quoting, doublequote, escapechar, comment, encoding, dialect, error_bad_lines, warn_bad_lines, delim_whitespace, low_memory, memory_map, float_precision)\u001b[0m\n\u001b[1;32m    686\u001b[0m     )\n\u001b[1;32m    687\u001b[0m \u001b[0;34m\u001b[0m\u001b[0m\n\u001b[0;32m--> 688\u001b[0;31m     \u001b[0;32mreturn\u001b[0m \u001b[0m_read\u001b[0m\u001b[0;34m(\u001b[0m\u001b[0mfilepath_or_buffer\u001b[0m\u001b[0;34m,\u001b[0m \u001b[0mkwds\u001b[0m\u001b[0;34m)\u001b[0m\u001b[0;34m\u001b[0m\u001b[0;34m\u001b[0m\u001b[0m\n\u001b[0m\u001b[1;32m    689\u001b[0m \u001b[0;34m\u001b[0m\u001b[0m\n\u001b[1;32m    690\u001b[0m \u001b[0;34m\u001b[0m\u001b[0m\n",
            "\u001b[0;32m/usr/local/lib/python3.7/dist-packages/pandas/io/parsers.py\u001b[0m in \u001b[0;36m_read\u001b[0;34m(filepath_or_buffer, kwds)\u001b[0m\n\u001b[1;32m    452\u001b[0m \u001b[0;34m\u001b[0m\u001b[0m\n\u001b[1;32m    453\u001b[0m     \u001b[0;31m# Create the parser.\u001b[0m\u001b[0;34m\u001b[0m\u001b[0;34m\u001b[0m\u001b[0;34m\u001b[0m\u001b[0m\n\u001b[0;32m--> 454\u001b[0;31m     \u001b[0mparser\u001b[0m \u001b[0;34m=\u001b[0m \u001b[0mTextFileReader\u001b[0m\u001b[0;34m(\u001b[0m\u001b[0mfp_or_buf\u001b[0m\u001b[0;34m,\u001b[0m \u001b[0;34m**\u001b[0m\u001b[0mkwds\u001b[0m\u001b[0;34m)\u001b[0m\u001b[0;34m\u001b[0m\u001b[0;34m\u001b[0m\u001b[0m\n\u001b[0m\u001b[1;32m    455\u001b[0m \u001b[0;34m\u001b[0m\u001b[0m\n\u001b[1;32m    456\u001b[0m     \u001b[0;32mif\u001b[0m \u001b[0mchunksize\u001b[0m \u001b[0;32mor\u001b[0m \u001b[0miterator\u001b[0m\u001b[0;34m:\u001b[0m\u001b[0;34m\u001b[0m\u001b[0;34m\u001b[0m\u001b[0m\n",
            "\u001b[0;32m/usr/local/lib/python3.7/dist-packages/pandas/io/parsers.py\u001b[0m in \u001b[0;36m__init__\u001b[0;34m(self, f, engine, **kwds)\u001b[0m\n\u001b[1;32m    946\u001b[0m             \u001b[0mself\u001b[0m\u001b[0;34m.\u001b[0m\u001b[0moptions\u001b[0m\u001b[0;34m[\u001b[0m\u001b[0;34m\"has_index_names\"\u001b[0m\u001b[0;34m]\u001b[0m \u001b[0;34m=\u001b[0m \u001b[0mkwds\u001b[0m\u001b[0;34m[\u001b[0m\u001b[0;34m\"has_index_names\"\u001b[0m\u001b[0;34m]\u001b[0m\u001b[0;34m\u001b[0m\u001b[0;34m\u001b[0m\u001b[0m\n\u001b[1;32m    947\u001b[0m \u001b[0;34m\u001b[0m\u001b[0m\n\u001b[0;32m--> 948\u001b[0;31m         \u001b[0mself\u001b[0m\u001b[0;34m.\u001b[0m\u001b[0m_make_engine\u001b[0m\u001b[0;34m(\u001b[0m\u001b[0mself\u001b[0m\u001b[0;34m.\u001b[0m\u001b[0mengine\u001b[0m\u001b[0;34m)\u001b[0m\u001b[0;34m\u001b[0m\u001b[0;34m\u001b[0m\u001b[0m\n\u001b[0m\u001b[1;32m    949\u001b[0m \u001b[0;34m\u001b[0m\u001b[0m\n\u001b[1;32m    950\u001b[0m     \u001b[0;32mdef\u001b[0m \u001b[0mclose\u001b[0m\u001b[0;34m(\u001b[0m\u001b[0mself\u001b[0m\u001b[0;34m)\u001b[0m\u001b[0;34m:\u001b[0m\u001b[0;34m\u001b[0m\u001b[0;34m\u001b[0m\u001b[0m\n",
            "\u001b[0;32m/usr/local/lib/python3.7/dist-packages/pandas/io/parsers.py\u001b[0m in \u001b[0;36m_make_engine\u001b[0;34m(self, engine)\u001b[0m\n\u001b[1;32m   1178\u001b[0m     \u001b[0;32mdef\u001b[0m \u001b[0m_make_engine\u001b[0m\u001b[0;34m(\u001b[0m\u001b[0mself\u001b[0m\u001b[0;34m,\u001b[0m \u001b[0mengine\u001b[0m\u001b[0;34m=\u001b[0m\u001b[0;34m\"c\"\u001b[0m\u001b[0;34m)\u001b[0m\u001b[0;34m:\u001b[0m\u001b[0;34m\u001b[0m\u001b[0;34m\u001b[0m\u001b[0m\n\u001b[1;32m   1179\u001b[0m         \u001b[0;32mif\u001b[0m \u001b[0mengine\u001b[0m \u001b[0;34m==\u001b[0m \u001b[0;34m\"c\"\u001b[0m\u001b[0;34m:\u001b[0m\u001b[0;34m\u001b[0m\u001b[0;34m\u001b[0m\u001b[0m\n\u001b[0;32m-> 1180\u001b[0;31m             \u001b[0mself\u001b[0m\u001b[0;34m.\u001b[0m\u001b[0m_engine\u001b[0m \u001b[0;34m=\u001b[0m \u001b[0mCParserWrapper\u001b[0m\u001b[0;34m(\u001b[0m\u001b[0mself\u001b[0m\u001b[0;34m.\u001b[0m\u001b[0mf\u001b[0m\u001b[0;34m,\u001b[0m \u001b[0;34m**\u001b[0m\u001b[0mself\u001b[0m\u001b[0;34m.\u001b[0m\u001b[0moptions\u001b[0m\u001b[0;34m)\u001b[0m\u001b[0;34m\u001b[0m\u001b[0;34m\u001b[0m\u001b[0m\n\u001b[0m\u001b[1;32m   1181\u001b[0m         \u001b[0;32melse\u001b[0m\u001b[0;34m:\u001b[0m\u001b[0;34m\u001b[0m\u001b[0;34m\u001b[0m\u001b[0m\n\u001b[1;32m   1182\u001b[0m             \u001b[0;32mif\u001b[0m \u001b[0mengine\u001b[0m \u001b[0;34m==\u001b[0m \u001b[0;34m\"python\"\u001b[0m\u001b[0;34m:\u001b[0m\u001b[0;34m\u001b[0m\u001b[0;34m\u001b[0m\u001b[0m\n",
            "\u001b[0;32m/usr/local/lib/python3.7/dist-packages/pandas/io/parsers.py\u001b[0m in \u001b[0;36m__init__\u001b[0;34m(self, src, **kwds)\u001b[0m\n\u001b[1;32m   2008\u001b[0m         \u001b[0mkwds\u001b[0m\u001b[0;34m[\u001b[0m\u001b[0;34m\"usecols\"\u001b[0m\u001b[0;34m]\u001b[0m \u001b[0;34m=\u001b[0m \u001b[0mself\u001b[0m\u001b[0;34m.\u001b[0m\u001b[0musecols\u001b[0m\u001b[0;34m\u001b[0m\u001b[0;34m\u001b[0m\u001b[0m\n\u001b[1;32m   2009\u001b[0m \u001b[0;34m\u001b[0m\u001b[0m\n\u001b[0;32m-> 2010\u001b[0;31m         \u001b[0mself\u001b[0m\u001b[0;34m.\u001b[0m\u001b[0m_reader\u001b[0m \u001b[0;34m=\u001b[0m \u001b[0mparsers\u001b[0m\u001b[0;34m.\u001b[0m\u001b[0mTextReader\u001b[0m\u001b[0;34m(\u001b[0m\u001b[0msrc\u001b[0m\u001b[0;34m,\u001b[0m \u001b[0;34m**\u001b[0m\u001b[0mkwds\u001b[0m\u001b[0;34m)\u001b[0m\u001b[0;34m\u001b[0m\u001b[0;34m\u001b[0m\u001b[0m\n\u001b[0m\u001b[1;32m   2011\u001b[0m         \u001b[0mself\u001b[0m\u001b[0;34m.\u001b[0m\u001b[0munnamed_cols\u001b[0m \u001b[0;34m=\u001b[0m \u001b[0mself\u001b[0m\u001b[0;34m.\u001b[0m\u001b[0m_reader\u001b[0m\u001b[0;34m.\u001b[0m\u001b[0munnamed_cols\u001b[0m\u001b[0;34m\u001b[0m\u001b[0;34m\u001b[0m\u001b[0m\n\u001b[1;32m   2012\u001b[0m \u001b[0;34m\u001b[0m\u001b[0m\n",
            "\u001b[0;32mpandas/_libs/parsers.pyx\u001b[0m in \u001b[0;36mpandas._libs.parsers.TextReader.__cinit__\u001b[0;34m()\u001b[0m\n",
            "\u001b[0;32mpandas/_libs/parsers.pyx\u001b[0m in \u001b[0;36mpandas._libs.parsers.TextReader._setup_parser_source\u001b[0;34m()\u001b[0m\n",
            "\u001b[0;31mFileNotFoundError\u001b[0m: [Errno 2] No such file or directory: '/content/data2'"
          ]
        }
      ]
    },
    {
      "cell_type": "code",
      "metadata": {
        "id": "NQhOOzRUxKTy"
      },
      "source": [
        "data_ex"
      ],
      "execution_count": null,
      "outputs": []
    },
    {
      "cell_type": "markdown",
      "metadata": {
        "id": "re27Qlv31k8p"
      },
      "source": [
        "#Basic"
      ]
    },
    {
      "cell_type": "markdown",
      "metadata": {
        "id": "elXZvIcQ0YQu"
      },
      "source": [
        "**Variables**"
      ]
    },
    {
      "cell_type": "markdown",
      "metadata": {
        "id": "D4vlp7tY1var"
      },
      "source": [
        "ข้อกำหนดในการตั้งชื่อตัวแปร\n",
        "\n",
        "1. *ห้ามเว้นวรรค*\n",
        "\n",
        "2. *พยายามใช้ Eng* \n",
        "\n",
        "3. *ตัวเล็กตัวใหญ่ เป็นตัวแปรคนละตัว เช่น A = 1 , a = 1*"
      ]
    },
    {
      "cell_type": "code",
      "metadata": {
        "id": "b3VYwv5oxYIa"
      },
      "source": [
        "var_a = 12"
      ],
      "execution_count": null,
      "outputs": []
    },
    {
      "cell_type": "code",
      "metadata": {
        "id": "y7yV5Nwn0eu4"
      },
      "source": [
        "var_b = 'Thanik'"
      ],
      "execution_count": null,
      "outputs": []
    },
    {
      "cell_type": "code",
      "metadata": {
        "id": "64dy_nW_0idP"
      },
      "source": [
        "var_c = var_a"
      ],
      "execution_count": null,
      "outputs": []
    },
    {
      "cell_type": "code",
      "metadata": {
        "id": "l4ZCo3sG1FBv"
      },
      "source": [
        "A = 1\n",
        "a = 1\n",
        "A+a"
      ],
      "execution_count": null,
      "outputs": []
    },
    {
      "cell_type": "code",
      "metadata": {
        "id": "mdABHOvv2IAA"
      },
      "source": [
        "var_1 = 12\n",
        "var_2 = -41.2"
      ],
      "execution_count": null,
      "outputs": []
    },
    {
      "cell_type": "code",
      "metadata": {
        "id": "_TeYa26g5DL_"
      },
      "source": [
        "var_1+var_2"
      ],
      "execution_count": null,
      "outputs": []
    },
    {
      "cell_type": "markdown",
      "metadata": {
        "id": "JJ0Nkyvf7d24"
      },
      "source": [
        "##Var Type\n"
      ]
    },
    {
      "cell_type": "markdown",
      "metadata": {
        "id": "3thVtx427qJl"
      },
      "source": [
        "*int*\n",
        "\n",
        "*float*\n",
        "\n",
        "*str*"
      ]
    },
    {
      "cell_type": "code",
      "metadata": {
        "id": "7wPgrvUz5IKl"
      },
      "source": [
        "V_X = '-29.2000000000000003'"
      ],
      "execution_count": null,
      "outputs": []
    },
    {
      "cell_type": "code",
      "metadata": {
        "id": "ZiltuXvE9QOE"
      },
      "source": [
        "float(V_X)"
      ],
      "execution_count": null,
      "outputs": []
    },
    {
      "cell_type": "markdown",
      "metadata": {
        "id": "L_ZBKRaP9ZNL"
      },
      "source": [
        "#Data Structure"
      ]
    },
    {
      "cell_type": "markdown",
      "metadata": {
        "id": "goZcd2A49fAn"
      },
      "source": [
        "**list()**"
      ]
    },
    {
      "cell_type": "code",
      "metadata": {
        "id": "E85J8qgb9VSU"
      },
      "source": [
        "list_a = [1,2,0.2,'Thanik']\n",
        "list_b = [2,'xyz' ,list_a,[1,2,0.0]]"
      ],
      "execution_count": null,
      "outputs": []
    },
    {
      "cell_type": "code",
      "metadata": {
        "id": "ApHLQWw-94Kp"
      },
      "source": [
        "list_a"
      ],
      "execution_count": null,
      "outputs": []
    },
    {
      "cell_type": "code",
      "metadata": {
        "id": "QZAMzslm-AjS"
      },
      "source": [
        "list_b"
      ],
      "execution_count": null,
      "outputs": []
    },
    {
      "cell_type": "code",
      "metadata": {
        "id": "PkdRA88i-B5L"
      },
      "source": [
        "len(list_b)"
      ],
      "execution_count": null,
      "outputs": []
    },
    {
      "cell_type": "code",
      "metadata": {
        "id": "ha_Iu-wh-xkq"
      },
      "source": [
        "list_b[3]"
      ],
      "execution_count": null,
      "outputs": []
    },
    {
      "cell_type": "code",
      "metadata": {
        "id": "G-bPY9TK-hjq"
      },
      "source": [
        "list_b[3][1]"
      ],
      "execution_count": null,
      "outputs": []
    },
    {
      "cell_type": "markdown",
      "metadata": {
        "id": "BuPRrAog_p_5"
      },
      "source": [
        "#วิธีสร้าง list ว่าง"
      ]
    },
    {
      "cell_type": "code",
      "metadata": {
        "id": "K_05ZVJ9-lXL"
      },
      "source": [
        "list_c = list()  #แบบที่ 1 \n",
        "list_d = [] #แบบที่ 2 "
      ],
      "execution_count": null,
      "outputs": []
    },
    {
      "cell_type": "markdown",
      "metadata": {
        "id": "lpYEnTwsAd67"
      },
      "source": [
        "เติมค่าเข้าไปใน list (.append())"
      ]
    },
    {
      "cell_type": "markdown",
      "metadata": {
        "id": "11kdGrxOCfQN"
      },
      "source": [
        "##list slicing"
      ]
    },
    {
      "cell_type": "code",
      "metadata": {
        "id": "MKlxEKvVAEpq"
      },
      "source": [
        "list_ex = [1,2,3,5,6,8,-1,20,50,0] "
      ],
      "execution_count": null,
      "outputs": []
    },
    {
      "cell_type": "code",
      "metadata": {
        "id": "N5xKa8WTCn2Q"
      },
      "source": [
        "list_ex[1:6] #เอา list ตั้งแต่ตัวที่ 1 ถึง ตัวที่ 6 "
      ],
      "execution_count": null,
      "outputs": []
    },
    {
      "cell_type": "markdown",
      "metadata": {
        "id": "R-fQ5FclEa89"
      },
      "source": [
        "**[จุดเริ่มต้น : จุดสุดท้าย : Step]**"
      ]
    },
    {
      "cell_type": "code",
      "metadata": {
        "id": "INw-7DPNEqfy"
      },
      "source": [
        "list_ex[::2]"
      ],
      "execution_count": null,
      "outputs": []
    },
    {
      "cell_type": "code",
      "metadata": {
        "id": "VKU1Jm16Czow"
      },
      "source": [
        "list_ex[::-1]  #กลับหัว-ท้ายของ list"
      ],
      "execution_count": null,
      "outputs": []
    },
    {
      "cell_type": "code",
      "metadata": {
        "id": "w86R0AHGEnt-"
      },
      "source": [
        "a='Stat KKU'"
      ],
      "execution_count": null,
      "outputs": []
    },
    {
      "cell_type": "code",
      "metadata": {
        "id": "prRrn05LFAaN"
      },
      "source": [
        "a[:4]"
      ],
      "execution_count": null,
      "outputs": []
    },
    {
      "cell_type": "code",
      "metadata": {
        "id": "ntw1LetbFG9n"
      },
      "source": [
        "a[5:]"
      ],
      "execution_count": null,
      "outputs": []
    },
    {
      "cell_type": "code",
      "metadata": {
        "id": "eQuBbrorFX3-"
      },
      "source": [
        "a[5:8]"
      ],
      "execution_count": null,
      "outputs": []
    },
    {
      "cell_type": "code",
      "metadata": {
        "id": "7MhNkkkCFyC3"
      },
      "source": [
        "a[5::]"
      ],
      "execution_count": null,
      "outputs": []
    },
    {
      "cell_type": "code",
      "metadata": {
        "id": "qfNeTdwpF4le"
      },
      "source": [
        "a[-3::]"
      ],
      "execution_count": null,
      "outputs": []
    },
    {
      "cell_type": "code",
      "metadata": {
        "id": "8RRMxIvTGUMN"
      },
      "source": [
        ""
      ],
      "execution_count": null,
      "outputs": []
    },
    {
      "cell_type": "markdown",
      "metadata": {
        "id": "NY2a9xF6Gz08"
      },
      "source": [
        "## list + list"
      ]
    },
    {
      "cell_type": "code",
      "metadata": {
        "id": "7wzFAajxG3KN"
      },
      "source": [
        "list_a\n",
        "list_b"
      ],
      "execution_count": null,
      "outputs": []
    },
    {
      "cell_type": "code",
      "metadata": {
        "id": "Iio5p9RoHbrs"
      },
      "source": [
        "list_a+list_b"
      ],
      "execution_count": null,
      "outputs": []
    },
    {
      "cell_type": "markdown",
      "metadata": {
        "id": "oAc_4B6mHaVf"
      },
      "source": [
        "## for loop"
      ]
    },
    {
      "cell_type": "code",
      "metadata": {
        "id": "okNlTe-FHk8Y"
      },
      "source": [
        "for i in [1,2,3,4,5]:\n",
        "      print(i+1)"
      ],
      "execution_count": null,
      "outputs": []
    },
    {
      "cell_type": "code",
      "metadata": {
        "id": "rY5geLMbMm_E"
      },
      "source": [
        "for i in [1,2,3,4,5]:\n",
        "      print(f'ค่าตัวแปร x คือ {i} และ x+2 = {i+2}')"
      ],
      "execution_count": null,
      "outputs": []
    },
    {
      "cell_type": "code",
      "metadata": {
        "id": "GzhPpVMLM3iD"
      },
      "source": [
        "list_5=[1,2,3,4,5]\n",
        "for i in list_5:\n",
        "  print(f'ค่าตัวแปร x คือ {i} และ x+2 = {i+2}')"
      ],
      "execution_count": null,
      "outputs": []
    },
    {
      "cell_type": "code",
      "metadata": {
        "id": "RBK56nWVNGkm"
      },
      "source": [
        "list(range(10))"
      ],
      "execution_count": null,
      "outputs": []
    },
    {
      "cell_type": "code",
      "metadata": {
        "id": "WWehp13tNZPE"
      },
      "source": [
        "for i in range(2,7):\n",
        "  print(i)"
      ],
      "execution_count": null,
      "outputs": []
    },
    {
      "cell_type": "code",
      "metadata": {
        "id": "DXDF-QUnN8q7"
      },
      "source": [
        "for i in range(2,7,2):\n",
        "  print(i)"
      ],
      "execution_count": null,
      "outputs": []
    },
    {
      "cell_type": "code",
      "metadata": {
        "id": "f2RwJor_O5Ef"
      },
      "source": [
        "for i in range(5):\n",
        "  print('hahaha')\n",
        "  x = i +3\n",
        "  print(f'i = {i} x= {x}')"
      ],
      "execution_count": null,
      "outputs": []
    },
    {
      "cell_type": "markdown",
      "metadata": {
        "id": "5Ln6a7RMPXYr"
      },
      "source": [
        "#Nested loop"
      ]
    },
    {
      "cell_type": "code",
      "metadata": {
        "colab": {
          "base_uri": "https://localhost:8080/"
        },
        "id": "BoUt_TCaPnpx",
        "outputId": "c4addc9f-10a4-4656-9eb0-f3cf76d1a76e"
      },
      "source": [
        "for i in range(3):\n",
        "  for j in range(4):\n",
        "    print(f'i = {i} j = {j} i+j = {i+j}')"
      ],
      "execution_count": 3,
      "outputs": [
        {
          "output_type": "stream",
          "text": [
            "i = 0 j = 0 i+j = 0\n",
            "i = 0 j = 1 i+j = 1\n",
            "i = 0 j = 2 i+j = 2\n",
            "i = 0 j = 3 i+j = 3\n",
            "i = 1 j = 0 i+j = 1\n",
            "i = 1 j = 1 i+j = 2\n",
            "i = 1 j = 2 i+j = 3\n",
            "i = 1 j = 3 i+j = 4\n",
            "i = 2 j = 0 i+j = 2\n",
            "i = 2 j = 1 i+j = 3\n",
            "i = 2 j = 2 i+j = 4\n",
            "i = 2 j = 3 i+j = 5\n"
          ],
          "name": "stdout"
        }
      ]
    },
    {
      "cell_type": "markdown",
      "metadata": {
        "id": "9hlvjp3WHjpj"
      },
      "source": [
        "#Condition "
      ]
    },
    {
      "cell_type": "code",
      "metadata": {
        "id": "z5939Nb0lXgu"
      },
      "source": [
        "stringx = 'ajaiopakdfapodkapdfka'\n",
        "\n",
        "if len(stringx) > 30:\n",
        "  print (f'{string} is longer than 30 charecters')"
      ],
      "execution_count": 4,
      "outputs": []
    },
    {
      "cell_type": "code",
      "metadata": {
        "id": "cN1QABzylZXP",
        "colab": {
          "base_uri": "https://localhost:8080/"
        },
        "outputId": "18fcac86-8b1f-424e-fb53-e6a5384ee9e7"
      },
      "source": [
        "stringx = 'ajaiopakdfapodkapdfka'\n",
        "\n",
        "if len(stringx) > 100:\n",
        "  print (f'{string} is longer than 100 charecters')\n",
        "else :\n",
        "  print (f'{stringx} is {len(stringx)} charecters long')"
      ],
      "execution_count": 5,
      "outputs": [
        {
          "output_type": "stream",
          "text": [
            "ajaiopakdfapodkapdfka is 21 charecters long\n"
          ],
          "name": "stdout"
        }
      ]
    },
    {
      "cell_type": "code",
      "metadata": {
        "id": "UJFNPDrflbkc",
        "colab": {
          "base_uri": "https://localhost:8080/"
        },
        "outputId": "ac73c0ba-84f0-4741-b790-76483264642b"
      },
      "source": [
        "password = '12345'\n",
        "\n",
        "input_pass = '123'\n",
        "if input_pass == password:\n",
        "  print('Welcome!')\n",
        "elif len(input_pass) > len(password) :\n",
        "  print ('Too long, Try again')\n",
        "elif len(input_pass) < len(password) :\n",
        "  print ('Too short, Try again')\n",
        "else :\n",
        "  print ('Wrong passwords, Try again')"
      ],
      "execution_count": 6,
      "outputs": [
        {
          "output_type": "stream",
          "text": [
            "Too short, Try again\n"
          ],
          "name": "stdout"
        }
      ]
    },
    {
      "cell_type": "markdown",
      "metadata": {
        "id": "SJ7487vjN9zg"
      },
      "source": [
        "#quiz 1 หาค่า min"
      ]
    },
    {
      "cell_type": "code",
      "metadata": {
        "id": "jR4aNoVLOBqc"
      },
      "source": [
        "q1 = [1,5,9,-19,-2] "
      ],
      "execution_count": 7,
      "outputs": []
    },
    {
      "cell_type": "code",
      "metadata": {
        "colab": {
          "base_uri": "https://localhost:8080/"
        },
        "id": "B_JuSSOSOIUU",
        "outputId": "0d997390-3fc3-4d63-9a96-228dd925d64c"
      },
      "source": [
        "    m =0\n",
        "    for i in q1[:]:\n",
        "        if i < m:\n",
        "           print(f'ค่าต่ำสุดใน list คือ {i} ')  \n",
        "           break         \n"
      ],
      "execution_count": 8,
      "outputs": [
        {
          "output_type": "stream",
          "text": [
            "ค่าต่ำสุดใน list คือ -19 \n"
          ],
          "name": "stdout"
        }
      ]
    },
    {
      "cell_type": "markdown",
      "metadata": {
        "id": "jYLAze93Ui-f"
      },
      "source": [
        "#HW 3 ตัดเกรด"
      ]
    },
    {
      "cell_type": "code",
      "metadata": {
        "id": "7gneEFJWOpSL"
      },
      "source": [
        "score = [49,65,70,95,82,55,89,20,77,77,81,59,10]"
      ],
      "execution_count": 9,
      "outputs": []
    },
    {
      "cell_type": "markdown",
      "metadata": {
        "id": "tBfOohlkVyUs"
      },
      "source": [
        "**เกณฑ์ตัดเกรด**\n",
        "\n",
        "80+ = A\n",
        "\n",
        "75 - 79 = B+\n",
        "\n",
        "70-74 = B\n",
        "\n",
        "65 - 69 = C+\n",
        "\n",
        "60 - 64 = C\n",
        "\n",
        "55 - 59 = D+\n",
        "\n",
        "50 - 54 =D\n",
        "\n",
        "49 - 0 = F\n"
      ]
    },
    {
      "cell_type": "code",
      "metadata": {
        "colab": {
          "base_uri": "https://localhost:8080/"
        },
        "id": "Fr0c2mtqWTmg",
        "outputId": "125b2d9a-7f90-46e5-b37a-5b332f1f00c5"
      },
      "source": [
        "### สร้างกลุ่ม list ของเกรดแต่ละช่วง\n",
        "list_A = []\n",
        "list_Bp = []\n",
        "list_B = []\n",
        "list_Cp = []\n",
        "list_C = []\n",
        "list_Dp = []\n",
        "list_D = []\n",
        "list_F = []\n",
        "\n",
        "### loop หาคะแนนตามช่วง\n",
        "for i in  score[:]:\n",
        "    if i >= 80:\n",
        "      list_A.append(i)   \n",
        "    if 75 <= i <= 79:\n",
        "      list_Bp.append(i)\n",
        "    if 70 <= i <= 74:\n",
        "      list_B.append(i)\n",
        "    if 65 <= i <= 69:\n",
        "      list_Cp.append(i)\n",
        "    if 60 <= i <= 64:\n",
        "      list_C.append(i)\n",
        "    if 55 <= i <= 59:\n",
        "      list_Dp.append(i)\n",
        "    if 50 <= i <= 54:\n",
        "      list_D.append(i)\n",
        "    if i <= 49:\n",
        "      list_F.append(i)\n",
        "    \n",
        "     \n",
        "     \n",
        "### แสดงเกรดทั้งหมด และ คะแนนที่ได้\n",
        "print(f'เกรด A    มี {len(list_A)}  คน ได้แก่ {list_A}')\n",
        "print(f'เกรด B+  มี {len(list_Bp)} คน ได้แก่ {list_Bp}')\n",
        "print(f'เกรด B    มี {len(list_B)}  คน ได้แก่ {list_B}')\n",
        "print(f'เกรด C+  มี {len(list_Cp)} คน ได้แก่ {list_Cp}')\n",
        "print(f'เกรด C    มี {len(list_C)}  คน ได้แก่ {list_C}')\n",
        "print(f'เกรด D+  มี {len(list_Dp)} คน ได้แก่ {list_Dp}')\n",
        "print(f'เกรด D    มี {len(list_D)}  คน ได้แก่ {list_D}')\n",
        "print(f'เกรด F     มี {len(list_F)}  คน ได้แก่ {list_F}')\n"
      ],
      "execution_count": 10,
      "outputs": [
        {
          "output_type": "stream",
          "text": [
            "เกรด A    มี 4  คน ได้แก่ [95, 82, 89, 81]\n",
            "เกรด B+  มี 2 คน ได้แก่ [77, 77]\n",
            "เกรด B    มี 1  คน ได้แก่ [70]\n",
            "เกรด C+  มี 1 คน ได้แก่ [65]\n",
            "เกรด C    มี 0  คน ได้แก่ []\n",
            "เกรด D+  มี 2 คน ได้แก่ [55, 59]\n",
            "เกรด D    มี 0  คน ได้แก่ []\n",
            "เกรด F     มี 3  คน ได้แก่ [49, 20, 10]\n"
          ],
          "name": "stdout"
        }
      ]
    },
    {
      "cell_type": "markdown",
      "metadata": {
        "id": "VFNjiZ8LHo8C"
      },
      "source": [
        "#Function\n",
        "\n",
        "```python\n",
        "def ชื่อฟังก์ชัน (input1,input2,....):\n",
        "\n",
        "    งานxxx\n",
        "\n",
        "    งานyyy\n",
        "\n",
        "    return output```\n",
        "    \n",
        "\n",
        "ส่วนประกอบสำคัญ\n",
        "* input\n",
        "* process\n",
        "* output"
      ]
    },
    {
      "cell_type": "markdown",
      "metadata": {
        "id": "uyEf34Oyy2_K"
      },
      "source": [
        "## Example 1"
      ]
    },
    {
      "cell_type": "code",
      "metadata": {
        "id": "-yy6ZuX4ZUnm"
      },
      "source": [
        "def grading (score):\n",
        "        if score >= 80:\n",
        "            grade = 'A'\n",
        "        elif score >= 75:\n",
        "            grade = 'B+'\n",
        "        elif score >= 70:\n",
        "            grade = 'B'\n",
        "        elif score >= 65:\n",
        "            grade = 'C+'\n",
        "        elif score >= 60:\n",
        "            grade = 'C'\n",
        "        elif score >= 55:\n",
        "            grade = 'D+'\n",
        "        elif score >= 50:\n",
        "            grade = 'D'\n",
        "        else:  \n",
        "            grade = 'F'\n",
        "            grade_list.append(score,grade)\n",
        "        return grade"
      ],
      "execution_count": 55,
      "outputs": []
    },
    {
      "cell_type": "code",
      "metadata": {
        "id": "qtBFj9_axYB9",
        "outputId": "0daa9b6e-36fc-4541-8715-cafdf3c85d9f",
        "colab": {
          "base_uri": "https://localhost:8080/"
        }
      },
      "source": [
        "score = [49,65,70,95,82,55,89,20,77,77,81,59,10]\n",
        "for i in score:\n",
        "    print(f'คะแนน {i} ได้เกรด {grading (i) }')"
      ],
      "execution_count": 59,
      "outputs": [
        {
          "output_type": "stream",
          "text": [
            "คะแนน 49 ได้เกรด F\n",
            "คะแนน 65 ได้เกรด C+\n",
            "คะแนน 70 ได้เกรด B\n",
            "คะแนน 95 ได้เกรด A\n",
            "คะแนน 82 ได้เกรด A\n",
            "คะแนน 55 ได้เกรด D+\n",
            "คะแนน 89 ได้เกรด A\n",
            "คะแนน 20 ได้เกรด F\n",
            "คะแนน 77 ได้เกรด B+\n",
            "คะแนน 77 ได้เกรด B+\n",
            "คะแนน 81 ได้เกรด A\n",
            "คะแนน 59 ได้เกรด D+\n",
            "คะแนน 10 ได้เกรด F\n"
          ],
          "name": "stdout"
        }
      ]
    },
    {
      "cell_type": "code",
      "metadata": {
        "id": "vgfREwRh5Ly9"
      },
      "source": [
        "def grade_list (list_score):\n",
        "    grade_list = []\n",
        "    for score in list_score:\n",
        "            if score >= 80:\n",
        "                grade = 'A'\n",
        "            elif score >= 75:\n",
        "                grade = 'B+'\n",
        "            elif score >= 70:\n",
        "                grade = 'B'\n",
        "            elif score >= 65:\n",
        "                grade = 'C+'\n",
        "            elif score >= 60:\n",
        "                grade = 'C'\n",
        "            elif score >= 55:\n",
        "                grade = 'D+'\n",
        "            elif score >= 50:\n",
        "                grade = 'D'\n",
        "            else:  \n",
        "                grade = 'F'\n",
        "\n",
        "            grade_list.append([score,grade])\n",
        "    return grade_list"
      ],
      "execution_count": 85,
      "outputs": []
    },
    {
      "cell_type": "code",
      "metadata": {
        "id": "CY8S31N-07ev",
        "outputId": "693cfae8-405c-4e70-b1d1-c63eb62bef0f",
        "colab": {
          "base_uri": "https://localhost:8080/"
        }
      },
      "source": [
        "g = grade_list(score)\n",
        "g"
      ],
      "execution_count": 86,
      "outputs": [
        {
          "output_type": "execute_result",
          "data": {
            "text/plain": [
              "[[49, 'F'],\n",
              " [65, 'C+'],\n",
              " [70, 'B'],\n",
              " [95, 'A'],\n",
              " [82, 'A'],\n",
              " [55, 'D+'],\n",
              " [89, 'A'],\n",
              " [20, 'F'],\n",
              " [77, 'B+'],\n",
              " [77, 'B+'],\n",
              " [81, 'A'],\n",
              " [59, 'D+'],\n",
              " [10, 'F']]"
            ]
          },
          "metadata": {
            "tags": []
          },
          "execution_count": 86
        }
      ]
    },
    {
      "cell_type": "code",
      "metadata": {
        "id": "5f098ZBC3jw2"
      },
      "source": [
        "def grading2 (score):\n",
        "        if score >= 80:\n",
        "            return 'A'\n",
        "        elif score >= 75:\n",
        "            return 'B+'\n",
        "        elif score >= 70:\n",
        "            return 'B'\n",
        "        elif score >= 65:\n",
        "            return 'C+'\n",
        "        elif score >= 60:\n",
        "            return 'C'\n",
        "        elif score >= 55:\n",
        "            return 'D+'\n",
        "        elif score >= 50:\n",
        "            return 'D'\n",
        "        else:  \n",
        "            return 'F'\n",
        "          "
      ],
      "execution_count": 87,
      "outputs": []
    },
    {
      "cell_type": "code",
      "metadata": {
        "id": "Cesi-wjF75Ws",
        "outputId": "c38425c3-fda9-4d0e-a144-1ce7592e79fe",
        "colab": {
          "base_uri": "https://localhost:8080/"
        }
      },
      "source": [
        "score = [49,65,70,95,82,55,89,20,77,77,81,59,10]\n",
        "for i in score:\n",
        "    print(f'คะแนน {i} ได้เกรด {grading2 (i) }')"
      ],
      "execution_count": 88,
      "outputs": [
        {
          "output_type": "stream",
          "text": [
            "คะแนน 49 ได้เกรด F\n",
            "คะแนน 65 ได้เกรด C+\n",
            "คะแนน 70 ได้เกรด B\n",
            "คะแนน 95 ได้เกรด A\n",
            "คะแนน 82 ได้เกรด A\n",
            "คะแนน 55 ได้เกรด D+\n",
            "คะแนน 89 ได้เกรด A\n",
            "คะแนน 20 ได้เกรด F\n",
            "คะแนน 77 ได้เกรด B+\n",
            "คะแนน 77 ได้เกรด B+\n",
            "คะแนน 81 ได้เกรด A\n",
            "คะแนน 59 ได้เกรด D+\n",
            "คะแนน 10 ได้เกรด F\n"
          ],
          "name": "stdout"
        }
      ]
    },
    {
      "cell_type": "markdown",
      "metadata": {
        "id": "xvOqzxon9NYf"
      },
      "source": [
        "## Example 2 (ไม่มี input)"
      ]
    },
    {
      "cell_type": "code",
      "metadata": {
        "id": "jRn9iy7R79Vk"
      },
      "source": [
        "def mypi ():\n",
        "    return 3.14"
      ],
      "execution_count": 89,
      "outputs": []
    },
    {
      "cell_type": "code",
      "metadata": {
        "id": "oHy6RPFw9YFj",
        "outputId": "f8918624-5b44-4787-cf70-26abb79730b4",
        "colab": {
          "base_uri": "https://localhost:8080/"
        }
      },
      "source": [
        "r=10\n",
        "print(f'รัศมี={r} จะมีเส้นรอบวง={2*r*mypi()}')"
      ],
      "execution_count": 93,
      "outputs": [
        {
          "output_type": "stream",
          "text": [
            "รัศมี=10 จะมีเส้นรอบวง=62.800000000000004\n"
          ],
          "name": "stdout"
        }
      ]
    },
    {
      "cell_type": "code",
      "metadata": {
        "id": "JyrGidF39hti",
        "outputId": "599e4e54-d91d-42c4-ef36-50d9154cd4c9",
        "colab": {
          "base_uri": "https://localhost:8080/"
        }
      },
      "source": [
        "import math\n",
        "math.pi"
      ],
      "execution_count": 94,
      "outputs": [
        {
          "output_type": "execute_result",
          "data": {
            "text/plain": [
              "3.141592653589793"
            ]
          },
          "metadata": {
            "tags": []
          },
          "execution_count": 94
        }
      ]
    },
    {
      "cell_type": "markdown",
      "metadata": {
        "id": "SJQs4tK3-a67"
      },
      "source": [
        "### Example 3 (ไม่มี output)"
      ]
    },
    {
      "cell_type": "code",
      "metadata": {
        "id": "l2WsCZYQ90YL"
      },
      "source": [
        "def grading_nooutput (score):\n",
        "        if score >= 80:\n",
        "            print('ได้คะแนน A' )\n",
        "        elif score >= 75:\n",
        "            print('ได้คะแนน B+' )\n",
        "        elif score >= 70:\n",
        "            print('ได้คะแนน B' )\n",
        "        elif score >= 65:\n",
        "            print('ได้คะแนน C+' )\n",
        "        elif score >= 60:\n",
        "            print('ได้คะแนน C' )\n",
        "        elif score >= 55:\n",
        "            print('ได้คะแนน D+' )\n",
        "        elif score >= 50:\n",
        "            print('ได้คะแนน D' )\n",
        "        else:  \n",
        "            print('ได้คะแนน F' )\n",
        "        "
      ],
      "execution_count": 95,
      "outputs": []
    },
    {
      "cell_type": "code",
      "metadata": {
        "id": "AUMBN8EK_Plx",
        "outputId": "a3dbbbec-3813-48a5-fac8-e439a2b035bd",
        "colab": {
          "base_uri": "https://localhost:8080/"
        }
      },
      "source": [
        "score = [49,65,70,95,82,55,89,20,77,77,81,59,10]\n",
        "for i in score:\n",
        "    print(f'คะแนน {i} ' , end = ' ')\n",
        "    grading_nooutput(i)"
      ],
      "execution_count": 97,
      "outputs": [
        {
          "output_type": "stream",
          "text": [
            "คะแนน 49  ได้คะแนน F\n",
            "คะแนน 65  ได้คะแนน C+\n",
            "คะแนน 70  ได้คะแนน B\n",
            "คะแนน 95  ได้คะแนน A\n",
            "คะแนน 82  ได้คะแนน A\n",
            "คะแนน 55  ได้คะแนน D+\n",
            "คะแนน 89  ได้คะแนน A\n",
            "คะแนน 20  ได้คะแนน F\n",
            "คะแนน 77  ได้คะแนน B+\n",
            "คะแนน 77  ได้คะแนน B+\n",
            "คะแนน 81  ได้คะแนน A\n",
            "คะแนน 59  ได้คะแนน D+\n",
            "คะแนน 10  ได้คะแนน F\n"
          ],
          "name": "stdout"
        }
      ]
    },
    {
      "cell_type": "markdown",
      "metadata": {
        "id": "4aYYx4WS_flu"
      },
      "source": [
        "### Example 3 (ไม่มี input และ output)"
      ]
    },
    {
      "cell_type": "code",
      "metadata": {
        "id": "ej2nef4w_Y5S"
      },
      "source": [
        "def draw_rect ():\n",
        "    print('=========')\n",
        "    print('|                    |')\n",
        "    print('|                    |')\n",
        "    print('=========')"
      ],
      "execution_count": 98,
      "outputs": []
    },
    {
      "cell_type": "code",
      "metadata": {
        "id": "twaSFOpq_4Nh",
        "outputId": "980d33e9-2a27-4e9f-abae-9ef8ce1dc612",
        "colab": {
          "base_uri": "https://localhost:8080/"
        }
      },
      "source": [
        "draw_rect()"
      ],
      "execution_count": 100,
      "outputs": [
        {
          "output_type": "stream",
          "text": [
            "=========\n",
            "|                    |\n",
            "|                    |\n",
            "=========\n"
          ],
          "name": "stdout"
        }
      ]
    },
    {
      "cell_type": "markdown",
      "metadata": {
        "id": "_EWmVxw-BcYP"
      },
      "source": [
        "## ลักษณะของ input (paremater)\n",
        "* จำเป็นต้องใส่\n",
        "* ไม่จำเป็นต้องใส่\n"
      ]
    },
    {
      "cell_type": "code",
      "metadata": {
        "id": "753CGBcz_7F5"
      },
      "source": [
        "def A(input1, input2 = 3):\n",
        "    return input1+input2"
      ],
      "execution_count": 106,
      "outputs": []
    },
    {
      "cell_type": "code",
      "metadata": {
        "id": "kHZTYiHfB82Y",
        "outputId": "9ec75b40-8323-4906-e5af-db14c05a5569",
        "colab": {
          "base_uri": "https://localhost:8080/"
        }
      },
      "source": [
        "A(1)"
      ],
      "execution_count": 107,
      "outputs": [
        {
          "output_type": "execute_result",
          "data": {
            "text/plain": [
              "4"
            ]
          },
          "metadata": {
            "tags": []
          },
          "execution_count": 107
        }
      ]
    },
    {
      "cell_type": "code",
      "metadata": {
        "id": "BLnxcV9pB_ZI",
        "outputId": "3cebf598-adc1-4bba-f731-ed0284e92504",
        "colab": {
          "base_uri": "https://localhost:8080/"
        }
      },
      "source": [
        "A(1,2)"
      ],
      "execution_count": 108,
      "outputs": [
        {
          "output_type": "execute_result",
          "data": {
            "text/plain": [
              "3"
            ]
          },
          "metadata": {
            "tags": []
          },
          "execution_count": 108
        }
      ]
    },
    {
      "cell_type": "code",
      "metadata": {
        "id": "m-brekvDCNlB"
      },
      "source": [
        "def printlove(input1, input2 = 'Stat', input3 = 'KKU'):\n",
        "    print(f'{input1} love {input2} {input3}')\n",
        "    "
      ],
      "execution_count": 110,
      "outputs": []
    },
    {
      "cell_type": "code",
      "metadata": {
        "id": "r6BWQrHPDYcr",
        "outputId": "2e6cfdfe-13e5-44bf-bfde-b964a343432b",
        "colab": {
          "base_uri": "https://localhost:8080/"
        }
      },
      "source": [
        "printlove('Thanik')"
      ],
      "execution_count": 112,
      "outputs": [
        {
          "output_type": "stream",
          "text": [
            "Thanik love Stat KKU\n"
          ],
          "name": "stdout"
        }
      ]
    },
    {
      "cell_type": "markdown",
      "metadata": {
        "id": "RmmuYe-xFWux"
      },
      "source": [
        "### HW4\n",
        "สร้างฟังก์ชั่น\n",
        "* วาดรูปบ้าน\n",
        "* วาดรูปต้นไม้"
      ]
    },
    {
      "cell_type": "code",
      "metadata": {
        "id": "joTThHOaDbWg"
      },
      "source": [
        ""
      ],
      "execution_count": null,
      "outputs": []
    }
  ]
}