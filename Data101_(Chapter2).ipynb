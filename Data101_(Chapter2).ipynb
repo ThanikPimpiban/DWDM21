{
  "nbformat": 4,
  "nbformat_minor": 0,
  "metadata": {
    "colab": {
      "name": "Data101(Chapter2).ipynb",
      "provenance": [],
      "authorship_tag": "ABX9TyNhHhwYtL6rXSF6umSsUECb",
      "include_colab_link": true
    },
    "kernelspec": {
      "name": "python3",
      "display_name": "Python 3"
    },
    "language_info": {
      "name": "python"
    }
  },
  "cells": [
    {
      "cell_type": "markdown",
      "metadata": {
        "id": "view-in-github",
        "colab_type": "text"
      },
      "source": [
        "<a href=\"https://colab.research.google.com/github/ThanikPimpiban/DWDM21/blob/main/Data101_(Chapter2).ipynb\" target=\"_parent\"><img src=\"https://colab.research.google.com/assets/colab-badge.svg\" alt=\"Open In Colab\"/></a>"
      ]
    },
    {
      "cell_type": "markdown",
      "metadata": {
        "id": "6pB3x-Gvt_B2"
      },
      "source": [
        "**ข้อดีหนึ่งของ Python คือมี package ที่ใช้ในการทำงานต่างๆ**\n",
        "\n",
        "ซึ่ง pandas เป็น package สำหรับการทำงานกับข้อมูลที่อยู่ในรูปแบบตาราง\n",
        "\n",
        "โดย pandas จะเรียกตารางนั้นว่า dataframe"
      ]
    },
    {
      "cell_type": "markdown",
      "metadata": {
        "id": "a3mlMEBYvKcD"
      },
      "source": [
        "#ส่วนของการเรียกใช้ import"
      ]
    },
    {
      "cell_type": "code",
      "metadata": {
        "id": "GcB1S5x3r6KX"
      },
      "source": [
        "import pandas as pd   ### เรียกใช้ package เกี่ยวกับการจัดการข้อมูล\n"
      ],
      "execution_count": 5,
      "outputs": []
    },
    {
      "cell_type": "markdown",
      "metadata": {
        "id": "yqoL6UQ7u6ly"
      },
      "source": [
        "**สกุลไฟล์ .CSV**\n",
        "\n",
        "ย่อมาจาก comma separated values"
      ]
    },
    {
      "cell_type": "markdown",
      "metadata": {
        "id": "okjnbhZ5vRgV"
      },
      "source": [
        "#ตัวอย่าง\n"
      ]
    },
    {
      "cell_type": "markdown",
      "metadata": {
        "id": "T-yYZaMow92w"
      },
      "source": [
        "**Upload ข้อมูล**"
      ]
    },
    {
      "cell_type": "code",
      "metadata": {
        "id": "NDujEnDFsyxd"
      },
      "source": [
        "data_ex = pd.read_csv(\"/content/data2\")"
      ],
      "execution_count": 6,
      "outputs": []
    },
    {
      "cell_type": "code",
      "metadata": {
        "colab": {
          "base_uri": "https://localhost:8080/",
          "height": 142
        },
        "id": "NQhOOzRUxKTy",
        "outputId": "e65a2cdb-7cf8-401b-f74c-7c9bdf233f5f"
      },
      "source": [
        "data_ex"
      ],
      "execution_count": 7,
      "outputs": [
        {
          "output_type": "execute_result",
          "data": {
            "text/html": [
              "<div>\n",
              "<style scoped>\n",
              "    .dataframe tbody tr th:only-of-type {\n",
              "        vertical-align: middle;\n",
              "    }\n",
              "\n",
              "    .dataframe tbody tr th {\n",
              "        vertical-align: top;\n",
              "    }\n",
              "\n",
              "    .dataframe thead th {\n",
              "        text-align: right;\n",
              "    }\n",
              "</style>\n",
              "<table border=\"1\" class=\"dataframe\">\n",
              "  <thead>\n",
              "    <tr style=\"text-align: right;\">\n",
              "      <th></th>\n",
              "      <th>name</th>\n",
              "      <th>age</th>\n",
              "      <th>city</th>\n",
              "    </tr>\n",
              "  </thead>\n",
              "  <tbody>\n",
              "    <tr>\n",
              "      <th>0</th>\n",
              "      <td>Tom</td>\n",
              "      <td>27</td>\n",
              "      <td>Khon Kaen</td>\n",
              "    </tr>\n",
              "    <tr>\n",
              "      <th>1</th>\n",
              "      <td>Paul</td>\n",
              "      <td>15</td>\n",
              "      <td>Bankok</td>\n",
              "    </tr>\n",
              "    <tr>\n",
              "      <th>2</th>\n",
              "      <td>Sarah</td>\n",
              "      <td>49</td>\n",
              "      <td>London</td>\n",
              "    </tr>\n",
              "  </tbody>\n",
              "</table>\n",
              "</div>"
            ],
            "text/plain": [
              "    name  age       city\n",
              "0    Tom   27  Khon Kaen\n",
              "1   Paul   15     Bankok\n",
              "2  Sarah   49     London"
            ]
          },
          "metadata": {
            "tags": []
          },
          "execution_count": 7
        }
      ]
    },
    {
      "cell_type": "markdown",
      "metadata": {
        "id": "re27Qlv31k8p"
      },
      "source": [
        "#Basic"
      ]
    },
    {
      "cell_type": "markdown",
      "metadata": {
        "id": "elXZvIcQ0YQu"
      },
      "source": [
        "**Variables**"
      ]
    },
    {
      "cell_type": "markdown",
      "metadata": {
        "id": "D4vlp7tY1var"
      },
      "source": [
        "ข้อกำหนดในการตั้งชื่อตัวแปร\n",
        "\n",
        "1. *ห้ามเว้นวรรค*\n",
        "\n",
        "2. *พยายามใช้ Eng* \n",
        "\n",
        "3. *ตัวเล็กตัวใหญ่ เป็นตัวแปรคนละตัว เช่น A = 1 , a = 1*"
      ]
    },
    {
      "cell_type": "code",
      "metadata": {
        "id": "b3VYwv5oxYIa"
      },
      "source": [
        "var_a = 12"
      ],
      "execution_count": 8,
      "outputs": []
    },
    {
      "cell_type": "code",
      "metadata": {
        "id": "y7yV5Nwn0eu4"
      },
      "source": [
        "var_b = 'Thanik'"
      ],
      "execution_count": 9,
      "outputs": []
    },
    {
      "cell_type": "code",
      "metadata": {
        "id": "64dy_nW_0idP"
      },
      "source": [
        "var_c = var_a"
      ],
      "execution_count": 10,
      "outputs": []
    },
    {
      "cell_type": "code",
      "metadata": {
        "colab": {
          "base_uri": "https://localhost:8080/"
        },
        "id": "l4ZCo3sG1FBv",
        "outputId": "05d986ee-c64c-41bc-dc81-9ddd231e73a4"
      },
      "source": [
        "A = 1\n",
        "a = 1\n",
        "A+a"
      ],
      "execution_count": 11,
      "outputs": [
        {
          "output_type": "execute_result",
          "data": {
            "text/plain": [
              "2"
            ]
          },
          "metadata": {
            "tags": []
          },
          "execution_count": 11
        }
      ]
    },
    {
      "cell_type": "code",
      "metadata": {
        "id": "mdABHOvv2IAA"
      },
      "source": [
        "var_1 = 12\n",
        "var_2 = -41.2"
      ],
      "execution_count": 12,
      "outputs": []
    },
    {
      "cell_type": "code",
      "metadata": {
        "colab": {
          "base_uri": "https://localhost:8080/"
        },
        "id": "_TeYa26g5DL_",
        "outputId": "fb24a3c8-141d-4ef1-f75b-851dbcef7660"
      },
      "source": [
        "var_1+var_2"
      ],
      "execution_count": 13,
      "outputs": [
        {
          "output_type": "execute_result",
          "data": {
            "text/plain": [
              "-29.200000000000003"
            ]
          },
          "metadata": {
            "tags": []
          },
          "execution_count": 13
        }
      ]
    },
    {
      "cell_type": "markdown",
      "metadata": {
        "id": "JJ0Nkyvf7d24"
      },
      "source": [
        "##Var Type\n"
      ]
    },
    {
      "cell_type": "markdown",
      "metadata": {
        "id": "3thVtx427qJl"
      },
      "source": [
        "*int*\n",
        "\n",
        "*float*\n",
        "\n",
        "*str*"
      ]
    },
    {
      "cell_type": "code",
      "metadata": {
        "id": "7wPgrvUz5IKl"
      },
      "source": [
        "V_X = '-29.2000000000000003'"
      ],
      "execution_count": 14,
      "outputs": []
    },
    {
      "cell_type": "code",
      "metadata": {
        "colab": {
          "base_uri": "https://localhost:8080/"
        },
        "id": "ZiltuXvE9QOE",
        "outputId": "a9f9013e-b65e-466c-f860-002bde1993e3"
      },
      "source": [
        "float(V_X)"
      ],
      "execution_count": 15,
      "outputs": [
        {
          "output_type": "execute_result",
          "data": {
            "text/plain": [
              "-29.2"
            ]
          },
          "metadata": {
            "tags": []
          },
          "execution_count": 15
        }
      ]
    },
    {
      "cell_type": "markdown",
      "metadata": {
        "id": "L_ZBKRaP9ZNL"
      },
      "source": [
        "#Data Structure"
      ]
    },
    {
      "cell_type": "markdown",
      "metadata": {
        "id": "goZcd2A49fAn"
      },
      "source": [
        "**list()**"
      ]
    },
    {
      "cell_type": "code",
      "metadata": {
        "id": "E85J8qgb9VSU"
      },
      "source": [
        "list_a = [1,2,0.2,'Thanik']\n",
        "list_b = [2,'xyz' ,list_a,[1,2,0.0]]"
      ],
      "execution_count": 16,
      "outputs": []
    },
    {
      "cell_type": "code",
      "metadata": {
        "colab": {
          "base_uri": "https://localhost:8080/"
        },
        "id": "ApHLQWw-94Kp",
        "outputId": "327ff834-3109-4d74-d855-1510bf28486d"
      },
      "source": [
        "list_a"
      ],
      "execution_count": 17,
      "outputs": [
        {
          "output_type": "execute_result",
          "data": {
            "text/plain": [
              "[1, 2, 0.2, 'Thanik']"
            ]
          },
          "metadata": {
            "tags": []
          },
          "execution_count": 17
        }
      ]
    },
    {
      "cell_type": "code",
      "metadata": {
        "colab": {
          "base_uri": "https://localhost:8080/"
        },
        "id": "QZAMzslm-AjS",
        "outputId": "fe5b69e6-10c4-4d28-a4a4-8791e94f1f38"
      },
      "source": [
        "list_b"
      ],
      "execution_count": 18,
      "outputs": [
        {
          "output_type": "execute_result",
          "data": {
            "text/plain": [
              "[2, 'xyz', [1, 2, 0.2, 'Thanik'], [1, 2, 0.0]]"
            ]
          },
          "metadata": {
            "tags": []
          },
          "execution_count": 18
        }
      ]
    },
    {
      "cell_type": "code",
      "metadata": {
        "colab": {
          "base_uri": "https://localhost:8080/"
        },
        "id": "PkdRA88i-B5L",
        "outputId": "db5d148c-9248-4b4b-f7bb-77f0cc09bd5d"
      },
      "source": [
        "len(list_b)"
      ],
      "execution_count": 19,
      "outputs": [
        {
          "output_type": "execute_result",
          "data": {
            "text/plain": [
              "4"
            ]
          },
          "metadata": {
            "tags": []
          },
          "execution_count": 19
        }
      ]
    },
    {
      "cell_type": "code",
      "metadata": {
        "colab": {
          "base_uri": "https://localhost:8080/"
        },
        "id": "ha_Iu-wh-xkq",
        "outputId": "757f2627-2c01-4df6-f1f2-d72cd646b4ab"
      },
      "source": [
        "list_b[3]"
      ],
      "execution_count": 20,
      "outputs": [
        {
          "output_type": "execute_result",
          "data": {
            "text/plain": [
              "[1, 2, 0.0]"
            ]
          },
          "metadata": {
            "tags": []
          },
          "execution_count": 20
        }
      ]
    },
    {
      "cell_type": "code",
      "metadata": {
        "colab": {
          "base_uri": "https://localhost:8080/"
        },
        "id": "G-bPY9TK-hjq",
        "outputId": "9ec230bf-fa67-4127-ff13-3479c872f685"
      },
      "source": [
        "list_b[3][1]"
      ],
      "execution_count": 21,
      "outputs": [
        {
          "output_type": "execute_result",
          "data": {
            "text/plain": [
              "2"
            ]
          },
          "metadata": {
            "tags": []
          },
          "execution_count": 21
        }
      ]
    },
    {
      "cell_type": "markdown",
      "metadata": {
        "id": "BuPRrAog_p_5"
      },
      "source": [
        "#วิธีสร้าง list ว่าง"
      ]
    },
    {
      "cell_type": "code",
      "metadata": {
        "id": "K_05ZVJ9-lXL"
      },
      "source": [
        "list_c = list()  #แบบที่ 1 \n",
        "list_d = [] #แบบที่ 2 "
      ],
      "execution_count": 22,
      "outputs": []
    },
    {
      "cell_type": "markdown",
      "metadata": {
        "id": "lpYEnTwsAd67"
      },
      "source": [
        "เติมค่าเข้าไปใน list (.append())"
      ]
    },
    {
      "cell_type": "markdown",
      "metadata": {
        "id": "11kdGrxOCfQN"
      },
      "source": [
        "##list slicing"
      ]
    },
    {
      "cell_type": "code",
      "metadata": {
        "id": "MKlxEKvVAEpq"
      },
      "source": [
        "list_ex = [1,2,3,5,6,8,-1,20,50,0] "
      ],
      "execution_count": 23,
      "outputs": []
    },
    {
      "cell_type": "code",
      "metadata": {
        "colab": {
          "base_uri": "https://localhost:8080/"
        },
        "id": "N5xKa8WTCn2Q",
        "outputId": "81376ff2-33ce-41a6-8ae6-ac490d820768"
      },
      "source": [
        "list_ex[1:6] #เอา list ตั้งแต่ตัวที่ 1 ถึง ตัวที่ 6 "
      ],
      "execution_count": 24,
      "outputs": [
        {
          "output_type": "execute_result",
          "data": {
            "text/plain": [
              "[2, 3, 5, 6, 8]"
            ]
          },
          "metadata": {
            "tags": []
          },
          "execution_count": 24
        }
      ]
    },
    {
      "cell_type": "markdown",
      "metadata": {
        "id": "R-fQ5FclEa89"
      },
      "source": [
        "**[จุดเริ่มต้น : จุดสุดท้าย : Step]**"
      ]
    },
    {
      "cell_type": "code",
      "metadata": {
        "colab": {
          "base_uri": "https://localhost:8080/"
        },
        "id": "INw-7DPNEqfy",
        "outputId": "31a70adf-1600-41b6-90cd-8d27150533a5"
      },
      "source": [
        "list_ex[::2]"
      ],
      "execution_count": 25,
      "outputs": [
        {
          "output_type": "execute_result",
          "data": {
            "text/plain": [
              "[1, 3, 6, -1, 50]"
            ]
          },
          "metadata": {
            "tags": []
          },
          "execution_count": 25
        }
      ]
    },
    {
      "cell_type": "code",
      "metadata": {
        "colab": {
          "base_uri": "https://localhost:8080/"
        },
        "id": "VKU1Jm16Czow",
        "outputId": "20281b1f-43c6-4bd5-9513-ec4715b1440c"
      },
      "source": [
        "list_ex[::-1]  #กลับหัว-ท้ายของ list"
      ],
      "execution_count": 26,
      "outputs": [
        {
          "output_type": "execute_result",
          "data": {
            "text/plain": [
              "[0, 50, 20, -1, 8, 6, 5, 3, 2, 1]"
            ]
          },
          "metadata": {
            "tags": []
          },
          "execution_count": 26
        }
      ]
    },
    {
      "cell_type": "code",
      "metadata": {
        "id": "w86R0AHGEnt-"
      },
      "source": [
        "a='Stat KKU'"
      ],
      "execution_count": 27,
      "outputs": []
    },
    {
      "cell_type": "code",
      "metadata": {
        "colab": {
          "base_uri": "https://localhost:8080/",
          "height": 0
        },
        "id": "prRrn05LFAaN",
        "outputId": "051cb568-1d81-4118-ea7b-46c0cb481387"
      },
      "source": [
        "a[:4]"
      ],
      "execution_count": 28,
      "outputs": [
        {
          "output_type": "execute_result",
          "data": {
            "application/vnd.google.colaboratory.intrinsic+json": {
              "type": "string"
            },
            "text/plain": [
              "'Stat'"
            ]
          },
          "metadata": {
            "tags": []
          },
          "execution_count": 28
        }
      ]
    },
    {
      "cell_type": "code",
      "metadata": {
        "colab": {
          "base_uri": "https://localhost:8080/",
          "height": 0
        },
        "id": "ntw1LetbFG9n",
        "outputId": "8cd67967-7016-465e-db09-77e5c8d97866"
      },
      "source": [
        "a[5:]"
      ],
      "execution_count": 29,
      "outputs": [
        {
          "output_type": "execute_result",
          "data": {
            "application/vnd.google.colaboratory.intrinsic+json": {
              "type": "string"
            },
            "text/plain": [
              "'KKU'"
            ]
          },
          "metadata": {
            "tags": []
          },
          "execution_count": 29
        }
      ]
    },
    {
      "cell_type": "code",
      "metadata": {
        "colab": {
          "base_uri": "https://localhost:8080/",
          "height": 0
        },
        "id": "eQuBbrorFX3-",
        "outputId": "7d42a627-37d5-4096-beda-4ed58922315d"
      },
      "source": [
        "a[5:8]"
      ],
      "execution_count": 30,
      "outputs": [
        {
          "output_type": "execute_result",
          "data": {
            "application/vnd.google.colaboratory.intrinsic+json": {
              "type": "string"
            },
            "text/plain": [
              "'KKU'"
            ]
          },
          "metadata": {
            "tags": []
          },
          "execution_count": 30
        }
      ]
    },
    {
      "cell_type": "code",
      "metadata": {
        "colab": {
          "base_uri": "https://localhost:8080/",
          "height": 0
        },
        "id": "7MhNkkkCFyC3",
        "outputId": "2f2f4935-59ac-415e-9aec-a916cd4d401f"
      },
      "source": [
        "a[5::]"
      ],
      "execution_count": 31,
      "outputs": [
        {
          "output_type": "execute_result",
          "data": {
            "application/vnd.google.colaboratory.intrinsic+json": {
              "type": "string"
            },
            "text/plain": [
              "'KKU'"
            ]
          },
          "metadata": {
            "tags": []
          },
          "execution_count": 31
        }
      ]
    },
    {
      "cell_type": "code",
      "metadata": {
        "colab": {
          "base_uri": "https://localhost:8080/",
          "height": 0
        },
        "id": "qfNeTdwpF4le",
        "outputId": "8a5dffe8-2e97-4c7b-f77c-cf82e5e7d986"
      },
      "source": [
        "a[-3::]"
      ],
      "execution_count": 32,
      "outputs": [
        {
          "output_type": "execute_result",
          "data": {
            "application/vnd.google.colaboratory.intrinsic+json": {
              "type": "string"
            },
            "text/plain": [
              "'KKU'"
            ]
          },
          "metadata": {
            "tags": []
          },
          "execution_count": 32
        }
      ]
    },
    {
      "cell_type": "code",
      "metadata": {
        "id": "8RRMxIvTGUMN"
      },
      "source": [
        ""
      ],
      "execution_count": 32,
      "outputs": []
    },
    {
      "cell_type": "markdown",
      "metadata": {
        "id": "NY2a9xF6Gz08"
      },
      "source": [
        "## list + list"
      ]
    },
    {
      "cell_type": "code",
      "metadata": {
        "colab": {
          "base_uri": "https://localhost:8080/"
        },
        "id": "7wzFAajxG3KN",
        "outputId": "eda6f8cd-f4b2-4ce4-f73e-c69d96f4e977"
      },
      "source": [
        "list_a\n",
        "list_b"
      ],
      "execution_count": 33,
      "outputs": [
        {
          "output_type": "execute_result",
          "data": {
            "text/plain": [
              "[2, 'xyz', [1, 2, 0.2, 'Thanik'], [1, 2, 0.0]]"
            ]
          },
          "metadata": {
            "tags": []
          },
          "execution_count": 33
        }
      ]
    },
    {
      "cell_type": "code",
      "metadata": {
        "colab": {
          "base_uri": "https://localhost:8080/"
        },
        "id": "Iio5p9RoHbrs",
        "outputId": "836aa1ba-34e1-4fdf-eec3-af2f2be5c9db"
      },
      "source": [
        "list_a+list_b"
      ],
      "execution_count": 34,
      "outputs": [
        {
          "output_type": "execute_result",
          "data": {
            "text/plain": [
              "[1, 2, 0.2, 'Thanik', 2, 'xyz', [1, 2, 0.2, 'Thanik'], [1, 2, 0.0]]"
            ]
          },
          "metadata": {
            "tags": []
          },
          "execution_count": 34
        }
      ]
    },
    {
      "cell_type": "markdown",
      "metadata": {
        "id": "oAc_4B6mHaVf"
      },
      "source": [
        "## for loop"
      ]
    },
    {
      "cell_type": "code",
      "metadata": {
        "colab": {
          "base_uri": "https://localhost:8080/"
        },
        "id": "okNlTe-FHk8Y",
        "outputId": "48b69c9d-b514-4385-cbc2-df3c579010cc"
      },
      "source": [
        "for i in [1,2,3,4,5]:\n",
        "      print(i+1)"
      ],
      "execution_count": 35,
      "outputs": [
        {
          "output_type": "stream",
          "text": [
            "2\n",
            "3\n",
            "4\n",
            "5\n",
            "6\n"
          ],
          "name": "stdout"
        }
      ]
    },
    {
      "cell_type": "code",
      "metadata": {
        "colab": {
          "base_uri": "https://localhost:8080/"
        },
        "id": "rY5geLMbMm_E",
        "outputId": "05aea207-a033-46de-f699-f09924bc7c98"
      },
      "source": [
        "for i in [1,2,3,4,5]:\n",
        "      print(f'ค่าตัวแปร x คือ {i} และ x+2 = {i+2}')"
      ],
      "execution_count": 36,
      "outputs": [
        {
          "output_type": "stream",
          "text": [
            "ค่าตัวแปร x คือ 1 และ x+2 = 3\n",
            "ค่าตัวแปร x คือ 2 และ x+2 = 4\n",
            "ค่าตัวแปร x คือ 3 และ x+2 = 5\n",
            "ค่าตัวแปร x คือ 4 และ x+2 = 6\n",
            "ค่าตัวแปร x คือ 5 และ x+2 = 7\n"
          ],
          "name": "stdout"
        }
      ]
    },
    {
      "cell_type": "code",
      "metadata": {
        "colab": {
          "base_uri": "https://localhost:8080/"
        },
        "id": "GzhPpVMLM3iD",
        "outputId": "fb094d6f-4924-426a-bbac-c5f0abe872ad"
      },
      "source": [
        "list_5=[1,2,3,4,5]\n",
        "for i in list_5:\n",
        "  print(f'ค่าตัวแปร x คือ {i} และ x+2 = {i+2}')"
      ],
      "execution_count": 37,
      "outputs": [
        {
          "output_type": "stream",
          "text": [
            "ค่าตัวแปร x คือ 1 และ x+2 = 3\n",
            "ค่าตัวแปร x คือ 2 และ x+2 = 4\n",
            "ค่าตัวแปร x คือ 3 และ x+2 = 5\n",
            "ค่าตัวแปร x คือ 4 และ x+2 = 6\n",
            "ค่าตัวแปร x คือ 5 และ x+2 = 7\n"
          ],
          "name": "stdout"
        }
      ]
    },
    {
      "cell_type": "code",
      "metadata": {
        "colab": {
          "base_uri": "https://localhost:8080/"
        },
        "id": "RBK56nWVNGkm",
        "outputId": "43f03dba-9934-4a1e-f46c-0417c930732c"
      },
      "source": [
        "list(range(10))"
      ],
      "execution_count": 38,
      "outputs": [
        {
          "output_type": "execute_result",
          "data": {
            "text/plain": [
              "[0, 1, 2, 3, 4, 5, 6, 7, 8, 9]"
            ]
          },
          "metadata": {
            "tags": []
          },
          "execution_count": 38
        }
      ]
    },
    {
      "cell_type": "code",
      "metadata": {
        "colab": {
          "base_uri": "https://localhost:8080/"
        },
        "id": "WWehp13tNZPE",
        "outputId": "723d8413-cbc5-4e5c-c754-8e28ffe8497e"
      },
      "source": [
        "for i in range(2,7):\n",
        "  print(i)"
      ],
      "execution_count": 39,
      "outputs": [
        {
          "output_type": "stream",
          "text": [
            "2\n",
            "3\n",
            "4\n",
            "5\n",
            "6\n"
          ],
          "name": "stdout"
        }
      ]
    },
    {
      "cell_type": "code",
      "metadata": {
        "colab": {
          "base_uri": "https://localhost:8080/"
        },
        "id": "DXDF-QUnN8q7",
        "outputId": "56a217c1-d4b4-4ba4-bc59-ecba1c1a68ef"
      },
      "source": [
        "for i in range(2,7,2):\n",
        "  print(i)"
      ],
      "execution_count": 40,
      "outputs": [
        {
          "output_type": "stream",
          "text": [
            "2\n",
            "4\n",
            "6\n"
          ],
          "name": "stdout"
        }
      ]
    },
    {
      "cell_type": "code",
      "metadata": {
        "colab": {
          "base_uri": "https://localhost:8080/"
        },
        "id": "f2RwJor_O5Ef",
        "outputId": "31df3938-52b5-4e6f-8733-314d7def9867"
      },
      "source": [
        "for i in range(5):\n",
        "  print('hahaha')\n",
        "  x = i +3\n",
        "  print(f'i = {i} x= {x}')"
      ],
      "execution_count": 41,
      "outputs": [
        {
          "output_type": "stream",
          "text": [
            "hahaha\n",
            "i = 0 x= 3\n",
            "hahaha\n",
            "i = 1 x= 4\n",
            "hahaha\n",
            "i = 2 x= 5\n",
            "hahaha\n",
            "i = 3 x= 6\n",
            "hahaha\n",
            "i = 4 x= 7\n"
          ],
          "name": "stdout"
        }
      ]
    },
    {
      "cell_type": "markdown",
      "metadata": {
        "id": "5Ln6a7RMPXYr"
      },
      "source": [
        "#Nested loop"
      ]
    },
    {
      "cell_type": "code",
      "metadata": {
        "colab": {
          "base_uri": "https://localhost:8080/"
        },
        "id": "BoUt_TCaPnpx",
        "outputId": "d25113ac-5294-4c0e-cd1f-d15f1412456d"
      },
      "source": [
        "for i in range(3):\n",
        "  for j in range(4):\n",
        "    print(f'i = {i} j = {j} i+j = {i+j}')"
      ],
      "execution_count": 42,
      "outputs": [
        {
          "output_type": "stream",
          "text": [
            "i = 0 j = 0 i+j = 0\n",
            "i = 0 j = 1 i+j = 1\n",
            "i = 0 j = 2 i+j = 2\n",
            "i = 0 j = 3 i+j = 3\n",
            "i = 1 j = 0 i+j = 1\n",
            "i = 1 j = 1 i+j = 2\n",
            "i = 1 j = 2 i+j = 3\n",
            "i = 1 j = 3 i+j = 4\n",
            "i = 2 j = 0 i+j = 2\n",
            "i = 2 j = 1 i+j = 3\n",
            "i = 2 j = 2 i+j = 4\n",
            "i = 2 j = 3 i+j = 5\n"
          ],
          "name": "stdout"
        }
      ]
    },
    {
      "cell_type": "markdown",
      "metadata": {
        "id": "9hlvjp3WHjpj"
      },
      "source": [
        "#Condition "
      ]
    },
    {
      "cell_type": "code",
      "metadata": {
        "id": "9gzFK43MHuzk"
      },
      "source": [
        ""
      ],
      "execution_count": 42,
      "outputs": []
    },
    {
      "cell_type": "markdown",
      "metadata": {
        "id": "VFNjiZ8LHo8C"
      },
      "source": [
        "#Function"
      ]
    },
    {
      "cell_type": "code",
      "metadata": {
        "id": "tCgJWozIN9Wz"
      },
      "source": [
        ""
      ],
      "execution_count": null,
      "outputs": []
    },
    {
      "cell_type": "code",
      "metadata": {
        "id": "wt0VS0o1N9Up"
      },
      "source": [
        ""
      ],
      "execution_count": null,
      "outputs": []
    },
    {
      "cell_type": "code",
      "metadata": {
        "id": "ZmtOSPJ5N9SB"
      },
      "source": [
        ""
      ],
      "execution_count": null,
      "outputs": []
    },
    {
      "cell_type": "code",
      "metadata": {
        "id": "dSYGDF8ON9H5"
      },
      "source": [
        ""
      ],
      "execution_count": null,
      "outputs": []
    },
    {
      "cell_type": "code",
      "metadata": {
        "id": "i0EZkZ9gG5k1"
      },
      "source": [
        ""
      ],
      "execution_count": 42,
      "outputs": []
    },
    {
      "cell_type": "markdown",
      "metadata": {
        "id": "SJ7487vjN9zg"
      },
      "source": [
        "#quiz 1 หาค่า min"
      ]
    },
    {
      "cell_type": "code",
      "metadata": {
        "id": "jR4aNoVLOBqc"
      },
      "source": [
        "q1 = [1,5,9,-19,-2] "
      ],
      "execution_count": 73,
      "outputs": []
    },
    {
      "cell_type": "code",
      "metadata": {
        "id": "B_JuSSOSOIUU",
        "outputId": "ebf2b02a-81ae-4ba2-ba4f-b120f481a8ac",
        "colab": {
          "base_uri": "https://localhost:8080/"
        }
      },
      "source": [
        "    m =0 \n",
        "    for i in q1[:]:\n",
        "        if i <= m:\n",
        "          \n",
        "            print(f'ค่าต่ำสุดใน list คือ {i+m} ')"
      ],
      "execution_count": 85,
      "outputs": [
        {
          "output_type": "stream",
          "text": [
            "ค่าต่ำสุดใน list คือ -19 \n",
            "ค่าต่ำสุดใน list คือ -2 \n"
          ],
          "name": "stdout"
        }
      ]
    },
    {
      "cell_type": "code",
      "metadata": {
        "id": "7gneEFJWOpSL"
      },
      "source": [
        ""
      ],
      "execution_count": null,
      "outputs": []
    }
  ]
}