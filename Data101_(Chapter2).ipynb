{
  "nbformat": 4,
  "nbformat_minor": 0,
  "metadata": {
    "colab": {
      "name": "Data101(Chapter2).ipynb",
      "provenance": [],
      "authorship_tag": "ABX9TyMPeqCWM7/HFWV+XqShFro8",
      "include_colab_link": true
    },
    "kernelspec": {
      "name": "python3",
      "display_name": "Python 3"
    },
    "language_info": {
      "name": "python"
    }
  },
  "cells": [
    {
      "cell_type": "markdown",
      "metadata": {
        "id": "view-in-github",
        "colab_type": "text"
      },
      "source": [
        "<a href=\"https://colab.research.google.com/github/ThanikPimpiban/DWDM21/blob/main/Data101_(Chapter2).ipynb\" target=\"_parent\"><img src=\"https://colab.research.google.com/assets/colab-badge.svg\" alt=\"Open In Colab\"/></a>"
      ]
    },
    {
      "cell_type": "markdown",
      "metadata": {
        "id": "6pB3x-Gvt_B2"
      },
      "source": [
        "**ข้อดีหนึ่งของ Python คือมี package ที่ใช้ในการทำงานต่างๆ**\n",
        "\n",
        "ซึ่ง pandas เป็น package สำหรับการทำงานกับข้อมูลที่อยู่ในรูปแบบตาราง\n",
        "\n",
        "โดย pandas จะเรียกตารางนั้นว่า dataframe"
      ]
    },
    {
      "cell_type": "markdown",
      "metadata": {
        "id": "a3mlMEBYvKcD"
      },
      "source": [
        "#ส่วนของการเรียกใช้ import"
      ]
    },
    {
      "cell_type": "code",
      "metadata": {
        "id": "GcB1S5x3r6KX"
      },
      "source": [
        "import pandas as pd   ### เรียกใช้ package เกี่ยวกับการจัดการข้อมูล\n"
      ],
      "execution_count": null,
      "outputs": []
    },
    {
      "cell_type": "markdown",
      "metadata": {
        "id": "yqoL6UQ7u6ly"
      },
      "source": [
        "**สกุลไฟล์ .CSV**\n",
        "\n",
        "ย่อมาจาก comma separated values"
      ]
    },
    {
      "cell_type": "markdown",
      "metadata": {
        "id": "okjnbhZ5vRgV"
      },
      "source": [
        "#ตัวอย่าง\n"
      ]
    },
    {
      "cell_type": "markdown",
      "metadata": {
        "id": "T-yYZaMow92w"
      },
      "source": [
        "**Upload ข้อมูล**"
      ]
    },
    {
      "cell_type": "code",
      "metadata": {
        "id": "NDujEnDFsyxd"
      },
      "source": [
        "data_ex = pd.read_csv(\"/content/data.csv\")"
      ],
      "execution_count": null,
      "outputs": []
    },
    {
      "cell_type": "code",
      "metadata": {
        "colab": {
          "base_uri": "https://localhost:8080/",
          "height": 142
        },
        "id": "NQhOOzRUxKTy",
        "outputId": "de288cf8-aa1d-460e-9232-6c280833447c"
      },
      "source": [
        "data_ex"
      ],
      "execution_count": null,
      "outputs": [
        {
          "output_type": "execute_result",
          "data": {
            "text/html": [
              "<div>\n",
              "<style scoped>\n",
              "    .dataframe tbody tr th:only-of-type {\n",
              "        vertical-align: middle;\n",
              "    }\n",
              "\n",
              "    .dataframe tbody tr th {\n",
              "        vertical-align: top;\n",
              "    }\n",
              "\n",
              "    .dataframe thead th {\n",
              "        text-align: right;\n",
              "    }\n",
              "</style>\n",
              "<table border=\"1\" class=\"dataframe\">\n",
              "  <thead>\n",
              "    <tr style=\"text-align: right;\">\n",
              "      <th></th>\n",
              "      <th>name</th>\n",
              "      <th>age</th>\n",
              "      <th>city</th>\n",
              "    </tr>\n",
              "  </thead>\n",
              "  <tbody>\n",
              "    <tr>\n",
              "      <th>0</th>\n",
              "      <td>Tom</td>\n",
              "      <td>27</td>\n",
              "      <td>Khon Kaen</td>\n",
              "    </tr>\n",
              "    <tr>\n",
              "      <th>1</th>\n",
              "      <td>Paul</td>\n",
              "      <td>15</td>\n",
              "      <td>Bangkok</td>\n",
              "    </tr>\n",
              "    <tr>\n",
              "      <th>2</th>\n",
              "      <td>Sarah</td>\n",
              "      <td>49</td>\n",
              "      <td>London</td>\n",
              "    </tr>\n",
              "  </tbody>\n",
              "</table>\n",
              "</div>"
            ],
            "text/plain": [
              "    name  age       city\n",
              "0    Tom   27  Khon Kaen\n",
              "1   Paul   15    Bangkok\n",
              "2  Sarah   49     London"
            ]
          },
          "metadata": {
            "tags": []
          },
          "execution_count": 4
        }
      ]
    },
    {
      "cell_type": "markdown",
      "metadata": {
        "id": "re27Qlv31k8p"
      },
      "source": [
        "#Basic"
      ]
    },
    {
      "cell_type": "markdown",
      "metadata": {
        "id": "elXZvIcQ0YQu"
      },
      "source": [
        "**Variables**"
      ]
    },
    {
      "cell_type": "markdown",
      "metadata": {
        "id": "D4vlp7tY1var"
      },
      "source": [
        "ข้อกำหนดในการตั้งชื่อตัวแปร\n",
        "\n",
        "1. *ห้ามเว้นวรรค*\n",
        "\n",
        "2. *พยายามใช้ Eng* \n",
        "\n",
        "3. *ตัวเล็กตัวใหญ่ เป็นตัวแปรคนละตัว เช่น A = 1 , a = 1*"
      ]
    },
    {
      "cell_type": "code",
      "metadata": {
        "id": "b3VYwv5oxYIa"
      },
      "source": [
        "var_a = 12"
      ],
      "execution_count": null,
      "outputs": []
    },
    {
      "cell_type": "code",
      "metadata": {
        "id": "y7yV5Nwn0eu4"
      },
      "source": [
        "var_b = 'Thanik'"
      ],
      "execution_count": null,
      "outputs": []
    },
    {
      "cell_type": "code",
      "metadata": {
        "id": "64dy_nW_0idP"
      },
      "source": [
        "var_c = var_a"
      ],
      "execution_count": null,
      "outputs": []
    },
    {
      "cell_type": "code",
      "metadata": {
        "colab": {
          "base_uri": "https://localhost:8080/"
        },
        "id": "l4ZCo3sG1FBv",
        "outputId": "f373c1b6-01b7-4122-ed3b-5d56e520d030"
      },
      "source": [
        "A = 1\n",
        "a = 1\n",
        "A+a"
      ],
      "execution_count": null,
      "outputs": [
        {
          "output_type": "execute_result",
          "data": {
            "text/plain": [
              "2"
            ]
          },
          "metadata": {
            "tags": []
          },
          "execution_count": 8
        }
      ]
    },
    {
      "cell_type": "code",
      "metadata": {
        "id": "mdABHOvv2IAA"
      },
      "source": [
        "var_1 = 12\n",
        "var_2 = -41.2"
      ],
      "execution_count": 9,
      "outputs": []
    },
    {
      "cell_type": "code",
      "metadata": {
        "colab": {
          "base_uri": "https://localhost:8080/"
        },
        "id": "_TeYa26g5DL_",
        "outputId": "fe21309c-e390-4310-8947-0c9333ba0911"
      },
      "source": [
        "var_1+var_2"
      ],
      "execution_count": 10,
      "outputs": [
        {
          "output_type": "execute_result",
          "data": {
            "text/plain": [
              "-29.200000000000003"
            ]
          },
          "metadata": {
            "tags": []
          },
          "execution_count": 10
        }
      ]
    },
    {
      "cell_type": "markdown",
      "metadata": {
        "id": "JJ0Nkyvf7d24"
      },
      "source": [
        "##Var Type\n"
      ]
    },
    {
      "cell_type": "markdown",
      "metadata": {
        "id": "3thVtx427qJl"
      },
      "source": [
        "*int*\n",
        "\n",
        "*float*\n",
        "\n",
        "*str*"
      ]
    },
    {
      "cell_type": "code",
      "metadata": {
        "id": "7wPgrvUz5IKl"
      },
      "source": [
        "V_X = '-29.2000000000000003'"
      ],
      "execution_count": 12,
      "outputs": []
    },
    {
      "cell_type": "code",
      "metadata": {
        "colab": {
          "base_uri": "https://localhost:8080/"
        },
        "id": "ZiltuXvE9QOE",
        "outputId": "309ac620-122a-487f-9a77-2a386705e072"
      },
      "source": [
        "float(V_X)"
      ],
      "execution_count": 13,
      "outputs": [
        {
          "output_type": "execute_result",
          "data": {
            "text/plain": [
              "-29.2"
            ]
          },
          "metadata": {
            "tags": []
          },
          "execution_count": 13
        }
      ]
    },
    {
      "cell_type": "markdown",
      "metadata": {
        "id": "L_ZBKRaP9ZNL"
      },
      "source": [
        "#Data Structure"
      ]
    },
    {
      "cell_type": "markdown",
      "metadata": {
        "id": "goZcd2A49fAn"
      },
      "source": [
        "**list()**"
      ]
    },
    {
      "cell_type": "code",
      "metadata": {
        "id": "E85J8qgb9VSU"
      },
      "source": [
        "list_a = [1,2,0.2,'Thanik']\n",
        "list_b = [2,'xyz' ,list_a,[1,2,0.0]]"
      ],
      "execution_count": 16,
      "outputs": []
    },
    {
      "cell_type": "code",
      "metadata": {
        "colab": {
          "base_uri": "https://localhost:8080/"
        },
        "id": "ApHLQWw-94Kp",
        "outputId": "2dc65071-22f2-4888-a926-8483d70a90a3"
      },
      "source": [
        "list_a"
      ],
      "execution_count": 17,
      "outputs": [
        {
          "output_type": "execute_result",
          "data": {
            "text/plain": [
              "[1, 2, 0.2, 'Thanik']"
            ]
          },
          "metadata": {
            "tags": []
          },
          "execution_count": 17
        }
      ]
    },
    {
      "cell_type": "code",
      "metadata": {
        "colab": {
          "base_uri": "https://localhost:8080/"
        },
        "id": "QZAMzslm-AjS",
        "outputId": "e44a97bf-d9d5-40a3-bdae-9e7ebb9c6a70"
      },
      "source": [
        "list_b"
      ],
      "execution_count": 18,
      "outputs": [
        {
          "output_type": "execute_result",
          "data": {
            "text/plain": [
              "[2, 'xyz', [1, 2, 0.2, 'Thanik'], [1, 2, 0.0]]"
            ]
          },
          "metadata": {
            "tags": []
          },
          "execution_count": 18
        }
      ]
    },
    {
      "cell_type": "code",
      "metadata": {
        "colab": {
          "base_uri": "https://localhost:8080/"
        },
        "id": "PkdRA88i-B5L",
        "outputId": "e2efb6aa-98cf-412a-8de7-b7859c7031c8"
      },
      "source": [
        "len(list_b)"
      ],
      "execution_count": 19,
      "outputs": [
        {
          "output_type": "execute_result",
          "data": {
            "text/plain": [
              "4"
            ]
          },
          "metadata": {
            "tags": []
          },
          "execution_count": 19
        }
      ]
    },
    {
      "cell_type": "code",
      "metadata": {
        "colab": {
          "base_uri": "https://localhost:8080/"
        },
        "id": "ha_Iu-wh-xkq",
        "outputId": "d7d14e33-5efe-4925-e20d-0d3b8439e5b6"
      },
      "source": [
        "list_b[3]"
      ],
      "execution_count": 24,
      "outputs": [
        {
          "output_type": "execute_result",
          "data": {
            "text/plain": [
              "[1, 2, 0.0]"
            ]
          },
          "metadata": {
            "tags": []
          },
          "execution_count": 24
        }
      ]
    },
    {
      "cell_type": "code",
      "metadata": {
        "colab": {
          "base_uri": "https://localhost:8080/"
        },
        "id": "G-bPY9TK-hjq",
        "outputId": "237cd375-4ebd-4242-fb4d-3f8f1e150338"
      },
      "source": [
        "list_b[3][1]"
      ],
      "execution_count": 23,
      "outputs": [
        {
          "output_type": "execute_result",
          "data": {
            "text/plain": [
              "2"
            ]
          },
          "metadata": {
            "tags": []
          },
          "execution_count": 23
        }
      ]
    },
    {
      "cell_type": "markdown",
      "metadata": {
        "id": "BuPRrAog_p_5"
      },
      "source": [
        "#วิธีสร้าง list ว่าง"
      ]
    },
    {
      "cell_type": "code",
      "metadata": {
        "id": "K_05ZVJ9-lXL"
      },
      "source": [
        "list_c = list()  #แบบที่ 1 \n",
        "list_d = [] #แบบที่ 2 "
      ],
      "execution_count": 25,
      "outputs": []
    },
    {
      "cell_type": "markdown",
      "metadata": {
        "id": "lpYEnTwsAd67"
      },
      "source": [
        "เติมค่าเข้าไปใน list (.append())"
      ]
    },
    {
      "cell_type": "markdown",
      "metadata": {
        "id": "11kdGrxOCfQN"
      },
      "source": [
        "##list slicing"
      ]
    },
    {
      "cell_type": "code",
      "metadata": {
        "id": "MKlxEKvVAEpq"
      },
      "source": [
        "list_ex = [1,2,3,5,6,8,-1,20,50,0] "
      ],
      "execution_count": 26,
      "outputs": []
    },
    {
      "cell_type": "code",
      "metadata": {
        "colab": {
          "base_uri": "https://localhost:8080/"
        },
        "id": "N5xKa8WTCn2Q",
        "outputId": "8bd18d78-fb44-43ed-b24b-faf3495dec96"
      },
      "source": [
        "list_ex[1:6] #เอา list ตั้งแต่ตัวที่ 1 ถึง ตัวที่ 6 "
      ],
      "execution_count": 28,
      "outputs": [
        {
          "output_type": "execute_result",
          "data": {
            "text/plain": [
              "[2, 3, 5, 6, 8]"
            ]
          },
          "metadata": {
            "tags": []
          },
          "execution_count": 28
        }
      ]
    },
    {
      "cell_type": "markdown",
      "metadata": {
        "id": "R-fQ5FclEa89"
      },
      "source": [
        "**[จุดเริ่มต้น : จุดสุดท้าย : Step]**"
      ]
    },
    {
      "cell_type": "code",
      "metadata": {
        "colab": {
          "base_uri": "https://localhost:8080/"
        },
        "id": "INw-7DPNEqfy",
        "outputId": "3d4df543-a5d0-4ef5-fd2d-8ae6f8195c0b"
      },
      "source": [
        "list_ex[::2]"
      ],
      "execution_count": 30,
      "outputs": [
        {
          "output_type": "execute_result",
          "data": {
            "text/plain": [
              "[1, 3, 6, -1, 50]"
            ]
          },
          "metadata": {
            "tags": []
          },
          "execution_count": 30
        }
      ]
    },
    {
      "cell_type": "code",
      "metadata": {
        "colab": {
          "base_uri": "https://localhost:8080/"
        },
        "id": "VKU1Jm16Czow",
        "outputId": "832c19df-ab1d-4124-c5ce-3b24fd5bb9bd"
      },
      "source": [
        "list_ex[::-1]  #กลับหัว-ท้ายของ list"
      ],
      "execution_count": 31,
      "outputs": [
        {
          "output_type": "execute_result",
          "data": {
            "text/plain": [
              "[0, 50, 20, -1, 8, 6, 5, 3, 2, 1]"
            ]
          },
          "metadata": {
            "tags": []
          },
          "execution_count": 31
        }
      ]
    },
    {
      "cell_type": "code",
      "metadata": {
        "id": "w86R0AHGEnt-"
      },
      "source": [
        "a='Stat KKU'"
      ],
      "execution_count": 32,
      "outputs": []
    },
    {
      "cell_type": "code",
      "metadata": {
        "colab": {
          "base_uri": "https://localhost:8080/",
          "height": 34
        },
        "id": "prRrn05LFAaN",
        "outputId": "50f90790-582c-4c2c-e817-56b19ee0f1fc"
      },
      "source": [
        "a[:4]"
      ],
      "execution_count": 33,
      "outputs": [
        {
          "output_type": "execute_result",
          "data": {
            "application/vnd.google.colaboratory.intrinsic+json": {
              "type": "string"
            },
            "text/plain": [
              "'Stat'"
            ]
          },
          "metadata": {
            "tags": []
          },
          "execution_count": 33
        }
      ]
    },
    {
      "cell_type": "code",
      "metadata": {
        "colab": {
          "base_uri": "https://localhost:8080/",
          "height": 34
        },
        "id": "ntw1LetbFG9n",
        "outputId": "d78a2e30-9780-4ddb-9174-62192c55935b"
      },
      "source": [
        "a[5:]"
      ],
      "execution_count": 35,
      "outputs": [
        {
          "output_type": "execute_result",
          "data": {
            "application/vnd.google.colaboratory.intrinsic+json": {
              "type": "string"
            },
            "text/plain": [
              "'KKU'"
            ]
          },
          "metadata": {
            "tags": []
          },
          "execution_count": 35
        }
      ]
    },
    {
      "cell_type": "code",
      "metadata": {
        "colab": {
          "base_uri": "https://localhost:8080/",
          "height": 34
        },
        "id": "eQuBbrorFX3-",
        "outputId": "d2bddaa6-f382-4327-a26e-19c3457da463"
      },
      "source": [
        "a[5:8]"
      ],
      "execution_count": 36,
      "outputs": [
        {
          "output_type": "execute_result",
          "data": {
            "application/vnd.google.colaboratory.intrinsic+json": {
              "type": "string"
            },
            "text/plain": [
              "'KKU'"
            ]
          },
          "metadata": {
            "tags": []
          },
          "execution_count": 36
        }
      ]
    },
    {
      "cell_type": "code",
      "metadata": {
        "colab": {
          "base_uri": "https://localhost:8080/",
          "height": 34
        },
        "id": "7MhNkkkCFyC3",
        "outputId": "08f576fe-8863-40f9-da6b-5e09a415c4b7"
      },
      "source": [
        "a[5::]"
      ],
      "execution_count": 38,
      "outputs": [
        {
          "output_type": "execute_result",
          "data": {
            "application/vnd.google.colaboratory.intrinsic+json": {
              "type": "string"
            },
            "text/plain": [
              "'KKU'"
            ]
          },
          "metadata": {
            "tags": []
          },
          "execution_count": 38
        }
      ]
    },
    {
      "cell_type": "code",
      "metadata": {
        "colab": {
          "base_uri": "https://localhost:8080/",
          "height": 34
        },
        "id": "qfNeTdwpF4le",
        "outputId": "6f1fece6-efe5-40dd-e3f8-5bf11b889446"
      },
      "source": [
        "a[-3::]"
      ],
      "execution_count": 39,
      "outputs": [
        {
          "output_type": "execute_result",
          "data": {
            "application/vnd.google.colaboratory.intrinsic+json": {
              "type": "string"
            },
            "text/plain": [
              "'KKU'"
            ]
          },
          "metadata": {
            "tags": []
          },
          "execution_count": 39
        }
      ]
    },
    {
      "cell_type": "code",
      "metadata": {
        "id": "8RRMxIvTGUMN"
      },
      "source": [
        ""
      ],
      "execution_count": null,
      "outputs": []
    },
    {
      "cell_type": "markdown",
      "metadata": {
        "id": "NY2a9xF6Gz08"
      },
      "source": [
        "## list + list"
      ]
    },
    {
      "cell_type": "code",
      "metadata": {
        "colab": {
          "base_uri": "https://localhost:8080/"
        },
        "id": "7wzFAajxG3KN",
        "outputId": "d949e5b7-8f68-4bf1-fb4d-c681debf3341"
      },
      "source": [
        "list_a\n",
        "list_b"
      ],
      "execution_count": 40,
      "outputs": [
        {
          "output_type": "execute_result",
          "data": {
            "text/plain": [
              "[2, 'xyz', [1, 2, 0.2, 'Thanik'], [1, 2, 0.0]]"
            ]
          },
          "metadata": {
            "tags": []
          },
          "execution_count": 40
        }
      ]
    },
    {
      "cell_type": "code",
      "metadata": {
        "colab": {
          "base_uri": "https://localhost:8080/"
        },
        "id": "Iio5p9RoHbrs",
        "outputId": "46efca03-7f6c-48e3-a96c-e918812e7c5e"
      },
      "source": [
        "list_a+list_b"
      ],
      "execution_count": 41,
      "outputs": [
        {
          "output_type": "execute_result",
          "data": {
            "text/plain": [
              "[1, 2, 0.2, 'Thanik', 2, 'xyz', [1, 2, 0.2, 'Thanik'], [1, 2, 0.0]]"
            ]
          },
          "metadata": {
            "tags": []
          },
          "execution_count": 41
        }
      ]
    },
    {
      "cell_type": "markdown",
      "metadata": {
        "id": "oAc_4B6mHaVf"
      },
      "source": [
        "## for loop"
      ]
    },
    {
      "cell_type": "code",
      "metadata": {
        "colab": {
          "base_uri": "https://localhost:8080/"
        },
        "id": "okNlTe-FHk8Y",
        "outputId": "8aa2483e-75a6-437f-b8a9-a182e22d9f11"
      },
      "source": [
        "for i in [1,2,3,4,5]:\n",
        "      print(i+1)"
      ],
      "execution_count": 45,
      "outputs": [
        {
          "output_type": "stream",
          "text": [
            "2\n",
            "3\n",
            "4\n",
            "5\n",
            "6\n"
          ],
          "name": "stdout"
        }
      ]
    },
    {
      "cell_type": "code",
      "metadata": {
        "colab": {
          "base_uri": "https://localhost:8080/"
        },
        "id": "rY5geLMbMm_E",
        "outputId": "c4692faa-982d-4144-9812-b401514f5622"
      },
      "source": [
        "for i in [1,2,3,4,5]:\n",
        "      print(f'ค่าตัวแปร x คือ {i} และ x+2 = {i+2}')"
      ],
      "execution_count": 46,
      "outputs": [
        {
          "output_type": "stream",
          "text": [
            "ค่าตัวแปร x คือ 1 และ x+2 = 3\n",
            "ค่าตัวแปร x คือ 2 และ x+2 = 4\n",
            "ค่าตัวแปร x คือ 3 และ x+2 = 5\n",
            "ค่าตัวแปร x คือ 4 และ x+2 = 6\n",
            "ค่าตัวแปร x คือ 5 และ x+2 = 7\n"
          ],
          "name": "stdout"
        }
      ]
    },
    {
      "cell_type": "code",
      "metadata": {
        "colab": {
          "base_uri": "https://localhost:8080/"
        },
        "id": "GzhPpVMLM3iD",
        "outputId": "f6698d4e-6f35-4fae-f97d-3a439c45bafb"
      },
      "source": [
        "list_5=[1,2,3,4,5]\n",
        "for i in list_5:\n",
        "  print(f'ค่าตัวแปร x คือ {i} และ x+2 = {i+2}')"
      ],
      "execution_count": 47,
      "outputs": [
        {
          "output_type": "stream",
          "text": [
            "ค่าตัวแปร x คือ 1 และ x+2 = 3\n",
            "ค่าตัวแปร x คือ 2 และ x+2 = 4\n",
            "ค่าตัวแปร x คือ 3 และ x+2 = 5\n",
            "ค่าตัวแปร x คือ 4 และ x+2 = 6\n",
            "ค่าตัวแปร x คือ 5 และ x+2 = 7\n"
          ],
          "name": "stdout"
        }
      ]
    },
    {
      "cell_type": "code",
      "metadata": {
        "colab": {
          "base_uri": "https://localhost:8080/"
        },
        "id": "RBK56nWVNGkm",
        "outputId": "3ec6bc14-fd36-4c8d-ef04-4e0a990c3f08"
      },
      "source": [
        "list(range(10))"
      ],
      "execution_count": 51,
      "outputs": [
        {
          "output_type": "execute_result",
          "data": {
            "text/plain": [
              "[0, 1, 2, 3, 4, 5, 6, 7, 8, 9]"
            ]
          },
          "metadata": {
            "tags": []
          },
          "execution_count": 51
        }
      ]
    },
    {
      "cell_type": "code",
      "metadata": {
        "colab": {
          "base_uri": "https://localhost:8080/"
        },
        "id": "WWehp13tNZPE",
        "outputId": "038603c7-f00b-46a5-e0bc-2630c37e83a9"
      },
      "source": [
        "for i in range(2,7):\n",
        "  print(i)"
      ],
      "execution_count": 52,
      "outputs": [
        {
          "output_type": "stream",
          "text": [
            "2\n",
            "3\n",
            "4\n",
            "5\n",
            "6\n"
          ],
          "name": "stdout"
        }
      ]
    },
    {
      "cell_type": "code",
      "metadata": {
        "colab": {
          "base_uri": "https://localhost:8080/"
        },
        "id": "DXDF-QUnN8q7",
        "outputId": "342c036b-99b3-4106-f888-053092fd589c"
      },
      "source": [
        "for i in range(2,7,2):\n",
        "  print(i)"
      ],
      "execution_count": 54,
      "outputs": [
        {
          "output_type": "stream",
          "text": [
            "2\n",
            "4\n",
            "6\n"
          ],
          "name": "stdout"
        }
      ]
    },
    {
      "cell_type": "code",
      "metadata": {
        "colab": {
          "base_uri": "https://localhost:8080/"
        },
        "id": "f2RwJor_O5Ef",
        "outputId": "d4f19a47-c335-4187-e656-200f46ead181"
      },
      "source": [
        "for i in range(5):\n",
        "  print('hahaha')\n",
        "  x = i +3\n",
        "  print(f'i = {i} x= {x}')"
      ],
      "execution_count": 55,
      "outputs": [
        {
          "output_type": "stream",
          "text": [
            "hahaha\n",
            "i = 0 x= 3\n",
            "hahaha\n",
            "i = 1 x= 4\n",
            "hahaha\n",
            "i = 2 x= 5\n",
            "hahaha\n",
            "i = 3 x= 6\n",
            "hahaha\n",
            "i = 4 x= 7\n"
          ],
          "name": "stdout"
        }
      ]
    },
    {
      "cell_type": "markdown",
      "metadata": {
        "id": "5Ln6a7RMPXYr"
      },
      "source": [
        "#Nested loop"
      ]
    },
    {
      "cell_type": "code",
      "metadata": {
        "colab": {
          "base_uri": "https://localhost:8080/"
        },
        "id": "BoUt_TCaPnpx",
        "outputId": "fdd66147-bd87-40f9-c3d4-943c38497650"
      },
      "source": [
        "for i in range(3):\n",
        "  for j in range(4):\n",
        "    print(f'i = {i} j = {j} i+j = {i+j}')"
      ],
      "execution_count": 56,
      "outputs": [
        {
          "output_type": "stream",
          "text": [
            "i = 0 j = 0 i+j = 0\n",
            "i = 0 j = 1 i+j = 1\n",
            "i = 0 j = 2 i+j = 2\n",
            "i = 0 j = 3 i+j = 3\n",
            "i = 1 j = 0 i+j = 1\n",
            "i = 1 j = 1 i+j = 2\n",
            "i = 1 j = 2 i+j = 3\n",
            "i = 1 j = 3 i+j = 4\n",
            "i = 2 j = 0 i+j = 2\n",
            "i = 2 j = 1 i+j = 3\n",
            "i = 2 j = 2 i+j = 4\n",
            "i = 2 j = 3 i+j = 5\n"
          ],
          "name": "stdout"
        }
      ]
    },
    {
      "cell_type": "markdown",
      "metadata": {
        "id": "9hlvjp3WHjpj"
      },
      "source": [
        "#Condition "
      ]
    },
    {
      "cell_type": "code",
      "metadata": {
        "id": "9gzFK43MHuzk"
      },
      "source": [
        ""
      ],
      "execution_count": null,
      "outputs": []
    },
    {
      "cell_type": "markdown",
      "metadata": {
        "id": "VFNjiZ8LHo8C"
      },
      "source": [
        "#Function"
      ]
    },
    {
      "cell_type": "code",
      "metadata": {
        "id": "i0EZkZ9gG5k1"
      },
      "source": [
        ""
      ],
      "execution_count": null,
      "outputs": []
    }
  ]
}