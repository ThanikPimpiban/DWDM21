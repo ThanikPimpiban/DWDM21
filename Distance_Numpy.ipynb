{
  "nbformat": 4,
  "nbformat_minor": 0,
  "metadata": {
    "colab": {
      "name": "Distance Numpy.ipynb",
      "provenance": [],
      "authorship_tag": "ABX9TyNN7mIWR1/gVCR2rxZMkA6F",
      "include_colab_link": true
    },
    "kernelspec": {
      "name": "python3",
      "display_name": "Python 3"
    },
    "language_info": {
      "name": "python"
    }
  },
  "cells": [
    {
      "cell_type": "markdown",
      "metadata": {
        "id": "view-in-github",
        "colab_type": "text"
      },
      "source": [
        "<a href=\"https://colab.research.google.com/github/ThanikPimpiban/DWDM21/blob/main/Distance_Numpy.ipynb\" target=\"_parent\"><img src=\"https://colab.research.google.com/assets/colab-badge.svg\" alt=\"Open In Colab\"/></a>"
      ]
    },
    {
      "cell_type": "code",
      "metadata": {
        "id": "BJMHhxLTcpQv"
      },
      "source": [
        "import numpy as np"
      ],
      "execution_count": 1,
      "outputs": []
    },
    {
      "cell_type": "markdown",
      "metadata": {
        "id": "-7UnMVL6ddP0"
      },
      "source": [
        "**Numpy Array**"
      ]
    },
    {
      "cell_type": "markdown",
      "metadata": {
        "id": "SUMPbH5_drLs"
      },
      "source": [
        "สร้าง Numpy Array"
      ]
    },
    {
      "cell_type": "code",
      "metadata": {
        "id": "tpvNJHZNdEHm"
      },
      "source": [
        "np_a = np.array([[1,2,3],[4,5,6]])  #สร้าง numpy array ที่มี 2 แถว 3 หลัก"
      ],
      "execution_count": 2,
      "outputs": []
    },
    {
      "cell_type": "code",
      "metadata": {
        "colab": {
          "base_uri": "https://localhost:8080/"
        },
        "id": "qCsxkqsveAXc",
        "outputId": "effc7105-cfe9-4a71-a5a3-733255429946"
      },
      "source": [
        "np_a"
      ],
      "execution_count": 3,
      "outputs": [
        {
          "output_type": "execute_result",
          "data": {
            "text/plain": [
              "array([[1, 2, 3],\n",
              "       [4, 5, 6]])"
            ]
          },
          "metadata": {},
          "execution_count": 3
        }
      ]
    },
    {
      "cell_type": "code",
      "metadata": {
        "colab": {
          "base_uri": "https://localhost:8080/"
        },
        "id": "6sF_QS0keBoU",
        "outputId": "db8577b8-743d-44c1-86a1-6acfe4fe14a3"
      },
      "source": [
        "np_a.shape"
      ],
      "execution_count": 4,
      "outputs": [
        {
          "output_type": "execute_result",
          "data": {
            "text/plain": [
              "(2, 3)"
            ]
          },
          "metadata": {},
          "execution_count": 4
        }
      ]
    },
    {
      "cell_type": "code",
      "metadata": {
        "id": "oNs8o160eFN8"
      },
      "source": [
        "np_b = np.array([[1,4],[2,5],[3,6]])"
      ],
      "execution_count": 5,
      "outputs": []
    },
    {
      "cell_type": "code",
      "metadata": {
        "colab": {
          "base_uri": "https://localhost:8080/"
        },
        "id": "ARlmkN_TedLE",
        "outputId": "f32fadf5-e272-4ba1-817c-bbb789a2c48c"
      },
      "source": [
        "np_b"
      ],
      "execution_count": 6,
      "outputs": [
        {
          "output_type": "execute_result",
          "data": {
            "text/plain": [
              "array([[1, 4],\n",
              "       [2, 5],\n",
              "       [3, 6]])"
            ]
          },
          "metadata": {},
          "execution_count": 6
        }
      ]
    },
    {
      "cell_type": "markdown",
      "metadata": {
        "id": "DMOfotWley6X"
      },
      "source": [
        "##matrix transpose"
      ]
    },
    {
      "cell_type": "code",
      "metadata": {
        "colab": {
          "base_uri": "https://localhost:8080/"
        },
        "id": "9ywTgnSueeSF",
        "outputId": "f53f3d33-d505-421f-a358-f89b6971e84b"
      },
      "source": [
        "np_a.T"
      ],
      "execution_count": 7,
      "outputs": [
        {
          "output_type": "execute_result",
          "data": {
            "text/plain": [
              "array([[1, 4],\n",
              "       [2, 5],\n",
              "       [3, 6]])"
            ]
          },
          "metadata": {},
          "execution_count": 7
        }
      ]
    },
    {
      "cell_type": "markdown",
      "metadata": {
        "id": "GIJlm0T_fpl0"
      },
      "source": [
        "## สร้าง Matrix เริ่มต้น (Zeros,one)"
      ]
    },
    {
      "cell_type": "code",
      "metadata": {
        "id": "aaiWtDEze4U8"
      },
      "source": [
        "np_z = np.zeros((4,5))"
      ],
      "execution_count": 8,
      "outputs": []
    },
    {
      "cell_type": "code",
      "metadata": {
        "colab": {
          "base_uri": "https://localhost:8080/"
        },
        "id": "FDEkjXJxf5RS",
        "outputId": "2e467da7-0a36-44bf-a886-76b31eaf096c"
      },
      "source": [
        "np_z"
      ],
      "execution_count": 9,
      "outputs": [
        {
          "output_type": "execute_result",
          "data": {
            "text/plain": [
              "array([[0., 0., 0., 0., 0.],\n",
              "       [0., 0., 0., 0., 0.],\n",
              "       [0., 0., 0., 0., 0.],\n",
              "       [0., 0., 0., 0., 0.]])"
            ]
          },
          "metadata": {},
          "execution_count": 9
        }
      ]
    },
    {
      "cell_type": "code",
      "metadata": {
        "colab": {
          "base_uri": "https://localhost:8080/"
        },
        "id": "KWr9AbwQf7se",
        "outputId": "5c840584-7247-4192-8ee9-a8a8746808fd"
      },
      "source": [
        "np_o = np.ones((5,6))\n",
        "np_o"
      ],
      "execution_count": 10,
      "outputs": [
        {
          "output_type": "execute_result",
          "data": {
            "text/plain": [
              "array([[1., 1., 1., 1., 1., 1.],\n",
              "       [1., 1., 1., 1., 1., 1.],\n",
              "       [1., 1., 1., 1., 1., 1.],\n",
              "       [1., 1., 1., 1., 1., 1.],\n",
              "       [1., 1., 1., 1., 1., 1.]])"
            ]
          },
          "metadata": {},
          "execution_count": 10
        }
      ]
    },
    {
      "cell_type": "code",
      "metadata": {
        "colab": {
          "base_uri": "https://localhost:8080/"
        },
        "id": "3yb64lFogCMK",
        "outputId": "ddb9be66-a4ca-45bc-cedc-f66cb4340743"
      },
      "source": [
        "np_200 = 200 * np.ones((4,7))\n",
        "np_200"
      ],
      "execution_count": 11,
      "outputs": [
        {
          "output_type": "execute_result",
          "data": {
            "text/plain": [
              "array([[200., 200., 200., 200., 200., 200., 200.],\n",
              "       [200., 200., 200., 200., 200., 200., 200.],\n",
              "       [200., 200., 200., 200., 200., 200., 200.],\n",
              "       [200., 200., 200., 200., 200., 200., 200.]])"
            ]
          },
          "metadata": {},
          "execution_count": 11
        }
      ]
    },
    {
      "cell_type": "code",
      "metadata": {
        "id": "GFGhA901gHZ6"
      },
      "source": [
        ""
      ],
      "execution_count": 11,
      "outputs": []
    },
    {
      "cell_type": "markdown",
      "metadata": {
        "id": "ucglJIPKgZCy"
      },
      "source": [
        "## สร้าง matrix random "
      ]
    },
    {
      "cell_type": "code",
      "metadata": {
        "colab": {
          "base_uri": "https://localhost:8080/"
        },
        "id": "skap1xd7gecx",
        "outputId": "45ad2ba0-c849-46d6-be1f-e38db79c4bc4"
      },
      "source": [
        "np_random = np.random.randn(5,5)\n",
        "np_random"
      ],
      "execution_count": 12,
      "outputs": [
        {
          "output_type": "execute_result",
          "data": {
            "text/plain": [
              "array([[-0.74382583, -2.50429284,  1.24219793, -0.32686378, -0.85684858],\n",
              "       [ 0.56535719,  1.14390445,  1.83875569,  0.42537149,  1.44380549],\n",
              "       [-1.29902728, -0.52498863,  0.35944085, -0.88441897, -0.56396257],\n",
              "       [ 0.88939963, -0.06585945, -1.72184597, -1.75034417,  0.97986162],\n",
              "       [ 1.0983874 , -0.29933486,  0.18420164, -0.44744949,  0.23053577]])"
            ]
          },
          "metadata": {},
          "execution_count": 12
        }
      ]
    },
    {
      "cell_type": "code",
      "metadata": {
        "colab": {
          "base_uri": "https://localhost:8080/"
        },
        "id": "Ph6jo7nrgwZr",
        "outputId": "f4fff94d-611b-4875-a039-97954aba33ac"
      },
      "source": [
        "2 + (5*np.random.randn(3,3))"
      ],
      "execution_count": 13,
      "outputs": [
        {
          "output_type": "execute_result",
          "data": {
            "text/plain": [
              "array([[11.702204  , -0.19873454,  3.19941468],\n",
              "       [ 3.92744227, -6.25191826, -0.45675553],\n",
              "       [ 2.07008353,  8.59439043,  1.41024925]])"
            ]
          },
          "metadata": {},
          "execution_count": 13
        }
      ]
    },
    {
      "cell_type": "markdown",
      "metadata": {
        "id": "jav8KOYvhUL-"
      },
      "source": [
        "**random(int)**"
      ]
    },
    {
      "cell_type": "code",
      "metadata": {
        "colab": {
          "base_uri": "https://localhost:8080/"
        },
        "id": "YUUzBc0ZhNtZ",
        "outputId": "951867d0-e6e8-4101-c8a2-d359dc500315"
      },
      "source": [
        "np.random.randint(5,11,(4,5))"
      ],
      "execution_count": 14,
      "outputs": [
        {
          "output_type": "execute_result",
          "data": {
            "text/plain": [
              "array([[ 7,  5,  6, 10,  9],\n",
              "       [ 8,  5,  5,  8,  6],\n",
              "       [ 7,  9,  8,  6,  5],\n",
              "       [10,  9,  7,  8,  6]])"
            ]
          },
          "metadata": {},
          "execution_count": 14
        }
      ]
    },
    {
      "cell_type": "code",
      "metadata": {
        "id": "msD8unOhhbGh",
        "colab": {
          "base_uri": "https://localhost:8080/"
        },
        "outputId": "063abf56-5be9-4135-8d2f-4080056d8e8d"
      },
      "source": [
        "1+np_a.T"
      ],
      "execution_count": 15,
      "outputs": [
        {
          "output_type": "execute_result",
          "data": {
            "text/plain": [
              "array([[2, 5],\n",
              "       [3, 6],\n",
              "       [4, 7]])"
            ]
          },
          "metadata": {},
          "execution_count": 15
        }
      ]
    },
    {
      "cell_type": "code",
      "metadata": {
        "colab": {
          "base_uri": "https://localhost:8080/"
        },
        "id": "2Wi3fk5JO_eN",
        "outputId": "59ba7546-8248-42d7-8027-34c97bb51ef5"
      },
      "source": [
        "2*np_a"
      ],
      "execution_count": 16,
      "outputs": [
        {
          "output_type": "execute_result",
          "data": {
            "text/plain": [
              "array([[ 2,  4,  6],\n",
              "       [ 8, 10, 12]])"
            ]
          },
          "metadata": {},
          "execution_count": 16
        }
      ]
    },
    {
      "cell_type": "code",
      "metadata": {
        "id": "0zzkWecSPDv0"
      },
      "source": [
        "np_c = np.array([[6,5,4],[3,2,1]])"
      ],
      "execution_count": 17,
      "outputs": []
    },
    {
      "cell_type": "code",
      "metadata": {
        "colab": {
          "base_uri": "https://localhost:8080/"
        },
        "id": "oZIojtabP5ws",
        "outputId": "fed1cb16-ad64-4ffd-b974-0193c4daf37d"
      },
      "source": [
        "np_a+np_c"
      ],
      "execution_count": 18,
      "outputs": [
        {
          "output_type": "execute_result",
          "data": {
            "text/plain": [
              "array([[7, 7, 7],\n",
              "       [7, 7, 7]])"
            ]
          },
          "metadata": {},
          "execution_count": 18
        }
      ]
    },
    {
      "cell_type": "code",
      "metadata": {
        "colab": {
          "base_uri": "https://localhost:8080/"
        },
        "id": "ds5ZIQclP8rk",
        "outputId": "38959adb-164b-4250-b25b-43696f8373b6"
      },
      "source": [
        "np_a[[1],[1]]"
      ],
      "execution_count": 23,
      "outputs": [
        {
          "output_type": "execute_result",
          "data": {
            "text/plain": [
              "array([5])"
            ]
          },
          "metadata": {},
          "execution_count": 23
        }
      ]
    },
    {
      "cell_type": "code",
      "metadata": {
        "colab": {
          "base_uri": "https://localhost:8080/"
        },
        "id": "ioSD0xX3R4DC",
        "outputId": "ba23005c-159b-4d85-b6c0-f1848dafb2bc"
      },
      "source": [
        "np_a[:2,:2]"
      ],
      "execution_count": 24,
      "outputs": [
        {
          "output_type": "execute_result",
          "data": {
            "text/plain": [
              "array([[1, 2],\n",
              "       [4, 5]])"
            ]
          },
          "metadata": {},
          "execution_count": 24
        }
      ]
    },
    {
      "cell_type": "code",
      "metadata": {
        "colab": {
          "base_uri": "https://localhost:8080/"
        },
        "id": "5r8qLFr8SVDK",
        "outputId": "9bfc791c-ec15-4c97-fba0-817c1485868a"
      },
      "source": [
        "np_a[0,:]"
      ],
      "execution_count": 25,
      "outputs": [
        {
          "output_type": "execute_result",
          "data": {
            "text/plain": [
              "array([1, 2, 3])"
            ]
          },
          "metadata": {},
          "execution_count": 25
        }
      ]
    },
    {
      "cell_type": "markdown",
      "metadata": {
        "id": "dbZ5D9XdSmPa"
      },
      "source": [
        "## Useful functions"
      ]
    },
    {
      "cell_type": "code",
      "metadata": {
        "colab": {
          "base_uri": "https://localhost:8080/"
        },
        "id": "lA01VXSTSZJq",
        "outputId": "b2f33a3d-6d56-4603-8d9d-a860a879004a"
      },
      "source": [
        "np.sum(np_a)"
      ],
      "execution_count": 26,
      "outputs": [
        {
          "output_type": "execute_result",
          "data": {
            "text/plain": [
              "21"
            ]
          },
          "metadata": {},
          "execution_count": 26
        }
      ]
    },
    {
      "cell_type": "code",
      "metadata": {
        "colab": {
          "base_uri": "https://localhost:8080/"
        },
        "id": "KdVBEqArSyro",
        "outputId": "17ec0ad8-8794-470a-eb6d-1d722f300e2f"
      },
      "source": [
        "np.sum(np_a,axis=0)"
      ],
      "execution_count": 27,
      "outputs": [
        {
          "output_type": "execute_result",
          "data": {
            "text/plain": [
              "array([5, 7, 9])"
            ]
          },
          "metadata": {},
          "execution_count": 27
        }
      ]
    },
    {
      "cell_type": "code",
      "metadata": {
        "colab": {
          "base_uri": "https://localhost:8080/"
        },
        "id": "fwmk1eaSTOVJ",
        "outputId": "e29b19f3-a719-4f2e-8700-10922e3aac56"
      },
      "source": [
        "np.sum(np_a,axis=1)"
      ],
      "execution_count": 28,
      "outputs": [
        {
          "output_type": "execute_result",
          "data": {
            "text/plain": [
              "array([ 6, 15])"
            ]
          },
          "metadata": {},
          "execution_count": 28
        }
      ]
    },
    {
      "cell_type": "code",
      "metadata": {
        "colab": {
          "base_uri": "https://localhost:8080/"
        },
        "id": "HP0WE9cSTQjR",
        "outputId": "1a640cca-d70b-4749-9e9e-b1b1794c18b5"
      },
      "source": [
        "np.mean(np_a,axis=0)"
      ],
      "execution_count": 34,
      "outputs": [
        {
          "output_type": "execute_result",
          "data": {
            "text/plain": [
              "array([2.5, 3.5, 4.5])"
            ]
          },
          "metadata": {},
          "execution_count": 34
        }
      ]
    },
    {
      "cell_type": "markdown",
      "metadata": {
        "id": "AfhzM_adVSNq"
      },
      "source": [
        "## วนลูปเอง"
      ]
    },
    {
      "cell_type": "markdown",
      "metadata": {
        "id": "56ohgkLJVVDx"
      },
      "source": [
        "## Summation"
      ]
    },
    {
      "cell_type": "code",
      "metadata": {
        "colab": {
          "base_uri": "https://localhost:8080/"
        },
        "id": "OlDmYVDRToIw",
        "outputId": "5ce2cebe-13be-4cdb-cc4e-3c11ce68b6d5"
      },
      "source": [
        "np_a.shape"
      ],
      "execution_count": 35,
      "outputs": [
        {
          "output_type": "execute_result",
          "data": {
            "text/plain": [
              "(2, 3)"
            ]
          },
          "metadata": {},
          "execution_count": 35
        }
      ]
    },
    {
      "cell_type": "markdown",
      "metadata": {
        "id": "LdQUNXJbWtav"
      },
      "source": [
        "**np.sum(np_a)**"
      ]
    },
    {
      "cell_type": "code",
      "metadata": {
        "colab": {
          "base_uri": "https://localhost:8080/"
        },
        "id": "8g1eBuIWVbdn",
        "outputId": "2d8e056e-f23c-4636-fc7f-15894542522c"
      },
      "source": [
        "sum_all =0\n",
        "\n",
        "for row in range(np_a.shape[0]):\n",
        "    for col in range(np_a.shape[1]):\n",
        "        sum_all =sum_all + np_a[row,col]\n",
        "        print(f'we are aat now = {row} , col = {col} , np_a[{row},{col}] , sum_all = {sum_all}')"
      ],
      "execution_count": 36,
      "outputs": [
        {
          "output_type": "stream",
          "text": [
            "we are aat now = 0 , col = 0 , np_a[0,0] , sum_all = 1\n",
            "we are aat now = 0 , col = 1 , np_a[0,1] , sum_all = 3\n",
            "we are aat now = 0 , col = 2 , np_a[0,2] , sum_all = 6\n",
            "we are aat now = 1 , col = 0 , np_a[1,0] , sum_all = 10\n",
            "we are aat now = 1 , col = 1 , np_a[1,1] , sum_all = 15\n",
            "we are aat now = 1 , col = 2 , np_a[1,2] , sum_all = 21\n"
          ],
          "name": "stdout"
        }
      ]
    },
    {
      "cell_type": "code",
      "metadata": {
        "colab": {
          "base_uri": "https://localhost:8080/"
        },
        "id": "d_6ukkWcWJgX",
        "outputId": "e51c6864-6e32-41e4-8608-e1590ad62d78"
      },
      "source": [
        "np_a"
      ],
      "execution_count": 37,
      "outputs": [
        {
          "output_type": "execute_result",
          "data": {
            "text/plain": [
              "array([[1, 2, 3],\n",
              "       [4, 5, 6]])"
            ]
          },
          "metadata": {},
          "execution_count": 37
        }
      ]
    },
    {
      "cell_type": "markdown",
      "metadata": {
        "id": "2_mjT1lfW0CP"
      },
      "source": [
        "**np.sum(np_a,axis=0)**"
      ]
    },
    {
      "cell_type": "code",
      "metadata": {
        "colab": {
          "base_uri": "https://localhost:8080/"
        },
        "id": "82Izsu6UWN_e",
        "outputId": "c0e88a66-8cfa-40af-cce0-24e667f17d00"
      },
      "source": [
        "sum_all = np.zeros(np_a.shape[1])\n",
        "\n",
        "\n",
        "for row in range(np_a.shape[0]):\n",
        "    for col in range(np_a.shape[1]):\n",
        "        sum_all[col] =sum_all[col] + np_a[row,col]\n",
        "print(sum_all)"
      ],
      "execution_count": 40,
      "outputs": [
        {
          "output_type": "stream",
          "text": [
            "[5. 7. 9.]\n"
          ],
          "name": "stdout"
        }
      ]
    },
    {
      "cell_type": "code",
      "metadata": {
        "colab": {
          "base_uri": "https://localhost:8080/"
        },
        "id": "7do0XEQjXmFm",
        "outputId": "1cfb4f6f-ac02-4bf5-fdbb-84ea030bcbbc"
      },
      "source": [
        "sum_all = np.zeros(np_a.shape[0])\n",
        "\n",
        "\n",
        "for row in range(np_a.shape[0]):\n",
        "    for col in range(np_a.shape[1]):\n",
        "        sum_all[row] =sum_all[row] + np_a[row,col]\n",
        "print(sum_all)"
      ],
      "execution_count": 41,
      "outputs": [
        {
          "output_type": "stream",
          "text": [
            "[ 6. 15.]\n"
          ],
          "name": "stdout"
        }
      ]
    },
    {
      "cell_type": "markdown",
      "metadata": {
        "id": "hoMYmh1AYi2I"
      },
      "source": [
        "## Quiz กลุ่ม"
      ]
    },
    {
      "cell_type": "markdown",
      "metadata": {
        "id": "2sSRLu_CYoCY"
      },
      "source": [
        "วนลูปหาค่า\n",
        "* np.sum(np_a,axis=1)\n",
        "* np.mean(np_a)\n",
        "* np.mean(np_a,axis=0)\n",
        "* np.mean(np_a,axis=1)"
      ]
    },
    {
      "cell_type": "code",
      "metadata": {
        "colab": {
          "base_uri": "https://localhost:8080/"
        },
        "id": "46KSw-0PYUzt",
        "outputId": "ce8ce3c5-7f86-4e55-84eb-9d5ec7623b07"
      },
      "source": [
        "sum_all = np.zeros(np_a.shape[0])\n",
        "\n",
        "\n",
        "for row in range(np_a.shape[0]):\n",
        "    for col in range(np_a.shape[1]):\n",
        "        sum_all[row] =sum_all[row] + np_a[row,col]\n",
        "        print(f'we are at now = {row} , col = {col} , np_a[{row},{col}] , sum_all = {sum_all}')\n",
        "print(sum_all)"
      ],
      "execution_count": 44,
      "outputs": [
        {
          "output_type": "stream",
          "text": [
            "we are at now = 0 , col = 0 , np_a[0,0] , sum_all = [1. 0.]\n",
            "we are at now = 0 , col = 1 , np_a[0,1] , sum_all = [3. 0.]\n",
            "we are at now = 0 , col = 2 , np_a[0,2] , sum_all = [6. 0.]\n",
            "we are at now = 1 , col = 0 , np_a[1,0] , sum_all = [6. 4.]\n",
            "we are at now = 1 , col = 1 , np_a[1,1] , sum_all = [6. 9.]\n",
            "we are at now = 1 , col = 2 , np_a[1,2] , sum_all = [ 6. 15.]\n",
            "[ 6. 15.]\n"
          ],
          "name": "stdout"
        }
      ]
    },
    {
      "cell_type": "code",
      "metadata": {
        "colab": {
          "base_uri": "https://localhost:8080/"
        },
        "id": "VFPQeBJbZB1V",
        "outputId": "039bbf35-909a-4c6e-813b-6bc96c7dc615"
      },
      "source": [
        "np.sum(np_a,axis=1)"
      ],
      "execution_count": 43,
      "outputs": [
        {
          "output_type": "execute_result",
          "data": {
            "text/plain": [
              "array([ 6, 15])"
            ]
          },
          "metadata": {},
          "execution_count": 43
        }
      ]
    },
    {
      "cell_type": "markdown",
      "metadata": {
        "id": "L6Qeoit4c4cD"
      },
      "source": [
        "**ข้อ 5**"
      ]
    },
    {
      "cell_type": "markdown",
      "metadata": {
        "id": "SrxZVBbtZSfQ"
      },
      "source": [
        "np.max(np_a)"
      ]
    },
    {
      "cell_type": "code",
      "metadata": {
        "colab": {
          "base_uri": "https://localhost:8080/"
        },
        "id": "OFijJ57EZFit",
        "outputId": "bd950ae9-f3c5-4e42-ebfa-d1c5a6537f8e"
      },
      "source": [
        "max_a = 0\n",
        "\n",
        "\n",
        "for row in range(np_a.shape[0]):\n",
        "    for col in range(np_a.shape[1]):\n",
        "        if max_a >= 0:\n",
        "            max_a = np_a[row,col]\n",
        "print(max_a)"
      ],
      "execution_count": 75,
      "outputs": [
        {
          "output_type": "stream",
          "text": [
            "6\n"
          ],
          "name": "stdout"
        }
      ]
    },
    {
      "cell_type": "code",
      "metadata": {
        "colab": {
          "base_uri": "https://localhost:8080/"
        },
        "id": "C2ANSyqpZfeM",
        "outputId": "63547c8b-91a1-46e4-b670-2858d954bb10"
      },
      "source": [
        "np.max(np_a)"
      ],
      "execution_count": 67,
      "outputs": [
        {
          "output_type": "execute_result",
          "data": {
            "text/plain": [
              "6"
            ]
          },
          "metadata": {},
          "execution_count": 67
        }
      ]
    },
    {
      "cell_type": "markdown",
      "metadata": {
        "id": "0iu6v8J3c-Dm"
      },
      "source": [
        "**ข้อ 6**"
      ]
    },
    {
      "cell_type": "code",
      "metadata": {
        "colab": {
          "base_uri": "https://localhost:8080/"
        },
        "id": "v0Z04cneZuS8",
        "outputId": "abe073f4-4762-4ef3-edf7-8e4605b976d7"
      },
      "source": [
        "max_a0 = np.zeros(np_a.shape[1])\n",
        "\n",
        "\n",
        "for row in range(np_a.shape[0]):\n",
        "    for col in range(np_a.shape[1]):\n",
        "        if max_a[col] >= 1:\n",
        "            max_a0[col] = np_a[row,col]\n",
        "print(max_a0)"
      ],
      "execution_count": 117,
      "outputs": [
        {
          "output_type": "stream",
          "text": [
            "[4. 5. 6.]\n"
          ],
          "name": "stdout"
        }
      ]
    },
    {
      "cell_type": "code",
      "metadata": {
        "colab": {
          "base_uri": "https://localhost:8080/"
        },
        "id": "lITKGteWcOWy",
        "outputId": "2633098b-5a7b-4ad4-d16b-38fd0b0adcd3"
      },
      "source": [
        "np.max(np_a,axis=0)"
      ],
      "execution_count": 115,
      "outputs": [
        {
          "output_type": "execute_result",
          "data": {
            "text/plain": [
              "array([4, 5, 6])"
            ]
          },
          "metadata": {},
          "execution_count": 115
        }
      ]
    },
    {
      "cell_type": "markdown",
      "metadata": {
        "id": "oozvCWUbc_nd"
      },
      "source": [
        "**ข้อ 7**"
      ]
    },
    {
      "cell_type": "code",
      "metadata": {
        "colab": {
          "base_uri": "https://localhost:8080/"
        },
        "id": "EKw3YWZscl_4",
        "outputId": "107c1dc6-a5fe-4d08-991b-c49ee1e6450d"
      },
      "source": [
        "max_a1 = np.zeros(np_a.shape[0])\n",
        "\n",
        "\n",
        "for row in range(np_a.shape[0]):\n",
        "    for col in range(np_a.shape[1]):\n",
        "        if max_a[col] >= 1:\n",
        "            max_a1[row] = np_a[row,col]\n",
        "print(max_a1)"
      ],
      "execution_count": 116,
      "outputs": [
        {
          "output_type": "stream",
          "text": [
            "[3. 6.]\n"
          ],
          "name": "stdout"
        }
      ]
    },
    {
      "cell_type": "code",
      "metadata": {
        "colab": {
          "base_uri": "https://localhost:8080/"
        },
        "id": "pmvcrEGBczRB",
        "outputId": "09f71ee3-58e1-493d-8c1e-816329a61383"
      },
      "source": [
        "np.max(np_a,axis=1)"
      ],
      "execution_count": 84,
      "outputs": [
        {
          "output_type": "execute_result",
          "data": {
            "text/plain": [
              "array([3, 6])"
            ]
          },
          "metadata": {},
          "execution_count": 84
        }
      ]
    },
    {
      "cell_type": "markdown",
      "metadata": {
        "id": "uh7-81kxdBbj"
      },
      "source": [
        "**ข้อ 8**"
      ]
    },
    {
      "cell_type": "code",
      "metadata": {
        "colab": {
          "base_uri": "https://localhost:8080/"
        },
        "id": "6kicuTf9c1fZ",
        "outputId": "718ba011-d552-4ad8-fb19-7a65ba047eb2"
      },
      "source": [
        "min_a = 0\n",
        "\n",
        "\n",
        "for row in range(np_a.shape[0]):\n",
        "    for col in range(np_a.shape[1]):\n",
        "        if min_a <= 0:\n",
        "            min_a = np_a[row,col]\n",
        "print(min_a)"
      ],
      "execution_count": 87,
      "outputs": [
        {
          "output_type": "stream",
          "text": [
            "1\n"
          ],
          "name": "stdout"
        }
      ]
    },
    {
      "cell_type": "code",
      "metadata": {
        "colab": {
          "base_uri": "https://localhost:8080/"
        },
        "id": "k2zakSbfdJUg",
        "outputId": "cd356ebc-cbb8-4e19-fa7e-7f066607fa29"
      },
      "source": [
        "np.min(np_a)"
      ],
      "execution_count": 88,
      "outputs": [
        {
          "output_type": "execute_result",
          "data": {
            "text/plain": [
              "1"
            ]
          },
          "metadata": {},
          "execution_count": 88
        }
      ]
    },
    {
      "cell_type": "markdown",
      "metadata": {
        "id": "_WHkvelCdT4n"
      },
      "source": [
        "**ข้อ 9**"
      ]
    },
    {
      "cell_type": "code",
      "metadata": {
        "colab": {
          "base_uri": "https://localhost:8080/"
        },
        "id": "eMCtMzl-dOng",
        "outputId": "b99cfc81-0e86-4fe5-ad8f-490e2decfef5"
      },
      "source": [
        "min_a0 = np.zeros(np_a.shape[1])\n",
        "\n",
        "\n",
        "for row in range(np_a.shape[0]):\n",
        "    for col in range(np_a.shape[1]):\n",
        "        if min_a0[col] <= 0:\n",
        "            min_a0[col] = np_a[row,col]\n",
        "print(min_a0)"
      ],
      "execution_count": 107,
      "outputs": [
        {
          "output_type": "stream",
          "text": [
            "[1. 2. 3.]\n"
          ],
          "name": "stdout"
        }
      ]
    },
    {
      "cell_type": "code",
      "metadata": {
        "colab": {
          "base_uri": "https://localhost:8080/"
        },
        "id": "0GQHvVrkd3Be",
        "outputId": "460df5e6-32e2-4922-c8f8-dc74f91cc958"
      },
      "source": [
        "np.min(np_a,axis=0)"
      ],
      "execution_count": 101,
      "outputs": [
        {
          "output_type": "execute_result",
          "data": {
            "text/plain": [
              "array([1, 2, 3])"
            ]
          },
          "metadata": {},
          "execution_count": 101
        }
      ]
    },
    {
      "cell_type": "markdown",
      "metadata": {
        "id": "RwVjNI0_dU-d"
      },
      "source": [
        "**ข้อ 10**"
      ]
    },
    {
      "cell_type": "code",
      "metadata": {
        "colab": {
          "base_uri": "https://localhost:8080/"
        },
        "id": "IS4jdOaNeywo",
        "outputId": "993f6c00-b332-412c-9cda-c41e5e224153"
      },
      "source": [
        "min_a1 = np.zeros(np_a.shape[0])\n",
        "\n",
        "\n",
        "for row in range(np_a.shape[0]):\n",
        "    for col in range(np_a.shape[1]):\n",
        "        if min_a1[row] <= 0:\n",
        "            min_a1[row] = np_a[row,col]\n",
        "print(min_a1)"
      ],
      "execution_count": 111,
      "outputs": [
        {
          "output_type": "stream",
          "text": [
            "[1. 4.]\n"
          ],
          "name": "stdout"
        }
      ]
    },
    {
      "cell_type": "code",
      "metadata": {
        "colab": {
          "base_uri": "https://localhost:8080/"
        },
        "id": "J4Fwk2Mbez8L",
        "outputId": "cf448c19-81da-48c3-9f44-8c8fcaa85270"
      },
      "source": [
        "np.min(np_a,axis=1)"
      ],
      "execution_count": 112,
      "outputs": [
        {
          "output_type": "execute_result",
          "data": {
            "text/plain": [
              "array([1, 4])"
            ]
          },
          "metadata": {},
          "execution_count": 112
        }
      ]
    },
    {
      "cell_type": "code",
      "metadata": {
        "id": "j_Z3PX9Ke0lW"
      },
      "source": [
        ""
      ],
      "execution_count": null,
      "outputs": []
    }
  ]
}