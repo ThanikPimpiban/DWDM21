{
  "nbformat": 4,
  "nbformat_minor": 0,
  "metadata": {
    "colab": {
      "name": "Distance Numpy.ipynb",
      "provenance": [],
      "authorship_tag": "ABX9TyP+h1PCbvosbXUfuv6PDP4J",
      "include_colab_link": true
    },
    "kernelspec": {
      "name": "python3",
      "display_name": "Python 3"
    },
    "language_info": {
      "name": "python"
    }
  },
  "cells": [
    {
      "cell_type": "markdown",
      "metadata": {
        "id": "view-in-github",
        "colab_type": "text"
      },
      "source": [
        "<a href=\"https://colab.research.google.com/github/ThanikPimpiban/DWDM21/blob/main/Distance_Numpy.ipynb\" target=\"_parent\"><img src=\"https://colab.research.google.com/assets/colab-badge.svg\" alt=\"Open In Colab\"/></a>"
      ]
    },
    {
      "cell_type": "code",
      "metadata": {
        "id": "BJMHhxLTcpQv"
      },
      "source": [
        "import numpy as np"
      ],
      "execution_count": 71,
      "outputs": []
    },
    {
      "cell_type": "markdown",
      "metadata": {
        "id": "-7UnMVL6ddP0"
      },
      "source": [
        "**Numpy Array**"
      ]
    },
    {
      "cell_type": "markdown",
      "metadata": {
        "id": "SUMPbH5_drLs"
      },
      "source": [
        "สร้าง Numpy Array"
      ]
    },
    {
      "cell_type": "code",
      "metadata": {
        "id": "tpvNJHZNdEHm"
      },
      "source": [
        "np_a = np.array([[1,2,3],[4,5,6]])  #สร้าง numpy array ที่มี 2 แถว 3 หลัก"
      ],
      "execution_count": 72,
      "outputs": []
    },
    {
      "cell_type": "code",
      "metadata": {
        "colab": {
          "base_uri": "https://localhost:8080/"
        },
        "id": "qCsxkqsveAXc",
        "outputId": "85419236-7270-402b-af01-7b3bc8567c8e"
      },
      "source": [
        "np_a"
      ],
      "execution_count": 73,
      "outputs": [
        {
          "output_type": "execute_result",
          "data": {
            "text/plain": [
              "array([[1, 2, 3],\n",
              "       [4, 5, 6]])"
            ]
          },
          "metadata": {},
          "execution_count": 73
        }
      ]
    },
    {
      "cell_type": "code",
      "metadata": {
        "colab": {
          "base_uri": "https://localhost:8080/"
        },
        "id": "6sF_QS0keBoU",
        "outputId": "d7c7e962-4eee-40ae-8e92-42102b37ae07"
      },
      "source": [
        "np_a.shape"
      ],
      "execution_count": 74,
      "outputs": [
        {
          "output_type": "execute_result",
          "data": {
            "text/plain": [
              "(2, 3)"
            ]
          },
          "metadata": {},
          "execution_count": 74
        }
      ]
    },
    {
      "cell_type": "code",
      "metadata": {
        "id": "oNs8o160eFN8"
      },
      "source": [
        "np_b = np.array([[1,4],[2,5],[3,6]])"
      ],
      "execution_count": 75,
      "outputs": []
    },
    {
      "cell_type": "code",
      "metadata": {
        "colab": {
          "base_uri": "https://localhost:8080/"
        },
        "id": "ARlmkN_TedLE",
        "outputId": "b0dc7476-1d28-4b62-8624-95829f46bb80"
      },
      "source": [
        "np_b"
      ],
      "execution_count": 76,
      "outputs": [
        {
          "output_type": "execute_result",
          "data": {
            "text/plain": [
              "array([[1, 4],\n",
              "       [2, 5],\n",
              "       [3, 6]])"
            ]
          },
          "metadata": {},
          "execution_count": 76
        }
      ]
    },
    {
      "cell_type": "markdown",
      "metadata": {
        "id": "DMOfotWley6X"
      },
      "source": [
        "##matrix transpose"
      ]
    },
    {
      "cell_type": "code",
      "metadata": {
        "colab": {
          "base_uri": "https://localhost:8080/"
        },
        "id": "9ywTgnSueeSF",
        "outputId": "540f691b-8dee-4741-ce94-cadc354a5d60"
      },
      "source": [
        "np_a.T"
      ],
      "execution_count": 77,
      "outputs": [
        {
          "output_type": "execute_result",
          "data": {
            "text/plain": [
              "array([[1, 4],\n",
              "       [2, 5],\n",
              "       [3, 6]])"
            ]
          },
          "metadata": {},
          "execution_count": 77
        }
      ]
    },
    {
      "cell_type": "markdown",
      "metadata": {
        "id": "GIJlm0T_fpl0"
      },
      "source": [
        "## สร้าง Matrix เริ่มต้น (Zeros,one)"
      ]
    },
    {
      "cell_type": "code",
      "metadata": {
        "id": "aaiWtDEze4U8"
      },
      "source": [
        "np_z = np.zeros((4,5))"
      ],
      "execution_count": 78,
      "outputs": []
    },
    {
      "cell_type": "code",
      "metadata": {
        "colab": {
          "base_uri": "https://localhost:8080/"
        },
        "id": "FDEkjXJxf5RS",
        "outputId": "0a6261bb-d3f4-45de-b7e1-cbf038023e14"
      },
      "source": [
        "np_z"
      ],
      "execution_count": 79,
      "outputs": [
        {
          "output_type": "execute_result",
          "data": {
            "text/plain": [
              "array([[0., 0., 0., 0., 0.],\n",
              "       [0., 0., 0., 0., 0.],\n",
              "       [0., 0., 0., 0., 0.],\n",
              "       [0., 0., 0., 0., 0.]])"
            ]
          },
          "metadata": {},
          "execution_count": 79
        }
      ]
    },
    {
      "cell_type": "code",
      "metadata": {
        "colab": {
          "base_uri": "https://localhost:8080/"
        },
        "id": "KWr9AbwQf7se",
        "outputId": "9b7c1985-bd97-49df-d934-31f40ab3fb48"
      },
      "source": [
        "np_o = np.ones((5,6))\n",
        "np_o"
      ],
      "execution_count": 80,
      "outputs": [
        {
          "output_type": "execute_result",
          "data": {
            "text/plain": [
              "array([[1., 1., 1., 1., 1., 1.],\n",
              "       [1., 1., 1., 1., 1., 1.],\n",
              "       [1., 1., 1., 1., 1., 1.],\n",
              "       [1., 1., 1., 1., 1., 1.],\n",
              "       [1., 1., 1., 1., 1., 1.]])"
            ]
          },
          "metadata": {},
          "execution_count": 80
        }
      ]
    },
    {
      "cell_type": "code",
      "metadata": {
        "colab": {
          "base_uri": "https://localhost:8080/"
        },
        "id": "3yb64lFogCMK",
        "outputId": "993c3e3f-3cf3-4cb5-a20d-8dafed14e74c"
      },
      "source": [
        "np_200 = 200 * np.ones((4,7))\n",
        "np_200"
      ],
      "execution_count": 81,
      "outputs": [
        {
          "output_type": "execute_result",
          "data": {
            "text/plain": [
              "array([[200., 200., 200., 200., 200., 200., 200.],\n",
              "       [200., 200., 200., 200., 200., 200., 200.],\n",
              "       [200., 200., 200., 200., 200., 200., 200.],\n",
              "       [200., 200., 200., 200., 200., 200., 200.]])"
            ]
          },
          "metadata": {},
          "execution_count": 81
        }
      ]
    },
    {
      "cell_type": "code",
      "metadata": {
        "id": "GFGhA901gHZ6"
      },
      "source": [
        ""
      ],
      "execution_count": 81,
      "outputs": []
    },
    {
      "cell_type": "markdown",
      "metadata": {
        "id": "ucglJIPKgZCy"
      },
      "source": [
        "## สร้าง matrix random "
      ]
    },
    {
      "cell_type": "code",
      "metadata": {
        "colab": {
          "base_uri": "https://localhost:8080/"
        },
        "id": "skap1xd7gecx",
        "outputId": "dcb81a66-6da5-4ae5-c75b-9af05f930413"
      },
      "source": [
        "np_random = np.random.randn(5,5)\n",
        "np_random"
      ],
      "execution_count": 82,
      "outputs": [
        {
          "output_type": "execute_result",
          "data": {
            "text/plain": [
              "array([[ 0.15671756,  0.52596829, -0.48763486, -0.91477478, -1.68968369],\n",
              "       [ 0.44831743, -0.2360582 , -1.11398357, -1.12264987,  0.6215286 ],\n",
              "       [ 2.00560914, -1.08014375,  1.32498067, -0.49003507, -0.54665463],\n",
              "       [-0.03516158, -0.53850725,  0.51169228, -1.31183251, -1.83314292],\n",
              "       [ 0.18093149, -1.16441158,  0.42852992, -0.23838034, -0.73074158]])"
            ]
          },
          "metadata": {},
          "execution_count": 82
        }
      ]
    },
    {
      "cell_type": "code",
      "metadata": {
        "colab": {
          "base_uri": "https://localhost:8080/"
        },
        "id": "Ph6jo7nrgwZr",
        "outputId": "0840c31f-1612-4975-8b22-66cb819594ea"
      },
      "source": [
        "2 + (5*np.random.randn(3,3))"
      ],
      "execution_count": 83,
      "outputs": [
        {
          "output_type": "execute_result",
          "data": {
            "text/plain": [
              "array([[ 3.34974365, -4.97456998,  4.37532498],\n",
              "       [ 5.51296481, -2.97710699,  0.37875586],\n",
              "       [ 1.34305699,  8.85489253,  1.98438865]])"
            ]
          },
          "metadata": {},
          "execution_count": 83
        }
      ]
    },
    {
      "cell_type": "markdown",
      "metadata": {
        "id": "jav8KOYvhUL-"
      },
      "source": [
        "**random(int)**"
      ]
    },
    {
      "cell_type": "code",
      "metadata": {
        "colab": {
          "base_uri": "https://localhost:8080/"
        },
        "id": "YUUzBc0ZhNtZ",
        "outputId": "cece10f7-f7a8-439a-fec0-cf4e307d8431"
      },
      "source": [
        "np.random.randint(5,11,(4,5))"
      ],
      "execution_count": 84,
      "outputs": [
        {
          "output_type": "execute_result",
          "data": {
            "text/plain": [
              "array([[ 5,  5,  6,  7,  9],\n",
              "       [ 6,  6,  9, 10,  8],\n",
              "       [ 9,  6, 10,  5,  5],\n",
              "       [10,  9,  8, 10,  5]])"
            ]
          },
          "metadata": {},
          "execution_count": 84
        }
      ]
    },
    {
      "cell_type": "code",
      "metadata": {
        "id": "msD8unOhhbGh",
        "colab": {
          "base_uri": "https://localhost:8080/"
        },
        "outputId": "20748ddf-96fd-483d-8746-1e8ba84b3370"
      },
      "source": [
        "1+np_a.T"
      ],
      "execution_count": 85,
      "outputs": [
        {
          "output_type": "execute_result",
          "data": {
            "text/plain": [
              "array([[2, 5],\n",
              "       [3, 6],\n",
              "       [4, 7]])"
            ]
          },
          "metadata": {},
          "execution_count": 85
        }
      ]
    },
    {
      "cell_type": "code",
      "metadata": {
        "colab": {
          "base_uri": "https://localhost:8080/"
        },
        "id": "2Wi3fk5JO_eN",
        "outputId": "927a8beb-37e2-47e3-9158-d9ec8a954db2"
      },
      "source": [
        "2*np_a"
      ],
      "execution_count": 86,
      "outputs": [
        {
          "output_type": "execute_result",
          "data": {
            "text/plain": [
              "array([[ 2,  4,  6],\n",
              "       [ 8, 10, 12]])"
            ]
          },
          "metadata": {},
          "execution_count": 86
        }
      ]
    },
    {
      "cell_type": "code",
      "metadata": {
        "id": "0zzkWecSPDv0"
      },
      "source": [
        "np_c = np.array([[6,5,4],[3,2,1]])"
      ],
      "execution_count": 87,
      "outputs": []
    },
    {
      "cell_type": "code",
      "metadata": {
        "colab": {
          "base_uri": "https://localhost:8080/"
        },
        "id": "oZIojtabP5ws",
        "outputId": "e33a54ae-8349-4e76-9386-e903b5d66902"
      },
      "source": [
        "np_a+np_c"
      ],
      "execution_count": 88,
      "outputs": [
        {
          "output_type": "execute_result",
          "data": {
            "text/plain": [
              "array([[7, 7, 7],\n",
              "       [7, 7, 7]])"
            ]
          },
          "metadata": {},
          "execution_count": 88
        }
      ]
    },
    {
      "cell_type": "code",
      "metadata": {
        "colab": {
          "base_uri": "https://localhost:8080/"
        },
        "id": "ds5ZIQclP8rk",
        "outputId": "449fffef-5636-41eb-a526-fdd3e28aeee6"
      },
      "source": [
        "np_a[[1],[1]]"
      ],
      "execution_count": 89,
      "outputs": [
        {
          "output_type": "execute_result",
          "data": {
            "text/plain": [
              "array([5])"
            ]
          },
          "metadata": {},
          "execution_count": 89
        }
      ]
    },
    {
      "cell_type": "code",
      "metadata": {
        "colab": {
          "base_uri": "https://localhost:8080/"
        },
        "id": "ioSD0xX3R4DC",
        "outputId": "b09eb943-7fde-4fce-d594-e6f517251c74"
      },
      "source": [
        "np_a[:2,:2]"
      ],
      "execution_count": 90,
      "outputs": [
        {
          "output_type": "execute_result",
          "data": {
            "text/plain": [
              "array([[1, 2],\n",
              "       [4, 5]])"
            ]
          },
          "metadata": {},
          "execution_count": 90
        }
      ]
    },
    {
      "cell_type": "code",
      "metadata": {
        "colab": {
          "base_uri": "https://localhost:8080/"
        },
        "id": "5r8qLFr8SVDK",
        "outputId": "fa754f7b-5249-49c3-d70b-3b0e6ae084e7"
      },
      "source": [
        "np_a[0,:]"
      ],
      "execution_count": 91,
      "outputs": [
        {
          "output_type": "execute_result",
          "data": {
            "text/plain": [
              "array([1, 2, 3])"
            ]
          },
          "metadata": {},
          "execution_count": 91
        }
      ]
    },
    {
      "cell_type": "markdown",
      "metadata": {
        "id": "dbZ5D9XdSmPa"
      },
      "source": [
        "## Useful functions"
      ]
    },
    {
      "cell_type": "code",
      "metadata": {
        "colab": {
          "base_uri": "https://localhost:8080/"
        },
        "id": "lA01VXSTSZJq",
        "outputId": "781b054d-1502-433d-bfd0-3a4f785aca66"
      },
      "source": [
        "np.sum(np_a)"
      ],
      "execution_count": 92,
      "outputs": [
        {
          "output_type": "execute_result",
          "data": {
            "text/plain": [
              "21"
            ]
          },
          "metadata": {},
          "execution_count": 92
        }
      ]
    },
    {
      "cell_type": "code",
      "metadata": {
        "colab": {
          "base_uri": "https://localhost:8080/"
        },
        "id": "KdVBEqArSyro",
        "outputId": "c4226b14-3e76-4e50-d5c5-fcc6f4289657"
      },
      "source": [
        "np.sum(np_a,axis=0)"
      ],
      "execution_count": 93,
      "outputs": [
        {
          "output_type": "execute_result",
          "data": {
            "text/plain": [
              "array([5, 7, 9])"
            ]
          },
          "metadata": {},
          "execution_count": 93
        }
      ]
    },
    {
      "cell_type": "code",
      "metadata": {
        "colab": {
          "base_uri": "https://localhost:8080/"
        },
        "id": "fwmk1eaSTOVJ",
        "outputId": "1447d3d6-e205-4754-f35b-4ec1c3a49e96"
      },
      "source": [
        "np.sum(np_a,axis=1)"
      ],
      "execution_count": 94,
      "outputs": [
        {
          "output_type": "execute_result",
          "data": {
            "text/plain": [
              "array([ 6, 15])"
            ]
          },
          "metadata": {},
          "execution_count": 94
        }
      ]
    },
    {
      "cell_type": "code",
      "metadata": {
        "colab": {
          "base_uri": "https://localhost:8080/"
        },
        "id": "HP0WE9cSTQjR",
        "outputId": "94ed9f3f-aed2-4579-bdcf-9199853d9636"
      },
      "source": [
        "np.mean(np_a,axis=0)"
      ],
      "execution_count": 95,
      "outputs": [
        {
          "output_type": "execute_result",
          "data": {
            "text/plain": [
              "array([2.5, 3.5, 4.5])"
            ]
          },
          "metadata": {},
          "execution_count": 95
        }
      ]
    },
    {
      "cell_type": "markdown",
      "metadata": {
        "id": "AfhzM_adVSNq"
      },
      "source": [
        "## วนลูปเอง"
      ]
    },
    {
      "cell_type": "markdown",
      "metadata": {
        "id": "56ohgkLJVVDx"
      },
      "source": [
        "## Summation"
      ]
    },
    {
      "cell_type": "code",
      "metadata": {
        "colab": {
          "base_uri": "https://localhost:8080/"
        },
        "id": "OlDmYVDRToIw",
        "outputId": "e9770375-0127-4985-cf3e-9fc9f57e24e5"
      },
      "source": [
        "np_a.shape"
      ],
      "execution_count": 96,
      "outputs": [
        {
          "output_type": "execute_result",
          "data": {
            "text/plain": [
              "(2, 3)"
            ]
          },
          "metadata": {},
          "execution_count": 96
        }
      ]
    },
    {
      "cell_type": "markdown",
      "metadata": {
        "id": "LdQUNXJbWtav"
      },
      "source": [
        "**np.sum(np_a)**"
      ]
    },
    {
      "cell_type": "code",
      "metadata": {
        "colab": {
          "base_uri": "https://localhost:8080/"
        },
        "id": "8g1eBuIWVbdn",
        "outputId": "c04fb491-95e2-4ea2-c846-ac79c4ea36e8"
      },
      "source": [
        "sum_all =0\n",
        "\n",
        "for row in range(np_a.shape[0]):\n",
        "    for col in range(np_a.shape[1]):\n",
        "        sum_all =sum_all + np_a[row,col]\n",
        "        print(f'we are aat now = {row} , col = {col} , np_a[{row},{col}] , sum_all = {sum_all}')"
      ],
      "execution_count": 97,
      "outputs": [
        {
          "output_type": "stream",
          "name": "stdout",
          "text": [
            "we are aat now = 0 , col = 0 , np_a[0,0] , sum_all = 1\n",
            "we are aat now = 0 , col = 1 , np_a[0,1] , sum_all = 3\n",
            "we are aat now = 0 , col = 2 , np_a[0,2] , sum_all = 6\n",
            "we are aat now = 1 , col = 0 , np_a[1,0] , sum_all = 10\n",
            "we are aat now = 1 , col = 1 , np_a[1,1] , sum_all = 15\n",
            "we are aat now = 1 , col = 2 , np_a[1,2] , sum_all = 21\n"
          ]
        }
      ]
    },
    {
      "cell_type": "code",
      "metadata": {
        "colab": {
          "base_uri": "https://localhost:8080/"
        },
        "id": "d_6ukkWcWJgX",
        "outputId": "526af994-557d-4458-dad8-4f5b71ce27e2"
      },
      "source": [
        "np_a"
      ],
      "execution_count": 98,
      "outputs": [
        {
          "output_type": "execute_result",
          "data": {
            "text/plain": [
              "array([[1, 2, 3],\n",
              "       [4, 5, 6]])"
            ]
          },
          "metadata": {},
          "execution_count": 98
        }
      ]
    },
    {
      "cell_type": "markdown",
      "metadata": {
        "id": "2_mjT1lfW0CP"
      },
      "source": [
        "**np.sum(np_a,axis=0)**"
      ]
    },
    {
      "cell_type": "code",
      "metadata": {
        "colab": {
          "base_uri": "https://localhost:8080/"
        },
        "id": "82Izsu6UWN_e",
        "outputId": "b4c7ded3-8c83-4a7a-a253-4f67de98cb95"
      },
      "source": [
        "sum_all = np.zeros(np_a.shape[1])\n",
        "\n",
        "\n",
        "for row in range(np_a.shape[0]):\n",
        "    for col in range(np_a.shape[1]):\n",
        "        sum_all[col] =sum_all[col] + np_a[row,col]\n",
        "print(sum_all)"
      ],
      "execution_count": 99,
      "outputs": [
        {
          "output_type": "stream",
          "name": "stdout",
          "text": [
            "[5. 7. 9.]\n"
          ]
        }
      ]
    },
    {
      "cell_type": "code",
      "metadata": {
        "colab": {
          "base_uri": "https://localhost:8080/"
        },
        "id": "7do0XEQjXmFm",
        "outputId": "16aad561-2ff9-42f7-eedd-edff7cad377a"
      },
      "source": [
        "sum_all = np.zeros(np_a.shape[0])\n",
        "\n",
        "\n",
        "for row in range(np_a.shape[0]):\n",
        "    for col in range(np_a.shape[1]):\n",
        "        sum_all[row] =sum_all[row] + np_a[row,col]\n",
        "print(sum_all)"
      ],
      "execution_count": 100,
      "outputs": [
        {
          "output_type": "stream",
          "name": "stdout",
          "text": [
            "[ 6. 15.]\n"
          ]
        }
      ]
    },
    {
      "cell_type": "markdown",
      "metadata": {
        "id": "hoMYmh1AYi2I"
      },
      "source": [
        "## Quiz กลุ่ม"
      ]
    },
    {
      "cell_type": "markdown",
      "metadata": {
        "id": "2sSRLu_CYoCY"
      },
      "source": [
        "วนลูปหาค่า\n",
        "* np.sum(np_a,axis=1)\n",
        "* np.mean(np_a)\n",
        "* np.mean(np_a,axis=0)\n",
        "* np.mean(np_a,axis=1)"
      ]
    },
    {
      "cell_type": "code",
      "metadata": {
        "colab": {
          "base_uri": "https://localhost:8080/"
        },
        "id": "46KSw-0PYUzt",
        "outputId": "49f31272-d04f-4016-e8f9-ed738acf2fb4"
      },
      "source": [
        "sum_all = np.zeros(np_a.shape[0])\n",
        "\n",
        "\n",
        "for row in range(np_a.shape[0]):\n",
        "    for col in range(np_a.shape[1]):\n",
        "        sum_all[row] =sum_all[row] + np_a[row,col]\n",
        "        print(f'we are at now = {row} , col = {col} , np_a[{row},{col}] , sum_all = {sum_all}')\n",
        "print(sum_all)"
      ],
      "execution_count": 101,
      "outputs": [
        {
          "output_type": "stream",
          "name": "stdout",
          "text": [
            "we are at now = 0 , col = 0 , np_a[0,0] , sum_all = [1. 0.]\n",
            "we are at now = 0 , col = 1 , np_a[0,1] , sum_all = [3. 0.]\n",
            "we are at now = 0 , col = 2 , np_a[0,2] , sum_all = [6. 0.]\n",
            "we are at now = 1 , col = 0 , np_a[1,0] , sum_all = [6. 4.]\n",
            "we are at now = 1 , col = 1 , np_a[1,1] , sum_all = [6. 9.]\n",
            "we are at now = 1 , col = 2 , np_a[1,2] , sum_all = [ 6. 15.]\n",
            "[ 6. 15.]\n"
          ]
        }
      ]
    },
    {
      "cell_type": "code",
      "metadata": {
        "colab": {
          "base_uri": "https://localhost:8080/"
        },
        "id": "VFPQeBJbZB1V",
        "outputId": "84d5e78f-3a3a-4730-8f5c-f5777e01f54b"
      },
      "source": [
        "np.sum(np_a,axis=1)"
      ],
      "execution_count": 102,
      "outputs": [
        {
          "output_type": "execute_result",
          "data": {
            "text/plain": [
              "array([ 6, 15])"
            ]
          },
          "metadata": {},
          "execution_count": 102
        }
      ]
    },
    {
      "cell_type": "markdown",
      "metadata": {
        "id": "L6Qeoit4c4cD"
      },
      "source": [
        "**ข้อ 5**"
      ]
    },
    {
      "cell_type": "markdown",
      "metadata": {
        "id": "SrxZVBbtZSfQ"
      },
      "source": [
        "np.max(np_a)"
      ]
    },
    {
      "cell_type": "code",
      "metadata": {
        "colab": {
          "base_uri": "https://localhost:8080/"
        },
        "id": "OFijJ57EZFit",
        "outputId": "726a1f47-fddd-4a2c-e258-e3d2144ad70d"
      },
      "source": [
        "max_a = 0\n",
        "\n",
        "\n",
        "for row in range(np_a.shape[0]):\n",
        "    for col in range(np_a.shape[1]):\n",
        "        if max_a >= 0:\n",
        "            max_a = np_a[row,col]\n",
        "print(max_a)"
      ],
      "execution_count": 103,
      "outputs": [
        {
          "output_type": "stream",
          "name": "stdout",
          "text": [
            "6\n"
          ]
        }
      ]
    },
    {
      "cell_type": "code",
      "metadata": {
        "colab": {
          "base_uri": "https://localhost:8080/"
        },
        "id": "C2ANSyqpZfeM",
        "outputId": "34e70339-4801-4264-ec66-8f0d311033b7"
      },
      "source": [
        "np.max(np_a)"
      ],
      "execution_count": 104,
      "outputs": [
        {
          "output_type": "execute_result",
          "data": {
            "text/plain": [
              "6"
            ]
          },
          "metadata": {},
          "execution_count": 104
        }
      ]
    },
    {
      "cell_type": "markdown",
      "metadata": {
        "id": "0iu6v8J3c-Dm"
      },
      "source": [
        "**ข้อ 6**"
      ]
    },
    {
      "cell_type": "code",
      "metadata": {
        "colab": {
          "base_uri": "https://localhost:8080/"
        },
        "id": "v0Z04cneZuS8",
        "outputId": "dd847bd4-5330-4479-a31a-93e9529964f8"
      },
      "source": [
        "max_a0 = np.zeros(np_a.shape[1])\n",
        "\n",
        "for row in range(np_a.shape[0]):\n",
        "    for col in range(np_a.shape[1]):\n",
        "        if max_a0[col] >= 1:\n",
        "            max_a0[col] = np_a[row,col]\n",
        "print(max_a0)"
      ],
      "execution_count": 119,
      "outputs": [
        {
          "output_type": "stream",
          "name": "stdout",
          "text": [
            "[0. 0. 0.]\n"
          ]
        }
      ]
    },
    {
      "cell_type": "code",
      "metadata": {
        "colab": {
          "base_uri": "https://localhost:8080/"
        },
        "id": "lITKGteWcOWy",
        "outputId": "aafd5de2-5c64-41ef-b994-bd16c447adcf"
      },
      "source": [
        "np.max(np_a,axis=0)"
      ],
      "execution_count": 117,
      "outputs": [
        {
          "output_type": "execute_result",
          "data": {
            "text/plain": [
              "array([4, 5, 6])"
            ]
          },
          "metadata": {},
          "execution_count": 117
        }
      ]
    },
    {
      "cell_type": "markdown",
      "metadata": {
        "id": "oozvCWUbc_nd"
      },
      "source": [
        "**ข้อ 7**"
      ]
    },
    {
      "cell_type": "code",
      "metadata": {
        "colab": {
          "base_uri": "https://localhost:8080/"
        },
        "id": "EKw3YWZscl_4",
        "outputId": "25705aa1-c5b4-49d0-d318-1370765c54a2"
      },
      "source": [
        "max_a1 = np.zeros(np_a.shape[0])\n",
        "\n",
        "\n",
        "for row in range(np_a.shape[0]):\n",
        "    for col in range(np_a.shape[1]):\n",
        "        if max_a1[row] >= 1:\n",
        "            max_a1[row] = np_a[row,col]\n",
        "print(max_a1)"
      ],
      "execution_count": 125,
      "outputs": [
        {
          "output_type": "stream",
          "name": "stdout",
          "text": [
            "[0. 0.]\n"
          ]
        }
      ]
    },
    {
      "cell_type": "code",
      "metadata": {
        "colab": {
          "base_uri": "https://localhost:8080/"
        },
        "id": "pmvcrEGBczRB",
        "outputId": "87427d26-4cac-4be4-d911-cce911a1f9d6"
      },
      "source": [
        "np.max(np_a,axis=1)"
      ],
      "execution_count": 122,
      "outputs": [
        {
          "output_type": "execute_result",
          "data": {
            "text/plain": [
              "array([3, 6])"
            ]
          },
          "metadata": {},
          "execution_count": 122
        }
      ]
    },
    {
      "cell_type": "markdown",
      "metadata": {
        "id": "uh7-81kxdBbj"
      },
      "source": [
        "**ข้อ 8**"
      ]
    },
    {
      "cell_type": "code",
      "metadata": {
        "colab": {
          "base_uri": "https://localhost:8080/"
        },
        "id": "6kicuTf9c1fZ",
        "outputId": "7848b219-3dc2-4b88-a370-5e11c444289e"
      },
      "source": [
        "min_a = 0\n",
        "\n",
        "\n",
        "for row in range(np_a.shape[0]):\n",
        "    for col in range(np_a.shape[1]):\n",
        "        if min_a <= 0:\n",
        "            min_a = np_a[row,col]\n",
        "print(min_a)"
      ],
      "execution_count": 111,
      "outputs": [
        {
          "output_type": "stream",
          "name": "stdout",
          "text": [
            "1\n"
          ]
        }
      ]
    },
    {
      "cell_type": "code",
      "metadata": {
        "colab": {
          "base_uri": "https://localhost:8080/"
        },
        "id": "k2zakSbfdJUg",
        "outputId": "bde62f0a-76ac-4529-c8fd-35b445e2d6cd"
      },
      "source": [
        "np.min(np_a)"
      ],
      "execution_count": 110,
      "outputs": [
        {
          "output_type": "execute_result",
          "data": {
            "text/plain": [
              "1"
            ]
          },
          "metadata": {},
          "execution_count": 110
        }
      ]
    },
    {
      "cell_type": "markdown",
      "metadata": {
        "id": "_WHkvelCdT4n"
      },
      "source": [
        "**ข้อ 9**"
      ]
    },
    {
      "cell_type": "code",
      "metadata": {
        "colab": {
          "base_uri": "https://localhost:8080/"
        },
        "id": "eMCtMzl-dOng",
        "outputId": "e0224b2b-01d4-41a1-a707-0c0c251e1adb"
      },
      "source": [
        "min_a0 = np.zeros(np_a.shape[1])\n",
        "\n",
        "\n",
        "for row in range(np_a.shape[0]):\n",
        "    for col in range(np_a.shape[1]):\n",
        "        if min_a0[col] <= 0:\n",
        "            min_a0[col] = np_a[row,col]\n",
        "print(min_a0)"
      ],
      "execution_count": 108,
      "outputs": [
        {
          "output_type": "stream",
          "name": "stdout",
          "text": [
            "[1. 2. 3.]\n"
          ]
        }
      ]
    },
    {
      "cell_type": "code",
      "metadata": {
        "colab": {
          "base_uri": "https://localhost:8080/"
        },
        "id": "0GQHvVrkd3Be",
        "outputId": "b893695d-450f-4aef-e6f3-0ab4bd30e2b0"
      },
      "source": [
        "np.min(np_a,axis=0)"
      ],
      "execution_count": 109,
      "outputs": [
        {
          "output_type": "execute_result",
          "data": {
            "text/plain": [
              "array([1, 2, 3])"
            ]
          },
          "metadata": {},
          "execution_count": 109
        }
      ]
    },
    {
      "cell_type": "markdown",
      "metadata": {
        "id": "RwVjNI0_dU-d"
      },
      "source": [
        "**ข้อ 10**"
      ]
    },
    {
      "cell_type": "code",
      "metadata": {
        "colab": {
          "base_uri": "https://localhost:8080/"
        },
        "id": "IS4jdOaNeywo",
        "outputId": "0a128368-190f-4547-b283-6909f29cff39"
      },
      "source": [
        "min_a1 = np.zeros(np_a.shape[0])\n",
        "\n",
        "\n",
        "for row in range(np_a.shape[0]):\n",
        "    for col in range(np_a.shape[1]):\n",
        "        if min_a1[row] <= 0:\n",
        "            min_a1[row] = np_a[row,col]\n",
        "print(min_a1)"
      ],
      "execution_count": 107,
      "outputs": [
        {
          "output_type": "stream",
          "name": "stdout",
          "text": [
            "[1. 4.]\n"
          ]
        }
      ]
    },
    {
      "cell_type": "code",
      "metadata": {
        "colab": {
          "base_uri": "https://localhost:8080/"
        },
        "id": "J4Fwk2Mbez8L",
        "outputId": "6f67280e-8090-47b4-e37e-a502f1765f21"
      },
      "source": [
        "np.min(np_a,axis=1)"
      ],
      "execution_count": 106,
      "outputs": [
        {
          "output_type": "execute_result",
          "data": {
            "text/plain": [
              "array([1, 4])"
            ]
          },
          "metadata": {},
          "execution_count": 106
        }
      ]
    },
    {
      "cell_type": "markdown",
      "metadata": {
        "id": "alCjiG2y9Xd4"
      },
      "source": [
        "**Distance Matrix**"
      ]
    },
    {
      "cell_type": "code",
      "metadata": {
        "id": "HitvTkSc9aKd",
        "outputId": "f0aec707-a64a-4b91-9b6e-ddcb49671d30",
        "colab": {
          "base_uri": "https://localhost:8080/"
        }
      },
      "source": [
        "data1 = np.array([[1,2],[3,5],[2,0],[4,5]])\n",
        "data1"
      ],
      "execution_count": 126,
      "outputs": [
        {
          "output_type": "execute_result",
          "data": {
            "text/plain": [
              "array([[1, 2],\n",
              "       [3, 5],\n",
              "       [2, 0],\n",
              "       [4, 5]])"
            ]
          },
          "metadata": {},
          "execution_count": 126
        }
      ]
    },
    {
      "cell_type": "code",
      "metadata": {
        "id": "-MEr5_PX9dGw"
      },
      "source": [
        "from matplotlib import pyplot as plt\n",
        "plt.scatter(data1[:,0],data1[:,1])"
      ],
      "execution_count": null,
      "outputs": []
    },
    {
      "cell_type": "markdown",
      "metadata": {
        "id": "goJ4MeBv9gkW"
      },
      "source": [
        "**Euclidean Distance (L2-norm)**"
      ]
    },
    {
      "cell_type": "markdown",
      "metadata": {
        "id": "Juzsdviy997_"
      },
      "source": [
        "$\\sqrt{(x_1-x_2)^2+(y_1-y_2)^2}$"
      ]
    },
    {
      "cell_type": "code",
      "metadata": {
        "id": "qIFkC48g9dD8"
      },
      "source": [
        "dist_p1_p2 = np.sqrt(np.power(data1[0,0]-data1[1,0],2) + np.power(data1[0,1]-data1[1,1],2))\n",
        "dist_p1_p2"
      ],
      "execution_count": null,
      "outputs": []
    },
    {
      "cell_type": "code",
      "metadata": {
        "id": "P5oshPlc9c_4"
      },
      "source": [
        "dist_p1_p2 = np.power(np.power(data1[0,0]-data1[1,0],2) + np.power(data1[0,1]-data1[1,1],2),0.5)\n",
        "dist_p1_p2"
      ],
      "execution_count": null,
      "outputs": []
    },
    {
      "cell_type": "code",
      "metadata": {
        "id": "iwtGgYnA9c9h"
      },
      "source": [
        "dist_p2_p4 = np.sqrt(np.power(data1[1,0]-data1[3,0],2) + np.power(data1[1,1]-data1[3,1],2))\n",
        "dist_p2_p4"
      ],
      "execution_count": null,
      "outputs": []
    },
    {
      "cell_type": "markdown",
      "metadata": {
        "id": "GZ9kkFC69mE2"
      },
      "source": [
        "**Distance function**"
      ]
    },
    {
      "cell_type": "code",
      "metadata": {
        "id": "qnPHsvvc9c7g"
      },
      "source": [
        "def dist_l2_2(p1,p2):\n",
        "    return np.sqrt(np.power(p1[0]-p2[0],2) + np.power(p1[1]-p2[1],2))"
      ],
      "execution_count": null,
      "outputs": []
    },
    {
      "cell_type": "code",
      "metadata": {
        "id": "59q8mePt9o8Z"
      },
      "source": [
        "dist_l2_2(data1[0,:],data1[1,:])"
      ],
      "execution_count": null,
      "outputs": []
    },
    {
      "cell_type": "code",
      "metadata": {
        "id": "-8qztVyT9o55"
      },
      "source": [
        "dist_l2_2(data1[1,:],data1[3,:])"
      ],
      "execution_count": null,
      "outputs": []
    },
    {
      "cell_type": "code",
      "metadata": {
        "id": "P4SHhdYr9o3u"
      },
      "source": [
        "def dist_l2_n(p1,p2):\n",
        "    sum = 0\n",
        "    for i in range(len(p1)):\n",
        "        sum = sum + np.power(p1[i]-p2[i],2)\n",
        "    return np.sqrt(sum)"
      ],
      "execution_count": null,
      "outputs": []
    },
    {
      "cell_type": "code",
      "metadata": {
        "id": "OsdZKy9S9o1B"
      },
      "source": [
        "dist_l2_n(data1[0,:],data1[1,:])"
      ],
      "execution_count": null,
      "outputs": []
    },
    {
      "cell_type": "markdown",
      "metadata": {
        "id": "2hqU8fLV9zcY"
      },
      "source": [
        "**Manhattan Distance (L1-norm)**"
      ]
    },
    {
      "cell_type": "markdown",
      "metadata": {
        "id": "kfFX219H950T"
      },
      "source": [
        "$|x_1-x_2|+|y_1-y_2|$"
      ]
    },
    {
      "cell_type": "markdown",
      "metadata": {
        "id": "AhUtYetu-BFE"
      },
      "source": [
        "**quiz6**"
      ]
    },
    {
      "cell_type": "markdown",
      "metadata": {
        "id": "eHkKBEMS-DN-"
      },
      "source": [
        "เขียน function คำนวณ manhattan distance ของ ข้อมูล 2 dimensions"
      ]
    },
    {
      "cell_type": "markdown",
      "metadata": {
        "id": "64rnBbMc-Edq"
      },
      "source": [
        "**HW11**"
      ]
    },
    {
      "cell_type": "markdown",
      "metadata": {
        "id": "yK7TpeUH-Hzk"
      },
      "source": [
        "* Function คำนวณ manhattan distance ของ ข้อมูล N dimensions\n",
        "* Function คำนวณ L-$\\infty$ ของ ข้อมูล N dimensions\n",
        "* Function คำนวณ Distance Matrix ด้วย Euclidean Distance"
      ]
    },
    {
      "cell_type": "code",
      "metadata": {
        "id": "u_bXeVoD9c47"
      },
      "source": [
        ""
      ],
      "execution_count": null,
      "outputs": []
    },
    {
      "cell_type": "code",
      "metadata": {
        "id": "bc9BT8p19c0g"
      },
      "source": [
        ""
      ],
      "execution_count": null,
      "outputs": []
    },
    {
      "cell_type": "code",
      "metadata": {
        "id": "q-Rgi2599cyE"
      },
      "source": [
        ""
      ],
      "execution_count": null,
      "outputs": []
    },
    {
      "cell_type": "code",
      "metadata": {
        "id": "N268RQhv9b_u"
      },
      "source": [
        ""
      ],
      "execution_count": null,
      "outputs": []
    }
  ]
}